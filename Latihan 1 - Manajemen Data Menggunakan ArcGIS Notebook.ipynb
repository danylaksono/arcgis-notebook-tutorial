{
 "cells": [
  {
   "cell_type": "markdown",
   "metadata": {
    "slideshow": {
     "slide_type": "slide"
    }
   },
   "source": [
    "## Latihan 1: Manajemen Data Menggunakan ArcGIS Notebook\n"
   ]
  },
  {
   "cell_type": "markdown",
   "metadata": {},
   "source": [
    "Notebook ini berisi beberapa contoh dasar penggunaan ArGIS Notebook untuk melakukan manajemen data spasial pada portal ArcGIS Online maupun ArcGIS Enterprise. Bahasan pada Notebook ini antara lain:\n",
    "\n",
    "1. Melakukan Koneksi ke Geoportal\n",
    "2. Mencari item pada portal dengan Query\n",
    "3. Menampilkan hasil pencarian pada peta\n",
    "4. Melakukan analisis sederhana dengan Pandas\n",
    "5. Melakukan analisis spasial sederhana\n"
   ]
  },
  {
   "cell_type": "markdown",
   "metadata": {
    "slideshow": {
     "slide_type": "slide"
    }
   },
   "source": [
    "### Membuat Koneksi ke Geoportal"
   ]
  },
  {
   "cell_type": "markdown",
   "metadata": {},
   "source": [
    "Koneksi ke geoportal dilakukan dengan menggunakan modul `gis` pada ArcGIS API for Python. Koneksi ini diperlukan untuk dapat mengakses dan melakukan operasi pada portal Beberapa koneksi sekaligus dapat dibuat pada satu notebook yang sama, sehingga dapat digunakan untuk mengakses data dari sumber yang berbeda."
   ]
  },
  {
   "cell_type": "code",
   "execution_count": 1,
   "metadata": {
    "slideshow": {
     "slide_type": "subslide"
    }
   },
   "outputs": [],
   "source": [
    "# Memanggil modul GIS dari arcgis for python\n",
    "from arcgis.gis import GIS"
   ]
  },
  {
   "cell_type": "markdown",
   "metadata": {},
   "source": [
    "Beberapa koneksi sekaligus dapat dibuat untuk mengakses data dari portal yang berbeda, seperti berikut:"
   ]
  },
  {
   "cell_type": "code",
   "execution_count": 2,
   "metadata": {
    "slideshow": {
     "slide_type": "subslide"
    }
   },
   "outputs": [],
   "source": [
    "# Koneksi sebagai pengguna Anonymous\n",
    "\n",
    "gis = GIS()"
   ]
  },
  {
   "cell_type": "code",
   "execution_count": 3,
   "metadata": {
    "slideshow": {
     "slide_type": "subslide"
    }
   },
   "outputs": [],
   "source": [
    "# Koneksi sebagai pengguna yang saat ini login ke ArcGIS Online/Portal\n",
    "\n",
    "gis1 = GIS(\"home\")"
   ]
  },
  {
   "cell_type": "code",
   "execution_count": 31,
   "metadata": {
    "slideshow": {
     "slide_type": "subslide"
    }
   },
   "outputs": [],
   "source": [
    "# Koneksi sebagai pengguna portal lain, seperti SIGI PUPR\n",
    "\n",
    "gis2 = GIS('https://sigi.pu.go.id/portalpupr/', 'Admin_BPII', 'Pusdatin2020')"
   ]
  },
  {
   "cell_type": "markdown",
   "metadata": {
    "slideshow": {
     "slide_type": "subslide"
    }
   },
   "source": [
    "Koneksi dapat dilakukan pada beberapa akun yang berbeda dengan menggunakan nama identifier yang unik untuk tiap koneksi"
   ]
  },
  {
   "cell_type": "markdown",
   "metadata": {
    "slideshow": {
     "slide_type": "slide"
    }
   },
   "source": [
    "### Mencari Item pada Portal"
   ]
  },
  {
   "cell_type": "markdown",
   "metadata": {
    "slideshow": {
     "slide_type": "subslide"
    }
   },
   "source": [
    "Tiap koneksi dapat digunakan untuk mencari data pada portal yang terkait. Koneksi anonymous hanya dapat mengakses data yang memiliki hak akses `public`. Data pada portal yang terkunci memerlukan username dan password agar dapat diakses. Pencarian pada koneksi ini dapat dilakukan dengan menggunakan modul `content` pada `arcgis.gis`."
   ]
  },
  {
   "cell_type": "code",
   "execution_count": 5,
   "metadata": {
    "slideshow": {
     "slide_type": "skip"
    }
   },
   "outputs": [],
   "source": [
    "# Menampilkan bantuan untuk content search. tanda `?` dapat digunakan untuk menampilkan parameter apa saja yang digunakan pada sebuah function\n",
    "\n",
    "gis.content.search?"
   ]
  },
  {
   "cell_type": "markdown",
   "metadata": {
    "slideshow": {
     "slide_type": "subslide"
    }
   },
   "source": [
    "Contoh pencarian layer dari Portal SIGI adalah sebagai berikut:"
   ]
  },
  {
   "cell_type": "code",
   "execution_count": 6,
   "metadata": {
    "slideshow": {
     "slide_type": "slide"
    }
   },
   "outputs": [
    {
     "data": {
      "text/plain": [
       "[<Item title:\"Infrastruktur PUPR\" type:Feature Layer Collection owner:Sigiportal>,\n",
       " <Item title:\"RI_RENCANA INFRASTRUKTUR\" type:Feature Layer Collection owner:admin_BPIW>,\n",
       " <Item title:\"Infrastruktur_Cipta_Karya\" type:Feature Collection owner:Sigiportal>]"
      ]
     },
     "execution_count": 6,
     "metadata": {},
     "output_type": "execute_result"
    }
   ],
   "source": [
    "# menggunakan koneksi 2 (ke portal SIGI) untuk melakukan pencarian\n",
    "# tanda wildcard (*) digunakan untuk mencari semua karakter\n",
    "pencarianSIGI = gis2.content.search(query=\"title:Infrastruktur*\", item_type=\"Feature *\")\n",
    "\n",
    "# Memanggil hasil pencarian untuk ditampilkan pada notebook\n",
    "pencarianSIGI"
   ]
  },
  {
   "cell_type": "markdown",
   "metadata": {},
   "source": [
    "Menampilkan hasil pencarian dengan IPython. IPython dapat digunakan untuk berkomunikasi langsung dengan Jupyter Notebook, seperti menampilkan item dengan format tertentu"
   ]
  },
  {
   "cell_type": "code",
   "execution_count": 7,
   "metadata": {
    "slideshow": {
     "slide_type": "slide"
    }
   },
   "outputs": [
    {
     "data": {
      "text/html": [
       "<div class=\"item_container\" style=\"height: auto; overflow: hidden; border: 1px solid #cfcfcf; border-radius: 2px; background: #f6fafa; line-height: 1.21429em; padding: 10px;\">\n",
       "                    <div class=\"item_left\" style=\"width: 210px; float: left;\">\n",
       "                       <a href='https://sigi.pu.go.id/portalpupr//home/item.html?id=ceb0ecc55e024d2fa149f7ff93488b70' target='_blank'>\n",
       "                        <img src='data:image/png;base64,/9j/4AAQSkZJRgABAQEAAQABAAD/2wBDAAgGBgcGBQgHBwcJCQgKDBQNDAsLDBkSEw8UHRofHh0aHBwgJC4nICIsIxwcKDcpLDAxNDQ0Hyc5PTgyPC4zNDL/2wBDAQkJCQwLDBgNDRgyIRwhMjIyMjIyMjIyMjIyMjIyMjIyMjIyMjIyMjIyMjIyMjIyMjIyMjIyMjIyMjIyMjIyMjL/wAARCADIASwDASIAAhEBAxEB/8QAHwAAAQUBAQEBAQEAAAAAAAAAAAECAwQFBgcICQoL/8QAtRAAAgEDAwIEAwUFBAQAAAF9AQIDAAQRBRIhMUEGE1FhByJxFDKBkaEII0KxwRVS0fAkM2JyggkKFhcYGRolJicoKSo0NTY3ODk6Q0RFRkdISUpTVFVWV1hZWmNkZWZnaGlqc3R1dnd4eXqDhIWGh4iJipKTlJWWl5iZmqKjpKWmp6ipqrKztLW2t7i5usLDxMXGx8jJytLT1NXW19jZ2uHi4+Tl5ufo6erx8vP09fb3+Pn6/8QAHwEAAwEBAQEBAQEBAQAAAAAAAAECAwQFBgcICQoL/8QAtREAAgECBAQDBAcFBAQAAQJ3AAECAxEEBSExBhJBUQdhcRMiMoEIFEKRobHBCSMzUvAVYnLRChYkNOEl8RcYGRomJygpKjU2Nzg5OkNERUZHSElKU1RVVldYWVpjZGVmZ2hpanN0dXZ3eHl6goOEhYaHiImKkpOUlZaXmJmaoqOkpaanqKmqsrO0tba3uLm6wsPExcbHyMnK0tPU1dbX2Nna4uPk5ebn6Onq8vP09fb3+Pn6/9oADAMBAAIRAxEAPwD3+iiigAooooAKKKKACiiigAooooAKKKKACiiigAooooAKKKKACiiigAooooAKKKKACiiigAooooAKKKKACiiigAooooAKKKKACiiigAooooAKKKKACiiigAooooAKKKKACiiigAooooAKKKKACiiigAooooAKKKKACiiigAooooAKKKKACiiigAooooAKKKKACiiigAooooAKKKKACiiigAooooAKKKKACiiigAooooAKKKKACiiigAoqGeZbeF5XztUZOBk/gKejB0DDOCMjIwaV1ew7O1x9FFFMQUUUUAFFFFABRRRQAUUUUAFFFFABRRRQAUUUUAFFFFABRRRQAUUUUAFFFFABRRRQAUUUUAFFFFABRRRQAUUUUAFY2t+ILbQ3thcKWE7EfKeVAxk479a2a4rxxpEd0be7MjmTHkxwoMl3Jyu0fnn8KxrzlCDlFag02tNzswQygjoRkU6q9oJ1tIRdMrThB5hUYBbHOKsVsAUUUUAFFFFABRRRQAUUUUAFFFFABRRRQAUUUUAFFFFABRRRQAUUUUAFFFFABRRRQAUUUUAFFFFABRRRQAUUUUAFFFFABXJf2RdXvihri6v5THaSiVIBGdmD93Bz14APHY+tdbWZf6RbX7I5LxTI6ussRwwIyB+GCaiceZITNOiiirGFFFFABRRRQAUUUUAFFFFABRRRQAUUUUAFFFFABRRRQAUUUUAFFFFABRRRQAUUUUAFFFFABRRRQAUUUUAFFFFABRRRQAUUUUAFFFFABRRRQAUUUUAFFFFABRRRQAUUUUAFFFFABRRRQAUUUUAFFFFABRRRQAUUUUAFFFFABRRRQAUUUUAFFFFABRRRQAUUUUAFFFFABRRRQAUUUUAFFFc1rniy00h/s8eJrkH5kBOEGOpP9Kic4wXNITaW50tFc/4Y8QLrloyycXUP+sAXAIPQiugpwmprmQ731QUUUVQBRRRQAUUUUAFFFFABRRRQAUUUUAFFFFABRRRQAUUUUAFFFFABRRRQAUUUUAFFFFABRRRQAUUUUAFFFFABVFNQjZrourRRW/WV+EYY5IPtVwsFUsxAAGST2rgtSvLnxbqg07Ti39nRlTO4+UHnqfUeg9efplVnyJW37EzmorzOpvbtjbNeWVxFIluJC6Kch2C8KSOmDXkdzM9xdSzyYMkrl2x0yTk17LbafbW2nrZQptgVNm319c+571ytt8O7JB++u52+YnamAAPTJyT9a58VRqVbWM6tNzirblrwLAV0iSeSNVZn2IQOqAf4lq62oba3itbeO3hXZFGoVF9AKmroo01TgoI202QUUUVqAUUUUAFFFFABRRRQAUUUUAFFFFABRRRQAUUUUAFFFFABRRRQAUUUUAFFFFABRRRQAUUUUAFFQpNHJI6JIrNGQHUHJU4zz6cEVNQAUUUUAcn421KS20o20UixtN8rburp3C/yNcHpesXujzNJZyhN+3epUEMAenPTv09a3fHF7DNqptlXdJCoBf0J52/TkVzFxbPDHGWaNvMXcArAkD0PpXh160vbPXZ2RyVm/aXiz2bTppLmwt5poxG8kauVBzgkAn9c1crn7a9t9B8LWct4WQLCo2D5mZiM7R+vtXI6t42vrq5B093trdegwCzH1PX8q9SeIhTS5tzedWMN9z0zcAQCRk9BTq828G35udbKXk88s7ITEXcsCQOc59q9Jq6NX2sea1ioyjKKcQooorUoKKKKACiiigAooooAKKKKACiiigAooooAKKKKACiiigAooooAKKKKACiiigAooooAKKKhEKi4M2W3FQMZ4x9KAHKiKzFVAZzliB1OMc/lUlFFABUNxJ5NvJIWC7VJ3HoKmqhdSXCXFuqQGWF22yYx8o/vHJ6frzSbsNK7PJdQhihCs1zJPcyEvIzIQDnnPPetjw54Vnv3jvbxBHYqxLLJlWcAZyBjpnHP1rodS0G/PiZNZt44J4o9hFuDtdgBjvxnuOR0rY12O7udBuIrW3ka4nj2BAygrnrkk4/KvMo4Pku6jbt+JgqMVJysc9rOs6HqEMnk3BaZE8uLereWPUhfp3+lcCevXP0rd/4Q7Xv+fA/9/U/+KrpNK8A2scMb6k8kspUFolO1VJ6jI5OPUEVj9XrVajm1a/yM581ZLSzRR+H9pvvLm6KsPLQKrY4Oc5Gfw7V6JUUMMdvEsUUapGowqqMAD6VLXq0aSpQ5TohHliohRRRWpQUUUUAFFFFABRRRQAUUUUAFFFFABRRRQAUUUUAFFFFABRRRQAUUUUAFFFFABRRRQAUUUUAFFFFABRRRQAUUUUAFFFFABRRRQAUUUUAFFFFABRRRQAUUUUAFFFFABRRRQAUUUUAFFFFABRRRQAUUUUAFFFFABRRRQAUUUUAFFFFABRRRQAUUUUAFFFFABRRRQAUUUUAFFFFABRRRQAUUUUAFFFFABRRRQAUUUUAFFFFABRRRQAUUUUAFFFFABRRRQAUUUUAFFFFABRRRQAUUUUAFFFFABRRRQAUUUUAFFFFABRRRQAUUUUAFFFFABRRRQAUUUUAFFFFABRRRQB//2Q==' width='200' height='133' class=\"itemThumbnail\">\n",
       "                       </a>\n",
       "                    </div>\n",
       "\n",
       "                    <div class=\"item_right\"     style=\"float: none; width: auto; overflow: hidden;\">\n",
       "                        <a href='https://sigi.pu.go.id/portalpupr//home/item.html?id=ceb0ecc55e024d2fa149f7ff93488b70' target='_blank'><b>Infrastruktur PUPR</b>\n",
       "                        </a>\n",
       "                        <br/>Gempa Morotai<img src='https://sigi.pu.go.id/portalpupr//home/js/jsapi/esri/css/images/item_type_icons/featureshosted16.png' style=\"vertical-align:middle;\">Feature Layer Collection by Sigiportal\n",
       "                        <br/>Last Modified: June 06, 2020\n",
       "                        <br/>0 comments, 198 views\n",
       "                    </div>\n",
       "                </div>\n",
       "                "
      ],
      "text/plain": [
       "<Item title:\"Infrastruktur PUPR\" type:Feature Layer Collection owner:Sigiportal>"
      ]
     },
     "metadata": {},
     "output_type": "display_data"
    },
    {
     "data": {
      "text/html": [
       "<div class=\"item_container\" style=\"height: auto; overflow: hidden; border: 1px solid #cfcfcf; border-radius: 2px; background: #f6fafa; line-height: 1.21429em; padding: 10px;\">\n",
       "                    <div class=\"item_left\" style=\"width: 210px; float: left;\">\n",
       "                       <a href='https://sigi.pu.go.id/portalpupr//home/item.html?id=35e1833a4faa4a238a198565dc7e0c0f' target='_blank'>\n",
       "                        <img src='data:image/png;base64,R0lGODlhBQAFAID/AMDAwAAAACH5BAEAAAAALAAAAAAFAAUAQAIEhI+pWAA7' width='200' height='133' class=\"itemThumbnail\">\n",
       "                       </a>\n",
       "                    </div>\n",
       "\n",
       "                    <div class=\"item_right\"     style=\"float: none; width: auto; overflow: hidden;\">\n",
       "                        <a href='https://sigi.pu.go.id/portalpupr//home/item.html?id=35e1833a4faa4a238a198565dc7e0c0f' target='_blank'><b>RI_RENCANA INFRASTRUKTUR</b>\n",
       "                        </a>\n",
       "                        <br/><img src='https://sigi.pu.go.id/portalpupr//home/js/jsapi/esri/css/images/item_type_icons/featureshosted16.png' style=\"vertical-align:middle;\">Feature Layer Collection by admin_BPIW\n",
       "                        <br/>Last Modified: September 21, 2019\n",
       "                        <br/>0 comments, 4 views\n",
       "                    </div>\n",
       "                </div>\n",
       "                "
      ],
      "text/plain": [
       "<Item title:\"RI_RENCANA INFRASTRUKTUR\" type:Feature Layer Collection owner:admin_BPIW>"
      ]
     },
     "metadata": {},
     "output_type": "display_data"
    },
    {
     "data": {
      "text/html": [
       "<div class=\"item_container\" style=\"height: auto; overflow: hidden; border: 1px solid #cfcfcf; border-radius: 2px; background: #f6fafa; line-height: 1.21429em; padding: 10px;\">\n",
       "                    <div class=\"item_left\" style=\"width: 210px; float: left;\">\n",
       "                       <a href='https://sigi.pu.go.id/portalpupr//home/item.html?id=861c28528a5940a8ab0d354f01270501' target='_blank'>\n",
       "                        <img src='https://sigi.pu.go.id/portalpupr//portalimages/desktopapp.png' class=\"itemThumbnail\">\n",
       "                       </a>\n",
       "                    </div>\n",
       "\n",
       "                    <div class=\"item_right\"     style=\"float: none; width: auto; overflow: hidden;\">\n",
       "                        <a href='https://sigi.pu.go.id/portalpupr//home/item.html?id=861c28528a5940a8ab0d354f01270501' target='_blank'><b>Infrastruktur_Cipta_Karya</b>\n",
       "                        </a>\n",
       "                        <br/><img src='https://sigi.pu.go.id/portalpupr//home/js/jsapi/esri/css/images/item_type_icons/features16.png' style=\"vertical-align:middle;\">Feature Collection by Sigiportal\n",
       "                        <br/>Last Modified: July 30, 2019\n",
       "                        <br/>0 comments, 7 views\n",
       "                    </div>\n",
       "                </div>\n",
       "                "
      ],
      "text/plain": [
       "<Item title:\"Infrastruktur_Cipta_Karya\" type:Feature Collection owner:Sigiportal>"
      ]
     },
     "metadata": {},
     "output_type": "display_data"
    }
   ],
   "source": [
    "# Memanggil modul display pada IPython untuk menampilkan daftar item hasil pencarian\n",
    "from IPython.display import display\n",
    "for item in pencarianSIGI:\n",
    "    display(item)"
   ]
  },
  {
   "cell_type": "markdown",
   "metadata": {},
   "source": [
    "Hasil pencarian dapat disimpan pada kernel aktif menjadi layer baru. Index pertama `[0]` digunakan untuk mengakses hasil pencarian pertama. "
   ]
  },
  {
   "cell_type": "code",
   "execution_count": 8,
   "metadata": {},
   "outputs": [
    {
     "data": {
      "text/html": [
       "<div class=\"item_container\" style=\"height: auto; overflow: hidden; border: 1px solid #cfcfcf; border-radius: 2px; background: #f6fafa; line-height: 1.21429em; padding: 10px;\">\n",
       "                    <div class=\"item_left\" style=\"width: 210px; float: left;\">\n",
       "                       <a href='https://sigi.pu.go.id/portalpupr//home/item.html?id=ceb0ecc55e024d2fa149f7ff93488b70' target='_blank'>\n",
       "                        <img src='data:image/png;base64,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' width='200' height='133' class=\"itemThumbnail\">\n",
       "                       </a>\n",
       "                    </div>\n",
       "\n",
       "                    <div class=\"item_right\"     style=\"float: none; width: auto; overflow: hidden;\">\n",
       "                        <a href='https://sigi.pu.go.id/portalpupr//home/item.html?id=ceb0ecc55e024d2fa149f7ff93488b70' target='_blank'><b>Infrastruktur PUPR</b>\n",
       "                        </a>\n",
       "                        <br/>Gempa Morotai<img src='https://sigi.pu.go.id/portalpupr//home/js/jsapi/esri/css/images/item_type_icons/featureshosted16.png' style=\"vertical-align:middle;\">Feature Layer Collection by Sigiportal\n",
       "                        <br/>Last Modified: June 06, 2020\n",
       "                        <br/>0 comments, 198 views\n",
       "                    </div>\n",
       "                </div>\n",
       "                "
      ],
      "text/plain": [
       "<Item title:\"Infrastruktur PUPR\" type:Feature Layer Collection owner:Sigiportal>"
      ]
     },
     "execution_count": 8,
     "metadata": {},
     "output_type": "execute_result"
    }
   ],
   "source": [
    "# memanggil item hasil pencarian pertama (index ke-[0])\n",
    "LayerCiptaKarya = pencarianSIGI[0]\n",
    "\n",
    "# menampilkan item hasil pencarian\n",
    "LayerCiptaKarya"
   ]
  },
  {
   "cell_type": "markdown",
   "metadata": {},
   "source": [
    "Beberapa fungsi Python dapat digunakan untuk mengoptimalkan pencarian. Apabila judul item yang akan dibuka telah diketahui, maka query dapat dibuat untuk langsung memanggil item tersebut:\n",
    "\n",
    "\n",
    "`pencarianSIGI = gis2.content.search(query=\"title:Infrastruktur_Cipta_Karya\")`\n",
    "\n",
    "\n",
    "Cara lain adalah dengan menggunakan Python untuk melakukan iterasi pada item dan mencari properti yang sesuai"
   ]
  },
  {
   "cell_type": "code",
   "execution_count": 9,
   "metadata": {
    "scrolled": true
   },
   "outputs": [
    {
     "data": {
      "text/plain": [
       "[<Item title:\"Infrastruktur_Cipta_Karya\" type:Feature Collection owner:Sigiportal>]"
      ]
     },
     "execution_count": 9,
     "metadata": {},
     "output_type": "execute_result"
    }
   ],
   "source": [
    "# Mencari dengan menggunakan fungsi Python\n",
    "layerTerpilih = [temp_item for temp_item in pencarianSIGI if temp_item.title == \"Infrastruktur_Cipta_Karya\"]\n",
    "\n",
    "# Menampilkan item hasil pencarian sebagai variabel layerTerpilih\n",
    "layerTerpilih"
   ]
  },
  {
   "cell_type": "markdown",
   "metadata": {},
   "source": [
    "### Menampilkan Hasil Pencarian pada peta"
   ]
  },
  {
   "cell_type": "markdown",
   "metadata": {},
   "source": [
    "Hasil pencarian dari portal merupakan sebuah 'item' yang tidak dapat langsung diolah sebagai sebuah layer. Item mewakili layer berikut metadata dan keterangan pendukung lainnya. Contoh berikut menunjukkan bagaimana hasil pencarian dari portal dapat dipanggil dalam bentuk layer yang bisa ditampilkan pada peta"
   ]
  },
  {
   "cell_type": "code",
   "execution_count": 10,
   "metadata": {
    "slideshow": {
     "slide_type": "slide"
    }
   },
   "outputs": [
    {
     "data": {
      "application/vnd.jupyter.widget-view+json": {
       "model_id": "4663a174a8264a03a40ca074284f2e3b",
       "version_major": 2,
       "version_minor": 0
      },
      "text/plain": [
       "MapView(layout=Layout(height='400px', width='100%'))"
      ]
     },
     "metadata": {},
     "output_type": "display_data"
    },
    {
     "data": {
      "text/html": [
       "<div class=\"map-static-img-preview-20745caa-d572-4a3a-8fb8-563068b681c7\"><img src=\"\"></img></div>"
      ],
      "text/plain": [
       "<IPython.core.display.HTML object>"
      ]
     },
     "metadata": {},
     "output_type": "display_data"
    }
   ],
   "source": [
    "# Menggunakan koneksi GIS-1 untuk membuat peta\n",
    "peta1 = gis1.map()\n",
    "\n",
    "# Menampilkan peta\n",
    "peta1"
   ]
  },
  {
   "cell_type": "markdown",
   "metadata": {},
   "source": [
    "Layer dari item terpilih dapat dipanggil menggunakan index nol [0]. Hasil layer ini dapat disimpan pada memory dan ditambahkan ke dalam peta yang sudah dibuat sebelumnya."
   ]
  },
  {
   "cell_type": "code",
   "execution_count": 12,
   "metadata": {},
   "outputs": [],
   "source": [
    "# Menambahkan layer \n",
    "peta1.add_layer(layerTerpilih[0])\n",
    "peta1.zoom_to_layer(layerTerpilih[0])"
   ]
  },
  {
   "cell_type": "markdown",
   "metadata": {},
   "source": [
    "Modul `maps` memiliki beberapa properti yang berguna untuk mengatur tampilan peta. Diantaranya adalah basemap, zoom level, dan seterusnya."
   ]
  },
  {
   "cell_type": "code",
   "execution_count": 14,
   "metadata": {},
   "outputs": [],
   "source": [
    "peta1.basemap = 'dark-gray-vector'"
   ]
  },
  {
   "cell_type": "markdown",
   "metadata": {},
   "source": [
    "### Mengolah Data dari Portal dengan Pandas/Spatially Enabled Dataframe"
   ]
  },
  {
   "cell_type": "markdown",
   "metadata": {},
   "source": [
    "Bagian ini mendemokan bagaimana data yang dipanggil dari portal dapat diolah dengan menggunakan Pandas sebagai dataframe. ArcGIS Notebook menggunakan Spatially Enabled Data Frame (SEDF) untuk mengolah data spasial dengan Pandas. Contoh berikut menggunakan SDEF untuk melakukan slicing data."
   ]
  },
  {
   "cell_type": "code",
   "execution_count": 19,
   "metadata": {},
   "outputs": [],
   "source": [
    "# Memanggil Pandas\n",
    "import pandas as pd"
   ]
  },
  {
   "cell_type": "code",
   "execution_count": null,
   "metadata": {},
   "outputs": [],
   "source": [
    "# Menambahkan layer dari portal dengan ID\n",
    "# Title: candi_feature | Type: Feature Service | Owner: Dany_Laksono_LearnArcGIS7\n",
    "candi = gis2.content.get(\"77140b3593ac4381b6a05abb5b80f502\")\n",
    "candi"
   ]
  },
  {
   "cell_type": "markdown",
   "metadata": {},
   "source": [
    "Dari hasil pemanggilan item, kemudian dilakukan ekstraksi layer dengan memanggil indeks nol [0]"
   ]
  },
  {
   "cell_type": "code",
   "execution_count": 17,
   "metadata": {},
   "outputs": [
    {
     "data": {
      "text/plain": [
       "<FeatureLayer url:\"https://services3.arcgis.com/U26uBjSD32d7xvm2/arcgis/rest/services/candi_feature/FeatureServer/0\">"
      ]
     },
     "execution_count": 17,
     "metadata": {},
     "output_type": "execute_result"
    }
   ],
   "source": [
    "# mendefinisikan feature layer dari item yang dipanggil\n",
    "fl = candi.layers[0]\n",
    "\n",
    "# menampilkan hasil ekstraksi layer\n",
    "fl"
   ]
  },
  {
   "cell_type": "markdown",
   "metadata": {},
   "source": [
    "Spatially Enabled Data Frame (SDEF) memiliki berbagai fungsi untuk mengkonversi data spasial dari dan ke format dataframe yang digunakan oleh Pandas."
   ]
  },
  {
   "cell_type": "code",
   "execution_count": 20,
   "metadata": {
    "scrolled": true
   },
   "outputs": [
    {
     "data": {
      "text/html": [
       "<div>\n",
       "<style scoped>\n",
       "    .dataframe tbody tr th:only-of-type {\n",
       "        vertical-align: middle;\n",
       "    }\n",
       "\n",
       "    .dataframe tbody tr th {\n",
       "        vertical-align: top;\n",
       "    }\n",
       "\n",
       "    .dataframe thead th {\n",
       "        text-align: right;\n",
       "    }\n",
       "</style>\n",
       "<table border=\"1\" class=\"dataframe\">\n",
       "  <thead>\n",
       "    <tr style=\"text-align: right;\">\n",
       "      <th></th>\n",
       "      <th>id</th>\n",
       "      <th>tipe</th>\n",
       "      <th>geom_wkt_type</th>\n",
       "      <th>geom_wkt_coordinates_0</th>\n",
       "      <th>geom_wkt_coordinates_1</th>\n",
       "      <th>geom</th>\n",
       "      <th>nama</th>\n",
       "      <th>jenis</th>\n",
       "      <th>desa</th>\n",
       "      <th>kecamatan</th>\n",
       "      <th>kabupaten</th>\n",
       "      <th>provinsi</th>\n",
       "      <th>x</th>\n",
       "      <th>y</th>\n",
       "      <th>deskripsi</th>\n",
       "      <th>latarsejarah</th>\n",
       "      <th>luasbangunan</th>\n",
       "      <th>luaslahan</th>\n",
       "      <th>ObjectId</th>\n",
       "      <th>SHAPE</th>\n",
       "    </tr>\n",
       "  </thead>\n",
       "  <tbody>\n",
       "    <tr>\n",
       "      <th>0</th>\n",
       "      <td>1255</td>\n",
       "      <td>POINT</td>\n",
       "      <td>Point</td>\n",
       "      <td>110.832300</td>\n",
       "      <td>-6.804000</td>\n",
       "      <td>0101000020E61000007E1D386744B55B409DEFA7C64B37...</td>\n",
       "      <td>Komplek Peninggalan Sunan Kudus</td>\n",
       "      <td>Masjid, Makam, Menara</td>\n",
       "      <td>Kauman</td>\n",
       "      <td>Kudus Kota</td>\n",
       "      <td>Kudus</td>\n",
       "      <td>Jawa Tengah</td>\n",
       "      <td>-6.804047</td>\n",
       "      <td>110.832304</td>\n",
       "      <td>None</td>\n",
       "      <td>None</td>\n",
       "      <td>859.42</td>\n",
       "      <td>21886,5 m2</td>\n",
       "      <td>1</td>\n",
       "      <td>{\"x\": 12337795.644725297, \"y\": -759209.5815613...</td>\n",
       "    </tr>\n",
       "    <tr>\n",
       "      <th>1</th>\n",
       "      <td>1256</td>\n",
       "      <td>POINT</td>\n",
       "      <td>Point</td>\n",
       "      <td>110.637200</td>\n",
       "      <td>-6.894400</td>\n",
       "      <td>0101000020E6100000B84082E2C7A85B405A2BF697DD93...</td>\n",
       "      <td>Masjid Agung Demak</td>\n",
       "      <td>Masjid</td>\n",
       "      <td>Bintoro/Kauman</td>\n",
       "      <td>Demak</td>\n",
       "      <td>Demak</td>\n",
       "      <td>Jawa Tengah</td>\n",
       "      <td>-6.894444</td>\n",
       "      <td>110.637222</td>\n",
       "      <td>None</td>\n",
       "      <td>None</td>\n",
       "      <td>533.10</td>\n",
       "      <td>15000 m2</td>\n",
       "      <td>2</td>\n",
       "      <td>{\"x\": 12316079.215822363, \"y\": -769344.8623569...</td>\n",
       "    </tr>\n",
       "    <tr>\n",
       "      <th>2</th>\n",
       "      <td>1257</td>\n",
       "      <td>POINT</td>\n",
       "      <td>Point</td>\n",
       "      <td>110.203771</td>\n",
       "      <td>-7.607712</td>\n",
       "      <td>0101000020E6100000E33785950A8D5B40098CF50D4C6E...</td>\n",
       "      <td>Taman Wisata Candi Borobudur</td>\n",
       "      <td>Candi</td>\n",
       "      <td>None</td>\n",
       "      <td>None</td>\n",
       "      <td>None</td>\n",
       "      <td>None</td>\n",
       "      <td>-7.607712</td>\n",
       "      <td>110.203771</td>\n",
       "      <td>None</td>\n",
       "      <td>None</td>\n",
       "      <td>NaN</td>\n",
       "      <td>10191000</td>\n",
       "      <td>3</td>\n",
       "      <td>{\"x\": 12267827.67121853, \"y\": -849386.14638993...</td>\n",
       "    </tr>\n",
       "    <tr>\n",
       "      <th>3</th>\n",
       "      <td>1258</td>\n",
       "      <td>POINT</td>\n",
       "      <td>Point</td>\n",
       "      <td>110.492009</td>\n",
       "      <td>-7.751922</td>\n",
       "      <td>0101000020E61000009C1551137D9F5B4058923CD7F701...</td>\n",
       "      <td>Taman Wisata Candi Prambanan</td>\n",
       "      <td>Candi</td>\n",
       "      <td>None</td>\n",
       "      <td>None</td>\n",
       "      <td>None</td>\n",
       "      <td>None</td>\n",
       "      <td>-7.751922</td>\n",
       "      <td>110.492009</td>\n",
       "      <td>None</td>\n",
       "      <td>None</td>\n",
       "      <td>NaN</td>\n",
       "      <td>7400000</td>\n",
       "      <td>4</td>\n",
       "      <td>{\"x\": 12299914.1786058, \"y\": -865584.831306829...</td>\n",
       "    </tr>\n",
       "    <tr>\n",
       "      <th>4</th>\n",
       "      <td>1259</td>\n",
       "      <td>POINT</td>\n",
       "      <td>Point</td>\n",
       "      <td>110.834488</td>\n",
       "      <td>-7.455752</td>\n",
       "      <td>0101000020E6100000E2395B4068B55B40AC58FCA6B0D2...</td>\n",
       "      <td>Daerah Sangiran</td>\n",
       "      <td>Cagar Budaya</td>\n",
       "      <td>None</td>\n",
       "      <td>None</td>\n",
       "      <td>Sragen dan Karanganyar</td>\n",
       "      <td>Jawa Tengah</td>\n",
       "      <td>-7.455752</td>\n",
       "      <td>110.834488</td>\n",
       "      <td>None</td>\n",
       "      <td>None</td>\n",
       "      <td>NaN</td>\n",
       "      <td>None</td>\n",
       "      <td>5</td>\n",
       "      <td>{\"x\": 12338038.76649319, \"y\": -832322.81619620...</td>\n",
       "    </tr>\n",
       "  </tbody>\n",
       "</table>\n",
       "</div>"
      ],
      "text/plain": [
       "     id   tipe geom_wkt_type  geom_wkt_coordinates_0  geom_wkt_coordinates_1  \\\n",
       "0  1255  POINT         Point              110.832300               -6.804000   \n",
       "1  1256  POINT         Point              110.637200               -6.894400   \n",
       "2  1257  POINT         Point              110.203771               -7.607712   \n",
       "3  1258  POINT         Point              110.492009               -7.751922   \n",
       "4  1259  POINT         Point              110.834488               -7.455752   \n",
       "\n",
       "                                                geom  \\\n",
       "0  0101000020E61000007E1D386744B55B409DEFA7C64B37...   \n",
       "1  0101000020E6100000B84082E2C7A85B405A2BF697DD93...   \n",
       "2  0101000020E6100000E33785950A8D5B40098CF50D4C6E...   \n",
       "3  0101000020E61000009C1551137D9F5B4058923CD7F701...   \n",
       "4  0101000020E6100000E2395B4068B55B40AC58FCA6B0D2...   \n",
       "\n",
       "                              nama                  jenis            desa  \\\n",
       "0  Komplek Peninggalan Sunan Kudus  Masjid, Makam, Menara          Kauman   \n",
       "1               Masjid Agung Demak                 Masjid  Bintoro/Kauman   \n",
       "2     Taman Wisata Candi Borobudur                  Candi            None   \n",
       "3     Taman Wisata Candi Prambanan                  Candi            None   \n",
       "4                  Daerah Sangiran           Cagar Budaya            None   \n",
       "\n",
       "    kecamatan               kabupaten     provinsi         x           y  \\\n",
       "0  Kudus Kota                   Kudus  Jawa Tengah -6.804047  110.832304   \n",
       "1       Demak                   Demak  Jawa Tengah -6.894444  110.637222   \n",
       "2        None                    None         None -7.607712  110.203771   \n",
       "3        None                    None         None -7.751922  110.492009   \n",
       "4        None  Sragen dan Karanganyar  Jawa Tengah -7.455752  110.834488   \n",
       "\n",
       "  deskripsi latarsejarah  luasbangunan   luaslahan  ObjectId  \\\n",
       "0      None         None        859.42  21886,5 m2         1   \n",
       "1      None         None        533.10    15000 m2         2   \n",
       "2      None         None           NaN    10191000         3   \n",
       "3      None         None           NaN     7400000         4   \n",
       "4      None         None           NaN        None         5   \n",
       "\n",
       "                                               SHAPE  \n",
       "0  {\"x\": 12337795.644725297, \"y\": -759209.5815613...  \n",
       "1  {\"x\": 12316079.215822363, \"y\": -769344.8623569...  \n",
       "2  {\"x\": 12267827.67121853, \"y\": -849386.14638993...  \n",
       "3  {\"x\": 12299914.1786058, \"y\": -865584.831306829...  \n",
       "4  {\"x\": 12338038.76649319, \"y\": -832322.81619620...  "
      ]
     },
     "execution_count": 20,
     "metadata": {},
     "output_type": "execute_result"
    }
   ],
   "source": [
    "# Mengkonversi feature layer menjadi spatial data frame menggunakan fungsi from_layer()\n",
    "sdf = pd.DataFrame.spatial.from_layer(fl)\n",
    "\n",
    "# Menampilkan 5 data teratas\n",
    "sdf.head(5)"
   ]
  },
  {
   "cell_type": "markdown",
   "metadata": {},
   "source": [
    "Query sederhana dalam bahasa SQL dapat dibuat pada feature layer yang telah terbentuk"
   ]
  },
  {
   "cell_type": "code",
   "execution_count": 21,
   "metadata": {
    "scrolled": false
   },
   "outputs": [
    {
     "data": {
      "text/html": [
       "<div>\n",
       "<style scoped>\n",
       "    .dataframe tbody tr th:only-of-type {\n",
       "        vertical-align: middle;\n",
       "    }\n",
       "\n",
       "    .dataframe tbody tr th {\n",
       "        vertical-align: top;\n",
       "    }\n",
       "\n",
       "    .dataframe thead th {\n",
       "        text-align: right;\n",
       "    }\n",
       "</style>\n",
       "<table border=\"1\" class=\"dataframe\">\n",
       "  <thead>\n",
       "    <tr style=\"text-align: right;\">\n",
       "      <th></th>\n",
       "      <th>id</th>\n",
       "      <th>tipe</th>\n",
       "      <th>geom_wkt_type</th>\n",
       "      <th>geom_wkt_coordinates_0</th>\n",
       "      <th>geom_wkt_coordinates_1</th>\n",
       "      <th>geom</th>\n",
       "      <th>nama</th>\n",
       "      <th>jenis</th>\n",
       "      <th>desa</th>\n",
       "      <th>kecamatan</th>\n",
       "      <th>kabupaten</th>\n",
       "      <th>provinsi</th>\n",
       "      <th>x</th>\n",
       "      <th>y</th>\n",
       "      <th>deskripsi</th>\n",
       "      <th>latarsejarah</th>\n",
       "      <th>luasbangunan</th>\n",
       "      <th>luaslahan</th>\n",
       "      <th>ObjectId</th>\n",
       "      <th>SHAPE</th>\n",
       "    </tr>\n",
       "  </thead>\n",
       "  <tbody>\n",
       "    <tr>\n",
       "      <th>0</th>\n",
       "      <td>1255</td>\n",
       "      <td>POINT</td>\n",
       "      <td>Point</td>\n",
       "      <td>110.832300</td>\n",
       "      <td>-6.804000</td>\n",
       "      <td>0101000020E61000007E1D386744B55B409DEFA7C64B37...</td>\n",
       "      <td>Komplek Peninggalan Sunan Kudus</td>\n",
       "      <td>Masjid, Makam, Menara</td>\n",
       "      <td>Kauman</td>\n",
       "      <td>Kudus Kota</td>\n",
       "      <td>Kudus</td>\n",
       "      <td>Jawa Tengah</td>\n",
       "      <td>-6.804047</td>\n",
       "      <td>110.832304</td>\n",
       "      <td>None</td>\n",
       "      <td>None</td>\n",
       "      <td>859.42</td>\n",
       "      <td>21886,5 m2</td>\n",
       "      <td>1</td>\n",
       "      <td>{\"x\": 12337795.644725297, \"y\": -759209.5815613...</td>\n",
       "    </tr>\n",
       "    <tr>\n",
       "      <th>1</th>\n",
       "      <td>1256</td>\n",
       "      <td>POINT</td>\n",
       "      <td>Point</td>\n",
       "      <td>110.637200</td>\n",
       "      <td>-6.894400</td>\n",
       "      <td>0101000020E6100000B84082E2C7A85B405A2BF697DD93...</td>\n",
       "      <td>Masjid Agung Demak</td>\n",
       "      <td>Masjid</td>\n",
       "      <td>Bintoro/Kauman</td>\n",
       "      <td>Demak</td>\n",
       "      <td>Demak</td>\n",
       "      <td>Jawa Tengah</td>\n",
       "      <td>-6.894444</td>\n",
       "      <td>110.637222</td>\n",
       "      <td>None</td>\n",
       "      <td>None</td>\n",
       "      <td>533.10</td>\n",
       "      <td>15000 m2</td>\n",
       "      <td>2</td>\n",
       "      <td>{\"x\": 12316079.215822363, \"y\": -769344.8623569...</td>\n",
       "    </tr>\n",
       "    <tr>\n",
       "      <th>2</th>\n",
       "      <td>1259</td>\n",
       "      <td>POINT</td>\n",
       "      <td>Point</td>\n",
       "      <td>110.834488</td>\n",
       "      <td>-7.455752</td>\n",
       "      <td>0101000020E6100000E2395B4068B55B40AC58FCA6B0D2...</td>\n",
       "      <td>Daerah Sangiran</td>\n",
       "      <td>Cagar Budaya</td>\n",
       "      <td>None</td>\n",
       "      <td>None</td>\n",
       "      <td>Sragen dan Karanganyar</td>\n",
       "      <td>Jawa Tengah</td>\n",
       "      <td>-7.455752</td>\n",
       "      <td>110.834488</td>\n",
       "      <td>None</td>\n",
       "      <td>None</td>\n",
       "      <td>NaN</td>\n",
       "      <td>None</td>\n",
       "      <td>5</td>\n",
       "      <td>{\"x\": 12338038.76649319, \"y\": -832322.81619620...</td>\n",
       "    </tr>\n",
       "    <tr>\n",
       "      <th>3</th>\n",
       "      <td>1260</td>\n",
       "      <td>POINT</td>\n",
       "      <td>Point</td>\n",
       "      <td>110.203734</td>\n",
       "      <td>-7.607920</td>\n",
       "      <td>0101000020E610000054C554FA098D5B4058569A94826E...</td>\n",
       "      <td>Candi Borobudur</td>\n",
       "      <td>Candi</td>\n",
       "      <td>Borobudur</td>\n",
       "      <td>Borobudur</td>\n",
       "      <td>Magelang</td>\n",
       "      <td>Jawa Tengah</td>\n",
       "      <td>-7.607920</td>\n",
       "      <td>110.203734</td>\n",
       "      <td>Candi Borobudur yang dikenal sebagai bangunan ...</td>\n",
       "      <td>Candi Borobudur yang dikenal sebagai peninggal...</td>\n",
       "      <td>NaN</td>\n",
       "      <td>None</td>\n",
       "      <td>6</td>\n",
       "      <td>{\"x\": 12267823.552397368, \"y\": -849409.5064713...</td>\n",
       "    </tr>\n",
       "    <tr>\n",
       "      <th>4</th>\n",
       "      <td>1261</td>\n",
       "      <td>POINT</td>\n",
       "      <td>Point</td>\n",
       "      <td>110.203734</td>\n",
       "      <td>-7.607920</td>\n",
       "      <td>0101000020E610000054C554FA098D5B4058569A94826E...</td>\n",
       "      <td>Candi Borobudur</td>\n",
       "      <td>Candi</td>\n",
       "      <td>Bumisegoro</td>\n",
       "      <td>Muntilan</td>\n",
       "      <td>Magelang</td>\n",
       "      <td>Jawa Tengah</td>\n",
       "      <td>-7.607920</td>\n",
       "      <td>110.203734</td>\n",
       "      <td>None</td>\n",
       "      <td>None</td>\n",
       "      <td>12769.00</td>\n",
       "      <td>85000</td>\n",
       "      <td>7</td>\n",
       "      <td>{\"x\": 12267823.552397368, \"y\": -849409.5064713...</td>\n",
       "    </tr>\n",
       "  </tbody>\n",
       "</table>\n",
       "</div>"
      ],
      "text/plain": [
       "     id   tipe geom_wkt_type  geom_wkt_coordinates_0  geom_wkt_coordinates_1  \\\n",
       "0  1255  POINT         Point              110.832300               -6.804000   \n",
       "1  1256  POINT         Point              110.637200               -6.894400   \n",
       "2  1259  POINT         Point              110.834488               -7.455752   \n",
       "3  1260  POINT         Point              110.203734               -7.607920   \n",
       "4  1261  POINT         Point              110.203734               -7.607920   \n",
       "\n",
       "                                                geom  \\\n",
       "0  0101000020E61000007E1D386744B55B409DEFA7C64B37...   \n",
       "1  0101000020E6100000B84082E2C7A85B405A2BF697DD93...   \n",
       "2  0101000020E6100000E2395B4068B55B40AC58FCA6B0D2...   \n",
       "3  0101000020E610000054C554FA098D5B4058569A94826E...   \n",
       "4  0101000020E610000054C554FA098D5B4058569A94826E...   \n",
       "\n",
       "                              nama                  jenis            desa  \\\n",
       "0  Komplek Peninggalan Sunan Kudus  Masjid, Makam, Menara          Kauman   \n",
       "1               Masjid Agung Demak                 Masjid  Bintoro/Kauman   \n",
       "2                  Daerah Sangiran           Cagar Budaya            None   \n",
       "3                  Candi Borobudur                  Candi       Borobudur   \n",
       "4                  Candi Borobudur                  Candi      Bumisegoro   \n",
       "\n",
       "    kecamatan               kabupaten     provinsi         x           y  \\\n",
       "0  Kudus Kota                   Kudus  Jawa Tengah -6.804047  110.832304   \n",
       "1       Demak                   Demak  Jawa Tengah -6.894444  110.637222   \n",
       "2        None  Sragen dan Karanganyar  Jawa Tengah -7.455752  110.834488   \n",
       "3   Borobudur                Magelang  Jawa Tengah -7.607920  110.203734   \n",
       "4    Muntilan                Magelang  Jawa Tengah -7.607920  110.203734   \n",
       "\n",
       "                                           deskripsi  \\\n",
       "0                                               None   \n",
       "1                                               None   \n",
       "2                                               None   \n",
       "3  Candi Borobudur yang dikenal sebagai bangunan ...   \n",
       "4                                               None   \n",
       "\n",
       "                                        latarsejarah  luasbangunan  \\\n",
       "0                                               None        859.42   \n",
       "1                                               None        533.10   \n",
       "2                                               None           NaN   \n",
       "3  Candi Borobudur yang dikenal sebagai peninggal...           NaN   \n",
       "4                                               None      12769.00   \n",
       "\n",
       "    luaslahan  ObjectId                                              SHAPE  \n",
       "0  21886,5 m2         1  {\"x\": 12337795.644725297, \"y\": -759209.5815613...  \n",
       "1    15000 m2         2  {\"x\": 12316079.215822363, \"y\": -769344.8623569...  \n",
       "2        None         5  {\"x\": 12338038.76649319, \"y\": -832322.81619620...  \n",
       "3        None         6  {\"x\": 12267823.552397368, \"y\": -849409.5064713...  \n",
       "4       85000         7  {\"x\": 12267823.552397368, \"y\": -849409.5064713...  "
      ]
     },
     "execution_count": 21,
     "metadata": {},
     "output_type": "execute_result"
    }
   ],
   "source": [
    "# Melakukan Query untuk mencari hanya candi yang terletak di Jawa Tengah saja\n",
    "df = fl.query(where=\"provinsi = 'Jawa Tengah'\").sdf\n",
    "\n",
    "df.head(5)"
   ]
  },
  {
   "cell_type": "markdown",
   "metadata": {},
   "source": [
    "Hasil seleksi dapat disimpan sebagai layer baru pada kernel untuk dilakukan proses selanjutnya"
   ]
  },
  {
   "cell_type": "code",
   "execution_count": 49,
   "metadata": {
    "scrolled": true
   },
   "outputs": [
    {
     "data": {
      "text/html": [
       "<div class=\"item_container\" style=\"height: auto; overflow: hidden; border: 1px solid #cfcfcf; border-radius: 2px; background: #f6fafa; line-height: 1.21429em; padding: 10px;\">\n",
       "                    <div class=\"item_left\" style=\"width: 210px; float: left;\">\n",
       "                       <a href='https://sigi.pu.go.id/portalpupr//home/item.html?id=129700f4382f4a5288aa86d7c9861e58' target='_blank'>\n",
       "                        <img src='https://sigi.pu.go.id/portalpupr//portalimages/desktopapp.png' class=\"itemThumbnail\">\n",
       "                       </a>\n",
       "                    </div>\n",
       "\n",
       "                    <div class=\"item_right\"     style=\"float: none; width: auto; overflow: hidden;\">\n",
       "                        <a href='https://sigi.pu.go.id/portalpupr//home/item.html?id=129700f4382f4a5288aa86d7c9861e58' target='_blank'><b>candi_terpilih</b>\n",
       "                        </a>\n",
       "                        <br/><img src='https://sigi.pu.go.id/portalpupr//home/js/jsapi/esri/css/images/item_type_icons/featureshosted16.png' style=\"vertical-align:middle;\">Feature Layer Collection by Admin_BPII\n",
       "                        <br/>Last Modified: September 01, 2020\n",
       "                        <br/>0 comments, 0 views\n",
       "                    </div>\n",
       "                </div>\n",
       "                "
      ],
      "text/plain": [
       "<Item title:\"candi_terpilih\" type:Feature Layer Collection owner:Admin_BPII>"
      ]
     },
     "execution_count": 49,
     "metadata": {},
     "output_type": "execute_result"
    }
   ],
   "source": [
    "# Menyimpan hasil seleksi query ke dalam layer 'selected'\n",
    "layer = df.spatial.to_featurelayer(\"candi_terpilih\")\n",
    "\n",
    "# menampilkan item layer\n",
    "layer"
   ]
  },
  {
   "cell_type": "markdown",
   "metadata": {},
   "source": [
    "Layer yang sudah terbentuk dapat ditambahkan ke dalam peta"
   ]
  },
  {
   "cell_type": "code",
   "execution_count": 40,
   "metadata": {},
   "outputs": [
    {
     "data": {
      "application/vnd.jupyter.widget-view+json": {
       "model_id": "04187aee4e4247a0af55ca68919da497",
       "version_major": 2,
       "version_minor": 0
      },
      "text/plain": [
       "MapView(layout=Layout(height='400px', width='100%'))"
      ]
     },
     "metadata": {},
     "output_type": "display_data"
    },
    {
     "data": {
      "text/html": [
       "<div class=\"map-static-img-preview-27cfd186-322b-4240-9a91-8fdb0d7f2b35\"><img src=\"\"></img></div>"
      ],
      "text/plain": [
       "<IPython.core.display.HTML object>"
      ]
     },
     "metadata": {},
     "output_type": "display_data"
    }
   ],
   "source": [
    "# Membuat peta baru dan mengatur tampilannya menggunakan koneksi GIS-1\n",
    "peta_candi = gis2.map()\n",
    "\n",
    "peta_candi"
   ]
  },
  {
   "cell_type": "code",
   "execution_count": 50,
   "metadata": {},
   "outputs": [],
   "source": [
    "# Menambahkan layer\n",
    "peta_candi.add_layer(layer)\n",
    "peta_candi.zoom_to_layer(layer)"
   ]
  },
  {
   "cell_type": "markdown",
   "metadata": {},
   "source": [
    "### Melakukan Analisis Spasial"
   ]
  },
  {
   "cell_type": "markdown",
   "metadata": {},
   "source": [
    "Modul ArcGIS API for Python mengandung fungsi untuk analisis geoprocessing baik raster maupun features. Modul-modul ini dapat digunakan untuk melakukan analisis spasial terhadap data yang diperoleh dari server. Pada ArcGIS Desktop, modul-modul ini juga dapat dikombinasikan dengan fungsi-fungsi yang disediakan oleh ArcPy."
   ]
  },
  {
   "cell_type": "code",
   "execution_count": 54,
   "metadata": {},
   "outputs": [],
   "source": [
    "# Memanggil fungsi analisis feature dari modul ArcGIS\n",
    "from arcgis import features"
   ]
  },
  {
   "cell_type": "code",
   "execution_count": 57,
   "metadata": {
    "scrolled": true
   },
   "outputs": [
    {
     "data": {
      "text/html": [
       "<div class=\"item_container\" style=\"height: auto; overflow: hidden; border: 1px solid #cfcfcf; border-radius: 2px; background: #f6fafa; line-height: 1.21429em; padding: 10px;\">\n",
       "                    <div class=\"item_left\" style=\"width: 210px; float: left;\">\n",
       "                       <a href='https://www.arcgis.com/home/item.html?id=395495bd1b2a484da06202eee5e92bbf' target='_blank'>\n",
       "                        <img src='data:image/png;base64,iVBORw0KGgoAAAANSUhEUgAAAMgAAACFCAYAAAAenrcsAACAAElEQVR4Xuy995Nc13UtzL/nq3r1vXr1XtXnKpeDnu1ny7YCn63wJEuiKCqQlEmJpCSKSSIJBos5SySYARKByBmDjEGYnKd7OufcfTt3T8/M+tbaty/QGAAU4aD3i6fq1O3uufGcvfZeO5xzb2o2Kljf6o3yNVqJrYhmy0G5ksfk5DjK5SJa7Rqcqn6votF0+u1657i6ad/1bf0+n9bavN9ONYt2s4hss4nRQgt7s6vYm1nD8cIajqWXcSTew8kccCQD7Od2T2YFB9P8LQucSi1jiPueyQP+SheNehHoZBAsVnA0tYpDqR6OJldwVMen/7P9IdpRjtNhbg+y/w+muOXnwxyjoewKhjgOQxw3bY9lezhQ4Jhqf+57IrPKcVzDuVwPZznGJ3jMkfQaj2fj5+HcGsIOx7hVQ4tyWq07qHPrUI7K/Fxq1lButyiDlGXhoFbCTevBcT2AuIJbRLVWRC6fwvT0FLLZNLrLDdTq+r8LDn1ef+yntfXguFGACJjteg6dZh41gjVSreNMcYUd3GWnrhoo1NlD2TUKOsHCTjrEzj3E70MZbYHj/H2h0ESJnVPjOVs810Kxxs5dZcevGEAOZ68eyP9s/zHtUGrNwHE444LFbVJ2HRzjeAwlV/m5Z99PxCo4RVDo/6cTdQKgjXS7h2i9Bz/BMFNoYzzXxki2jfl8C5lKFVL2AkitWTcZqlHmK5S7cr2KAlu1XjE5VvvMALET1QtYWW0jX0hhfn4OqVQSy73WJYDUeWy1Jktz9bHXa+vBcaMA0TUbtTxBkkGnVUStVUGg1sVwtmXCfSAnDcTOzfRwMdPAuSw7lZ17RFqI2mcPNdR4voMy77vb1vFV5NlJE+zMQxwsd0D+EyB/yCaAHEpL+7vAOMoxOEJLfjAnS6H/9y0Mrf7plIOh4hr2EUQnEx0kS1SY7SqZDeWRbKfWqsNpN+B02lSgsg5UgGQJNY53uVal7PJz0wVJuVZGrlJAsSaLItBUbwwgFSfLC1N4Ji9iZOSCUazucvMKgPyhLUiVoK0SIPVajvdeoGaooMiOmCu2aIJlLdZwKtPEdKmGfKtFDdPCWLqJY4kuDrCjzxIsiXoXnTa1Si3NzqogUmvjDAF1gINwnP8f4gAd/E+A/MGaLIcAcIRWRFb/WKLNbduo1BCt+nH+Luq0j2Oyj+O0J+kqvJkykKZyrFfzaNayaDgZfuZWskE5aUg2awJH0eS02hCVyrMVjTk4BE2xWkCuWkK+VjHK9ZkBIsF1qjnzOUbHzmN2dga1qoN2p25W4/+WD1Jv5qgppAVovaj56/UaKtQAS8U6TudpirPLmCrwgZsFWhju26ghXu5gJLds9CpVIaCoZRp8rpr8rHoJi/z/UdKz/Rykk/RnhuinHPhPgPzhmiiwtrTcx1Nd+hQrGC0uY7pQQ4AWIlp04CMFnuT3/eZz1BCr0ApQ4zfrDY4lqZMsCGVCY9poSj5dJa596hzvpvwQjnlbAKnnjR1pX1mSLAGSqUvR1nHTeuG8roDyIlUiseIUcPHiBYyNjbgo7FMq97hPOb6/j5oc/cH9Bn9Tq9UKWF6uoVRK00pl+Lluv0kDeM3AzAduSTOwM2qrTeTKJTgVOlqZEpKhCKbDOQzRQZ8uNdBeLqDLzqg36IyxE/NOhfuTmjXUkQ00nSJW2UFOo80Ol4ZyB+koNZWaabTP2OQ4HqK2OyIHU8BiO5F0z/l/rZG2HJcflhLddDm7tLD5aCl3H3F9fZcyUJNz7Apqv60751G2vXzWY8kuDvL5dpPynMwsu4ERnTfrNn0+REt8QOfOyPnmlsJ/IMHf8tT+BID5GLzGcdGnpM7D88fV96sYIy0uNlZRlcxIViQjbA5lIEOFVzK5k19R6it4AcNrkl33OJM5Yzou2zHZs+CT1ySPpFpU9gXul5WTvh4c1xNwcbdOt0JK1UIwGEQg4ON38juapE877spzfDaA1MkLZfaafGBFlWqkUAJIkw/WILKrFGY1fa+V8igRtMlcmh3WhFOsYmbah0RwiZyygUlnDWezXQRL5J4EeMeshByyOq3KMkGeoWNG+ljL8B6KCNaaJkDrheFG2kEK4nEK4kkBhEJzOOcO/Pr9/qBtACAKWHi/H0vJ8e23dNe2R7M9thX2w4pRzBPk/8flB6w7pwGE55pI0bejf7dT0UFa22OpllndIQJwSNfgOY5nOhZVOqG+oVU+nnHbKQLhhKiTgJNxadMOUqrj8jcSVEyZLibzlIvl7lXyNChTv09+b2Rf+SQVyl2hkrkRgND80BTl82kK4DRB4jeh/o8AiCIMCrF1Sd/aRLM+d2Q2a6R0rQb/X8NypwVghY51FzVajXQijbmpOSz5QsgQGBUCrFRJYSKepUbq4WRpDeFKh1qIZphAKVXLSLVW0GnGUCT9qrbZKd0qTXmH1uLfBpCT6QZG6OeMUBCOFjTwFKbE1fv9QVtKwklBTNInI2iPErDHpd0p/EMUVLWj8rcU+UsTDPbdbccV5LhOn5zk85XJ+zOk20fzLezJKzK4YgGSI7QqBhJFDGmVj5EuCTgKn8t6yTqZ4ki6fsexwirHqcP967hAq3E6XOJ4VBBz8uh1pPWvL1O/T35vZN8O6ZjSBk3K+w0ARFGsHBLJKOnVGKLR8H+YBZFlqNOPSCai1sqlHIqFLH+vkUKVkEomEFjyw7+4gGgkhvmxacycHUGrQEerWES0lEWKzlmN/onTqZoV2S2Tz8GbLfeQq9CJcxJYbmXRq6TtnI1GnQ5aHefpFHqU41/TRMUmK21Eaz1aI+BclRqzqEDB1fv+oduxrCxGDyNUFudTbXL4jkXxRANFffZSUOV3GTWSRveoliKB18kDnSKA6vU2ik6JjnQZewkuOdM6z9GkQuvKQcCiifL51IzCpbXPGimaIlArOEkA+SsrKFZaSNXaSGdr8M8FUaDl71Kbr3JM18vToEz9Pvm9kX0FkK61G6BY8kGaLfG0CsLhMIrFnOVA/iMAUshnEAz4MTszZdtwKIC5mWmMXBjB5PgEfAuLtBR+zM/OYWJ6AuGZWTx46/dxYud2+iwpdDpFON0W8g3lSNLIk1KNFXs4w0E4RRoxSS2VISBaTYKo3Ua22UO+vYJIqUU6BuPM6wXhszYBZKpcR7jcpENJBzPfwJlMCxekla+x/x+08blO0V/wOctYSudQKOdcJ5ia+2yOVpag0fY8ac0wP59Jtug7NTCUqFPQm1efj+10bpn9u4pItUvLUCfVarOvO5gsNuEv1OHL1zCer7NfW/z/sl3vTFr9UcfFdBVztRbGiw3Ml9soNVtYo5/Ypgx0SiUkFuaovPJkCWQMlavlaVCmfq/83sC+jbp8GeXDKp8dIDWFwmhyitTmc3NzyGRStq8Sh5923BUX7u83CJBG//crnPRqBYvsnGKBageraNRkUdiqNdQcOuaNBkrFAuLRKH0H+iO0KK8+/DAuHtqLSHQWtWwA9Q4du/YylhsZrHUKqLCTs/UqB6uF4dIKpqqr8JU4QE4LExSYWdKvM4kidpEamIMti5N2m2iC/JJB6iX+LZqw3nnX92mng2i1gxiFZoLWZKLcxUKl7xT393FBeG3acmPt8nmv/K1/j6RW1uRX8Zonk22EeG/xdAytUgTzFOQoLUDAoUCzP/yVOrKNDpVLG6l6A/Gam3ydKzfMiT9JunSGFOo0tf4Zfj6RasJH5TNV6GGHL49jsyGkqyWU6estd0oWbi1Vi0g4FSwQBMFKE8lqFSWOhaN9mm3kyzX+VkOZNKrZjqNUi6NDthJZmkHGSaNMRdzstq+Sp0GZ+n3yeyP7Nkjhm03S+3YTN9Xqg1GoTztRidYibwnC48dPkmLFUa1eOyl4vRtYH05Wc2PTpUtN36uVKqYnZ4z6iGrVVMqiqAM/Z7MJ0qpFWpkY1lZrfYe9QDClbZ8ifaR4IoxyJQcv9GzRNdK2lkoIeI1S3UGYzvhUuYML+R4Fo4t0bRmL1HynCyukQ8rSrloUR0I2zsFfoKCfynfIx5VZh/H4IdKVQ7kVi1JpP5WsyMEN1YF0uUqAUjMSeEpQRhorGCU4T+bWsF/7K/tLTXq1wN9YO5RW1YAqBjwQKAstba7wtOtzmG+RXTaKdYT+2EwFmAhFkctEMMLnSFGLzxTbiBMYk4UGqqSydaPUSSrGDIpUTr5cHWdIh+L1lps7sARbA7HWGvxUAJF6F2/t3oMv//D7ePmF36BeyVoEqZDLYO8HH+P49j20DA7pi2NjoM/S0mlFE2sKmpTdKFVD0Smen/vNTE6iVi6jVCa97ijHJj/4yrZe9j6tDcqlFPKgUr6ezH5mgDRbFSz3qFHiMZw7dwHJZKqfRb/6Jtcfe6mtD9MqpEZuWSpmrMmc6rd2s4lQMIhKqUjnvGkOujKf2WwSiVgIJWq/43t3YPNvX0FLme9c0s4j517HC0ShsN9qxHSPlqcROKxV0KKmqralKWvsfN4Hr7tSo5XhOeLkvEukSLMUiAnSggUOfqLaQlaa1GlggSA6Fa3iZKZDYezS0aVTSQF0w8F0ajPLBN8aChUHJd7bLDXvGKlEurmMdKNJ4VwxR/hwToLcuUrgb7QdNUp4GRxqhxM9HEnoXtyapSOkTYdJkc7weuOkU4u0mOPBOLKlAsYo9Ck+1ywBEq13MMXnaxHYos8dWoA2W4V0NJCr4gKtRpr7tNvk50qs9up00Gv0P4qWP4oF5/HGy0/jx1/7ClqJOBr5LLqkRo/ccRcev+selNi/HVpyTym2KCv+bB55jne9o4Qz2QgtR7tNMPCcaYI4G02QOSjFoFzFvw0gg7L+aQAZbJ8ZIF6x4iId44MHD3PrgxdLXt/WH6umnIVnMaTxK+S/EmoJdzYTR45Crd88SxEMLGJmehLxWASJeBSRSACJVAQtapuVbhM733kLW1590c6blMXguXS8Ol7AyPK8siRF/q5kpmdJ9BzNZtHqt+qVBJolgrJIDVUmSPNJ5AocCJrYIs+TKdPaWJ6kbOUsBYK4ukwAkJIstOR4141yiDLJ2VWT8zlKQVoi946TpoyW6fvQ7wlWlwn8slGME0mVsaySyv3bcyOyHmqHRA37bYjgOCYKR/DsSyyTYjXpC1H4cy27jxid4JlwFEuJBOZINzPU0n76ZWn+7qv0+ha7jDaVhjS9QzoULzoIlNdQafXovIrmKghSgNNpoU5A1asUtnIB3VoVddLvOvu03a2hs9JAiwqoSrqs83pKzCKUlItY2SFAHauDMlkhJet0SMEKWRQT9EXnfARj4yoZ+9c0uQPrQbJeTte3GwJImzdeZUeEQhFUKpeTLevb5WNc1NqN9SmUwCFrIWAIFN62kE9dsiD6vyJZgaVFzM1O0xmfRypJK0EAKA/iUJDRrgK8HwFOx3qA0zkEBmVJE8kIorGg3afdTzNH+lB2k03VLOr5MAHigtXCvsUc0sUivydRKcRRKcYJojRadZWyEMykcVVe99EXn8FDL7xEStbEfKGDUVIwFcydpDY+x+1iaQ2ZGnl8p0t/pGchSzntHSqYGH2eU32ASIDXC/yNNg8UHs06akWZql1atWscS7fNKoRrq5jJNZFokE5Sq0/7FjA+P4PhhRAW58Yx4QvDHwxjJpRFMu5Dmn2XiYWRS8aRziQRJJhi2TLy9P0KWVofKitZ6gAthT/Kfk6wz5wqOs0OUomoASNRStBKxTBy6hCa6aiNraccvfB9geOZJniy5Tycfqa72WuiRHqdSeSwMOtDhT5pwdG4Xksur5a/6zXPagxaj/W/qQ0ec02AeFnHK1vZqEmSDvHU1AyKRZpI5SaucyPe+RTlkj9QJo+Un1DIey1FcKRsq9/VaZ6voey5OjAQWDA/JE8z7F9YQoxWxJKD1GxZ+iCNVsGOcdh5do6+FalWVXWsEgMHsXjILEm7TdC0CCB1ALVem1qpzXvr5kNwOIileprgiPGeovxOs+4k0WBz+FvFoeXgdaMcyGK3gk8O78KRs2dJu3qkZhkOYIGCX0aUApKnQ9uo17HSyGG5kUCyxPNW3GkBoorxJnCGFsZ8BIVTryH0N9ZWDRRW/l0kpSrRPyornLqMw6SBMw35GCuIZ0iRkry/5VUkMwlcHD2DyelRHD9/DlPDBzE6MY4FWuw5HwU/sQiHY1AgOJKRCJIpAiG6hCBpayIRRDwaQJKgyGfp+6WWUMnT2Z86bwqlocoG0qMMaXClkkGE4Lv3Kzfj3Kb3aRnqWO42TKlpfHvLTfTYnx1amjJpVCyfQzhfIM3N0IcrIpqkBSHF0ud0RYlcx7Lo/1qAeMq6QnmRTBZ5Hcnn+qZ9vHZNgLQaBUumNVUly++dRpVaVDdXx/zCLHz+WaystkxwJNAym+KW3udq5TKFkuDmOCAZapBiNmKaWdt8OmSfZUEEEu3rJgTJUclrk/GEhXKz6SyiYdKsWJRWJOKWKQsUtBQCRtOpWU1Ynp8L1Tw1T87OubraQYaarr1cx1LEhwSvX6O1WOnWLUOfz1OjtXWfsmwOt7RydBgFyAq1mXIvLm3L27Wk+Toc3BxB3SUF67Vq6FL7ra31eM8NDnyTlKHKeyEtI83oVZPcr0DnfhnTpTbKfC5Vl5bYnyOFtluOQstyKtXCibzrk+yjBThEC3Qi18aJdIMOdRMHMz3s05yHkhzyVRykk31YjnnOzS3sIsh2qESDx0eqTQKTgrnaxkg8Q/+ng6VGDxOJAmnhCk6Fi5gM+DE2M4Wx82ex8+Un6IMRNKQzmWKKSqKIsbkZ0psMnvnlfdj6ynOkQiWk2I9OSbVKFNTgHGrJAI13jgqHyoz94hAQwYUpxBYnUQzPo1pM8n9lKwrscRwOHjmIsdlJ+imSLwm2FGi/uHVAgKWE1UqUPQlw0OdDyL9k+1RIi9O08Dleq6RqCvml7PMWLX+7LqXpFho6LTGFawPHE/pB32W9T+M1D0g3eeC4rPXJD7uOOUpuPFhC7w58JBKyGqyUzGVLcz/EUauXeKVnPiXwroVw6ZPrY8TJ8WWaw9wmUC2n7fvgPvIlopElSwSmkymEA9T+0Zi1ctGNVom7er6MrtXptpGnMKdIuzI8T7fhTqKSNZG2knYvOdRM1IDxaNDOoZbntWsKQVLDV6sCW87qcpoaJHUSQegBXJRP1xLFSlEzysfRpLGqgZUDQ4GS36R+0rZCwLZI4SoctFEK+6kUfZZSCw3SM4WbL9AXUHn24YJbt3Uyv4yRLH/PNHAi0cZu+jK7+wm6YwoEpOr0W6oETRcn+P0ErcNx/c7vJ/sRK4V2lc9QjiNKgCaaLQvbBsp1FDs9xJ06zgdjCEUX+OxJzI5dxAPf+kf4/YtW6Rr1T6FVTCPr96HDvt32u1cxvHsr0rQQHTrsKVqMVGwJD//0Dmx/+zXUCIJlCr/DviwUkkhF/PjlT27H/f98GxqKYCnowT6SUqlQiDsrHZdmrwPIeiFWq1BBq9YqEY3SUsXQ7FAJdhTpIv1m/xbZ5wU1R9TdnbfhRSqtDVgXT9DVPOEfvNZ6YAz+3yzIeh7m0SmveEsXL5BaRNlBM9Q8fv+CXUz7KrJgmrziUhxPoNY3CViRnV8oJEwY8wRIikBRxwoYEZruJf8cwiGffZdGT9G8KxfSUjy61bDfZF1kmi3Sxa35M3wgWY80z9nguQNToziybyfSBJssku5JA1ziPjPUjqJcNqgUEtV4FQpRDiQtWFnfMwaaHveX+feAr2sJmKtrHXR7DQ52E921NurLsl4uQNq0KCu9tmtJW7xnardCu4MJWgv5AydyPXP867Rgk4UWnfk1m6X4EbfjtDIqjitSsEOVFZzPd3Eqp7Cs6JNqlgSGtlkQWQ7VLB1SzVOCvkxcmf81q3w9nepgvryMEu/FoWCmCdRKp0OhqmBqZgKJTBTdKv0DJ40uFU5+9LwbjiVF+v7X/g7vPvs4vvW5z2H8wmmsUoOv8n9OIWaUtVelz0dL+fEbL2Hu3HEsU2Azop5UBFbESsDs3PIeDu3eYvVuAogqLUq0wK1OkxQvflmQfw9AnBapNpVJmn5Phr5NiwCp83oK/aoAUWXpslylsiyK/BcqMIJFAZxauWD3O0iZJK/argfA9Sia97v2NQuiNug3KGpTl6nizeRp1vxLfoyMjdInUOjU3V8Oe7HsUiNZC2l/AcGLTMkqiIdK4D0alSHVisfDSPP3VCqKJfoYft8sQsFFo0861uWmLRO8UNBPEKhKU8745SiYBF/7ScuLR6rj8qUkHcQidm9+G/fffSe1XZDOZIKUquHeE+/tzffexq8e/zWmZ8Z5f0kUeV8lHqdBLpdlSbLWHAqHOe798LOFokvyNbgfuXBLxWzcXxXHuk+HlFL+hUAiC9JuKARKQHSWEShU6HN0CYhlJOmLdHhMuNLAefohw7QARyj44UabVptAJIUp15tGT3J8xvF8wyzD3pTmPbjlIPvysLKZg3TMT2fbOEbAnKfvMVfq0Sl2Z8t16Cs2OorEVRCk1Q9Q+eREcUlrt7/5NBK+SSQ5pg/c+m3s3PQuGgTB0L5NeO+NZ/DVv/8rjI0PY3FsGI/95Ee0HAsokVZ26HMmfPO4+5++jneff8rKP3roUtnRkc9FOE4ZzM2OWo6jSXBYRTadbQnuGuj3sK9vBCCqupX1SMbka1IZt0q2vWQdrJXpuxStWNXhODQEEPax/F3lTgSM9ZTKA8Aga1rfvP3MgngnGOReQqhaiRfL5DIIhIJYWPRRSOTAyKmq8+KkHMWEASFGp21ulhqK2lmA8JqEXsARUASKIC3E/MI0pqbHMDc/hQCBkefxEkCPnuk4CZoET1alVMy6kauKJkMp2ef6IBYuVthQ1byyRLkYj6MZ5WCnQn6sEFRVHlujdZOQq4bspbd/h0ef2oBAOIDpyVEkudX1dA0lGHUNNZ3fS1zqvgxgvEalnqHDSqoWmMUzj9yP8/t30TK6foqCB/JbdK52hVqv10VZ2pt9tJB3cIyCnag3SF2LpAcUXPolgXwTeVKhVFmFlXkDRoeastug0uE9zJGWnc92MUxn+yJ9kjEC5nxp1aqTJ7Iq4isjX2uiWCcwGyrkVCGmWwld5jaciGHeR+WTiJD2FLB48Tzu+uYXcO7YPgpfGO889ySmz55Bg4quWI1jw6uP4at334KF2ALGTh/FAz/6LgLzo3D4TFTpwEoLUVrow5vegW/sHKp83npVrCAJVUL7fDOUl4SFs/UsEjJNj2jS8mRoZT8NIFcIZrtkAIiFw9b0Wb+pYHawqfSpSdloNcRmSsYSVFmx3uG+luX4NIB4++t4c9LlEHlmSNsCtaVakb+X2LEaPDVlrSW4K72W8VgJXo6CGaTjdv7cCVy4cBIjI2f43YfR0QsYHj7N389gcnKMvstFzJPizM9NY3x8BOf4v8CS71LI17M0+r660iP3TZJizZLaqHrXDQnKgrh5Emltl9ZpkEq0TsrslvPKa6TRVBRLFoD/r3GABFQfLVXZcU2zKJbAqOBBNO4jcOdpzWZtgJWIjFAhREIhRDk40bD7PRRaQpbCHk8EkUlF8MyGxzE8NERaRyGghl2lEFTyGQooqQfvR39rfI5sKW5+hy8ah2p7yqSBaUcgqRp1rBbi2E3gbnr5BYI5xf6P28Bn+FzZVtuSi8UGrTU1cr7tIE6quZSm0uCxUMCBNLHbkp8oKpxChH6WLPIiFdEcHWP/4pz1TzalIEkS0cUpy/t0CdKelAHpSc0hIAnqMVqAfccPIkaLUKSPtiJLSeokSmxUOp1Gg5b5we9/Cxuf3oCVMoU5qz6n/MjvzKZIwyetf6XIGlUlA2n5SU/TvE71EkDK5uvJ95Hwq+8WRy7CyaQINgKqo+hnkcq3wL6PuZPybC6PhPzKZuFinZfnyRTcQENVWX6baerONlUFiD4PAmW9tRg0EoPgMoo1yNNEWdRkogZ5m1kXaQM+oPi5LEdJfgU7RkJtViIVMysSpmaW8yffJZEQgJYwR3Bk2QFK+ilSlEmLhrnhXfNRLATsOva9bpcdE7b9JUTSzl6UzAOIgVN5lFIKDjskW3DDsQWLjCUugUiWJs5BlZ+j7145i+eEOzXef4n+S0MdQr5Cx7Op1S4oiA0lr+ryeWquM8gOU78oOz83P2OUs6lCOg4w1rrU0qQd9D9UP3bh0FG88cST5OOkqckwfkxqMnLqMNqkjzn6GplcFkn2S6EYwYfP/Que+8U9yNE69VYVINF00DIS7J+8Ko3bKpEhEHjfzXYTtV4HBT5HIqeSmoIFDny0tqKOstAZKoQ8FU6XwpPj/+KRJYRJZ4PBBf5/ysLnSYI8nYvTAtLnkzBJiAjcBClwKkPKRP+jQFrWoJKsEkBVWiUFKbrso2LST+s7T+rURToTI9VsWT9oOvb8/Cx/c1lAm8pCCqTO3zPVHMdJNX0STAVDSm5+iUKaJJX+wVe/ioPbtppCaxEgCoJkM7Sisz6zPJVq5pIwDzZd0z63lE9JkqIKIJJbFxwuQHIGkutZkvXWY9BnMQsyiBwtyDAIDs8UWfy5rkiNYwCRxi9yX1XXhgIBC8VqOzE+Dt/ivFmKQGCR1uIiNfMchVQCn8D01Bip0wL3mbXtAqmWnPM0NZznuzTrdczNzJqDLgF1ub1rQbxMvGu9kkjF5xH2T6JJx1PJvCI1thxwAc/LrQQpEKKBHpXzAGL7FKNWNqG5yyVqy5WVNgEjp91rAjEtlXwPxc8VkuZWzuGEbxoz/imkiynkpEVJtercgv1zats23P/d7yAXXoSTWMLmF36DfDxoIXAlwaQ8OqRG2UYKLfbjsqNC0AQFJAOH15emjUujyspoHHi9Li2gckcJ9v1CeAEjcxfNUiwtzfP5ghT2jEXulP0uK2gipcP+7PC7ozwRqVaVFjaZDsMfmcfsksAyTX8wSN8wYOwgkyY1ppWMBubx4pOPIkO62lYkiBagwX4q0tI4mmRWo1KjpWutdQwARfWL/E4KuyxYhdRX4XBZES2rk6PAXhMg/N8KlcqJvbuRpsLQnPF6Uz6MEsAVTE3OuTV//G09ONQ8mqRJTgpVV2hVrgeQa9EtT8YFNG0HcyD6vwHEQ4+QI4B4zo0HDh2smicvoiOAyGJIEMdGRjE7PUNOP0mwjOP88DkDwcT4BRN8OeEaxFlqN1Ed/T4+dp4U6yRm6IuMXDxr//ecdDeb7gJEuYlKuWAAkXXxQrTax4Sfnfg+efST9/wYqzlFZrLokZIpnKh9vGN0Hwofe8d51xFIarQ4h3dvscy6olqKVjmOHHaZe/aFBMKhI+9QADJhOOUkCgRMWo0dH40vIkSruRAJ0orxHLS+Ke4nS1QkICpNClJZkaMMrYlD7NAakY8Xeb/TU9MEGRXG7DiysQDaq3XStxBKWYW8I4jEYwjHoi7AIz6CUUpnlscnMbRzO5xIBDlSIUeLaWjOdV0hV/qF1Op19ZMieIqOUZG89fLz2PT4BlRJFVeoZVUhsMznTaeDbKSSUb9F42RBQgTHyPAJ3HXbLQjRt+xSRtL8/4WDO1DjuSscdymZrlE8+oekVr1CHsM7tuOp23/EY08iHg0R1CWb0lzh8dnrWRCOVY993mvX2TdVNxpq/c8xdBpUtH7Iv2p1rnS0B61AS048gZEl+AUQ51MAsh4kg9+9kLD3m859CSDa2TLefX/EQ9AgQKzAbMCCiMooGqTMuDSPtJsSaVWeI50IUTsr15G0bTYdMTNeLEjg+P+U6qfSZjk8QfYolCyI8iDRSIiCErPIUFlZz76Aq7nh5QJCc2M4e2AveHIk43G88uH7GKMD7lEsNS+/4jncXl5DQDp7cCd+8M2vIBGc5/+VV6kb5ajVlJHPmvA5tuXAVVTBrC0FiUKVp1adO3sMYxfOYyEQxpzPh3BwhtrZR18mDB99AF9UAPJZId/i7BRGjx3Bvd//Lg7v2U1Hukn640d0ZhrzvOeF0Bwt67TlFHzz0/SNgpiZnWH/ZTE1MoxD27fgmV/ei+ljB/D9f/gi3nj6aQu31ng/dQKwQUFQfkn9bT4Y+1UgkRXZs3UTDr/9Jqq87wYtQI1A79BSaRJc0fyMOK08gc7rpjNRjjGVEmlYXX3N55yZGMb3/+5zGD64m9hv0UrVTcHQYbT5/G0K9sjhPfjdhgexxGcI0w/NJKKWYFaVbkY07RoAkcJVU+TJQEewCCAK4RYLDn2aBShCVWtowY2rAaIm+axwzAQQh5bk2gBRu5wlXw8SL1eynjldAoh2ErXS1juRh9BLIeA+QGTGcxlRmZRpH2ktdbCavpcJiiwBUpWPQh4rjZhnZ4uuJBIBHhdHJqN6LrdE3YsYmUZXBEmrpbRapGA+mzAlIIg21OQ8KXAgH4nndtiJaWr2FoU6wsGYJyX5B3L5rbu3GRB0Lt2j+UW0Im6Uip0moPH/oiQN3u/sxdPoyeljZ4pPuzkd18kvK4hgdJL8tirrEaPfovg/nXw+5503fwEbX3oZiVSO95CwkGcizmdLZtDOF60eTBo8HyWgqExmzp7Ebf/4JfyGTn6128NLjz+Gx+/+iUufKOi635roCrV5uVyy1WOU2X7svnvwyy98BW/ccw/ydKZffm4DPiG4lbUuZqOkTimbc281ZuojnqNFgRPNksJqsu9apIylRhqxCseM1M4pJywHpFC3suJScn7SYQUjVMrT4W8Oha5FECpfNH96P2lU1CJSeQkYQeRQ8zeVZ+JYVhw58yGoqFXBjvDSIsFLakQAyIJcdtJdgGhKq8ZVcifFJCrZEku55KTz+QkQRahq5qRfDQ41Havgx2WAuKuUXAsg6yNbApe2Hji8c3q0yxKFHoq8NggQrw0izgRPTrpqqdhhhWyMQhC/1DQ47v8SKAhI9D30Wf+rkCfW6ADWqa21VQjXzdZfznOskmoIdFrCJxQKGcVSVKVK+qdMuYDX5r2UCTwvOSnBl5VJEgxFXqtG8OjaDVqNRCSACDVaS3yelK2i5CXvuZSP8pnS/URhysKjqgyQRuvwmk0OXGDqIp66/ycYObqXx6bsvitlt3CxwGsH5qYIetIiDtCif4YalyBr0NrSYbeaMAos1qhxOVCqTuistjBNDbsUDJCiLGPq/HmcPbQf+bAP8+PnqZDb4MGYPX/aolNhWhNVJM+S6vgWJylAHAdHAEhgrdewbLWA7ikXa6pMVl8X+vfLPlfJUJX3lmafKTpZYasVXZ/MooGOkqcp82fKVAZVRZ0GmqxUlVRTlqrC/6v/W7zW0MgpFCoqSapgpVPjfcV4fV03Q9rmQ0TUlvup1N3K2fvy5gmh992TLbWWauxqup8MFRsBV+uvUzAgi97xUt7LZDQF3mOKfaKJWhUCRCBZ3zzACDwCsbeUrifz3vkG5f5SqYm2g1EsIUq/XXKC+gDRDMBLAKFG1EB5zQNIIafPbiJOzpsBhk0DJY10uePlWLtRJa+5zrhrUSKBJTY//ZOoPUyDnTZx9Ahee/BB8zc6y/1koQS+qAF0fRSvEC2rsG9LBYtBLIUW0BBNbMlauqHRRsn1M5RFF0BEp3Qes2J8/rVekxx8DBvu/ylGTx6yQZezLiAqyqLoSov3KXogDhyhH1HOK8xcBtDDCv2QNn2DyNwEjmzbjJoieJkker0WW5vcu4OVtR73Xcbbrz+PX9x9O4Urj/N0WL/1t38N3/hFJPzUwtkMeionV0nMQP+tdJUvKl7x7NbYVwVaFlkABRZqtHTDhw8gMT/HS7VdJkCB1vh4VlbHKZAhB3s9OLyxqpRiRotcBUdho9Df/INvYu+Jg/S/NG+DWpwOvwcQMYUQFZOqF9xSj88GkEZTysTh8VQM09NQdE1yd32ANAj6rBvF4rP/uwJEF7MoVX/HgmhRUebSBYjn3Xs3dgVAaCUGLYcsiZqX0/CiRh59cjWRkndZ+6zBVuTEA4lHtRyHnytlLNLxVzl6WZrQ5sMXcezDD/GtP/4z+hxa+U5JQjdU7F3DMva8F4UwE/R78rxGILxIqkPKx0ETv80o8ytKYBWnohnKpqvMxE30CezKaou69FRVwI7vEpwtTeaxWi1ZXN1PhT5A3ayXMsjypyRgyzUOWqdhWk1+1tEdW3D71/4RibDf+rWLNrK6D1KZEvu3ScsS9E0iHpjD2krXKNb0+DDvM4oYrZOErKJyFkVo+gJr1IcCJ86u55b1VShcFki1TGoCfE0hdDre933vVmx68SV0KyVTWlqcebkfOveos2ioAaQ/PoNNFsShD6YiVn1XQtLhPR2ZHkZClbYdLdomxZIxmlcu0OLz+pIFP62Swsoenf99AKnX3Tkh5VLeACJqrOe8FkDUNLlL9XYCSInC/+8KEA8EHhfzUvSeszJ4I9cCyCC9kmCZeR7gcmo6n7SsBw6vaZDlgK+3IOkMO2Z8Chm/H3fd+k2MXziFFIVa597y29fwtT//c2QpNAUKmAC4vixECTO39ktBgwQHaI4OYwjxifNoqCSbwHI0z0MRrTJpGrm4arAsH6DzlbhPjbSN3NzROWTBZDF4jKyY9lHiVFYko2fmdTuqMOX5fLzWh6+8gr0fbTYr0unVUMnE0EjFrA9Uw9XolcnzSe9IWTTvWT5aMRXCKgcnTee+RG3dXOFn3kOW3Ht0epT71cwCq489SywrKECY8nHcCgBL0JHfq7JACUCdu02LmgosolsqWs7GzWFljPqq77zqBAUzBHJRuGsBpEqAGMXi9TtSHPLlulrsuWxRM1EvRfnUT0WCuya/g79rdqfKij4rQESx3LxMGaFAkPebsojZtQCirUpa5INkBBAVSV4DHP9qgOhHDyD67PkeugnPqVG5sQ68CiB9iiXBdSiQ4ruiAbbw28DFXMrjUgPP/7jsg7jTb10fxPVDFhZDyMboQCdi2PXubxFYnKCWqBldSNPJ9y9OWWy+7bj824tWCRwWndJ3lYCoypaUZW5y1CJdj/+fr2L00E4T/rycUEfOWeISxZLj7eZGCBCFeAVAaVPRGPF0AqZScgswBQ7NeW/qvnTv9G2ayiOQzjx5x9347WNPuoqmLaEt4pP3NqIQjWCN/klqcQa/uvMHePm+u3HywGFMD5/Gb371S0RpQRYXZ9GpqSogZj6R8ggp+iuVpPypnCmipvq471sooqiJZAoq6N7l9MpHU181pOxKSr4SLFU3aZrVWDXkJFewRrql/lZlhML2AogFCfoWxEDhjZtZw+glH6Sle2Q/NIp8brZVPpdC3LW6rimguDkk+R5Jgi5MX+RaADELJr9KQm9OfBkrVA7K3mvxjkwqbRZUARqrEbwOQCoEhvIgShSW5ZjfAEA8Ob8mQDxg6B+X8x81K8tQJaZohJxWAWPQ+xcNU8JM0Qvvot5WD+Px4UuCKyfNtLAGt+AKMX/rdlqmLeqaAlt3k3jZZA7JiMx5sa+RMm40pu9vVEruzEINqkyv6Jz5HgrhyoLQ51BJRYc0Yyk4jdmlcWRpKbZ89DbymbAtaixhryu5qPvn52VSuAL/p0jQcklFiTE4Tf6/RC2bo1BYsaTCgVnTzq02fTYlEMvStpdbTSHuEAW6WESmqshUFjNnhvCTr91MR38/HFqjx797K+7+kz/Gj//kv+NXv74Ppza+hUf+/K/wmy9/GXf87Z9idPQ0suEABS9l971I4coXaVn53JpZp9xHMRtGvRgzJaFst4CrEgutA9YhjYoUYgjIOtJKqBynsKwKiBp9H1VEq44tZ1UHbt6pYlbFyxXVHY1XBvFkzBRAoUbr54TMt5KFkbaWzyXFpzFfVok//cWli+dpoQRQ0qt81Ppf1cKqt1tYmCLt47XqmspLy+FQGZNG55bLVpyqUHGN1sipaUVN5ViqRhmVl9Gs0m6neYmKe+kAfZai0vHyU5RvCdJyKeTrgeF6TXLq1nRdacU8EHvNKJbng3gZdNUMyVGW4ErzuEuBuqEwDyTebCxdzH1vSN6oQdGy0K4mH0zMmSMpn6Sv4bV1LPPbtryIfAANmgQ/FUsjshSySJRxWXFuHdd3SKXlPH9F55cW9ayItPmetzfiF9/5DmZPHscLv3oICyPD6JQV+YnbWr6KvGkgVWcki6eIjzSkHFGBsZkXRYsaQNoKn9I6FCukIMmgacWVZTdXohlz6wGipqBCKLyEXrdDQaGDzWNiM8MUjiSFLYkJUsYLB3ZhZmQIR994A8WEH299+BKee+IXuONzf4yp4VMohJawymft0j8JR4PIU5P2SMfa7B9past5WImMapqUYU+Y8pDgUJqsZOPCuVN45I478f7zL7j+Ip/X7lnHKuyp3ISjSuSa+R4CiEtRFa6O22IJNieonmG/pc0qWwW0/BoqSFOqfLYGz/3cQ7/ES4//2ip5W6oGKChZ6dIxJZRFcyu8plVkSOmuaDVGyhjBqvvt0Vp0VlpWZKl7tKVnuV9EZUu+BZuUZvSxT8NN+UqGCAxNVnMBQkpG5fVvBcgVFmTQtFj0it+14rVKx9vUAJr+ap1adzON2k9OkQ62BI06mRdUnFmRk3zBrdHy/AEPHAaQPjgGLYgAovOL5jhKdpkFySPkC3D/rNEclV5YZwhY4v9FN9Gnz9J8ogayctJuysgHxkaw9fXXMHHsKL78F3+GU/t2k4fLD9Ji2DL7/YhVSTkAlwoohyOFkCV4mppRqMQgKUXGN40VlT2wbxS7V2j5o/fewsTIGetgaef1AMmzP1IKNWczGB8awsUju/DCo/dgx6aXkW9R0Gh99AwxCtEd9Kfee/1ZtFerOHfmIB76xlfx/qsv4Bt/9Tl89MxTWJq6YIWGoZlZRCcnUYhFQHNHv4eCp0RfQwWQblgeBG6VWj9GYV+l0pg8fxZ3fvObeP+ll7BC+mpJT41XHxzKQ8n6ql8DdKTVp/qukvwUnWopsFqe/aXK7JjfFFwpo4BFxYISChfLEVffKhCQ4nU7EjQVXfLZzBcxmUghoESsCWYJ3dU2fDz/Dx++D2eHDuPIh5uxND5G60h/iM+gqgDlZQQI5WW0cKCjsHmflViUsW9NFEJWQast/0Q5DpkFuRoQ69unAWSw3TRYVuJl0rX0it6ypJPkRRnYAdmKGz7Vidqdmh2jz7qYV35s9MoolhuPv8L51m99cHhNFkLL+riCKz/AjWqV8w7CfQsiR7lM0AkgEqpBkKhJ+wmEAoYSgiphOXhoL7bt+Bi79+7Ax9s2YXp+EsdPHUWCQDp69ADOnj1BP2cGce6vAj9xZG+ZIL9/DhFqb03YmZ0cxsO334oLPEZL46v6dOTkEL70P/8UH7/7ps2HWQ8OtTRBVqRiWVqYxUtPPIp/+dmP8eTt38bmpx4irUjaxKpsTGUiaUycPIBzH3+IX3/t6zjy5u9Iz+aRii/hyKZ3sO/l53HrzX+LC2eOI7I4j7u+8w28sOHXVq2s+d2OhK3dtrkTCl9nKMQvPnI/Xtn4Mnl8y6YCFOQvyXEVO+gDRArJVUpuQtSr/vUiWsWqJrURKFKeHPMgrWGqIKuQwZ6PNmH0xHHz7SoSKj5nMRNFS8zDUT6EcsBnLJP+iTar6kB+z7xvikpHlsFddX0xGsDTb72C/Xs+wc9uuw3Hdu00B7vRUXVuwZruRxXdWkBQuRDPcnggEUgVTdRcHEW6lJA0C3INQKxvvw8gXk7QACLL4e1gUSyeQFopy6YlWSIVtqJolfwN14poP5eS5S4Bw7u4J8QeSDw6pMyuEkpq+ty08KL7mgNL1tk6ubx2roKleYU23UiSO0U3bz6HtzyQrIbmi0xPjdoAq65Lv2ugT549jikK/llSjE92bsX+/buxbftHtmzPDn7ft38Xtm7bjL37duLNt17Hrt3brakSdtPm97Bp0yb6Lgs4QYf+C//jv+LQx++i3aXzuNqkRh/Dh6+8hDzBpTna68GhBtN80wiRh7faJbx0349xy3/7LwTI41Y1rMx/IS2LlYNv6gzu/c7XseH2H2L27CkkOcB1OvY73nwFD37jK5g4fsCc/MX5KYQWJ5BJBtxqas1fId1qF+Ub1S2knE76cZB+1vjkecRobR7//h2I0sFV8kylPyVl0gespkAii6GCUa9fNU5dAlhvacoklpDORPDA00/gnqc3kObF8HPe57bf/Y7GSq+RKFpAoKvXTwh4SkjWlcfKW+hcFQd5WpAU6dqsfxqlqihj3Wii1jfQckEkjajQKnWcMjKis5bbyZtMSH5mZyahamoBRIDxInYmT/oumWrVLGGqosl/D4B4TrvaTTqxHFuFZnVxfc8Vc7xZahFNyKnXkCyTC+ZyiNNUaiUT8UzH+GzCOr3BASwWVW4Ss9CrlZxTOFR20WxK2yuUKu4qzaJCN2kBlbgnjOOKb8rcq9xc3DfgC2Ls4rjVVs3PTmFmatzWyTpCTb6TAj4yes6WnNG8g8HwsGiWeLgm8jvUjKvkpkuLs/Q5klZ5rLqwErl6WaUfad1fHGGeV/PV5/y0KDT7p04exeHDB3H4yEF8smUTnt/wKMbPncYZWp3Z6XE7b7OsaJ0c+STvmYqiIhoRR5q0okzz3uB5D27/EEf370Aq6sMLTz6Eb/zt5/DwHbdQI8fwPinVoY8+oLCHzDoepLXTC17yytNQ6RTZ5idGsPPNN7FKhztGi6bixkKKfoa4OYVIi1I0V5pYbXXpSLeQVnKOQrXiuE7zwpmz+MUt36OimTYLYs54XTkQ1c5xHCqqfE7Dx+fOaCouWYEcfS3pU+P4lym0a8taT6yCnbTIOw7usfBvxDdr81/UDwrvKnqp4/Q/bRV+Xla0SULOsVZdV47Amed1lL2XUMtR1+w/tbKVnVRM/pTLMO3tyHelwFerWJibI3tQ0aobhfMsiOesy0/SfCHL1vP3ZF7AvBw0ulbzolgCiFv6chkkxooEwn67yQuNek61Wk2OYF3x9BqphmpkHFu9u6TVO3od0xJaDqdYilDw4qYV5WS7fkS6z3PztlVGtMQOEn9Xtay0VyoVMm5qjm7ZnfGnQkcllZTN3fzhR3j/3U04dOAgtn78MbZ8vBmfbN+K8xfOYJIWQ4vCXXqzlTp8XdNix/b2W25naEksiWSaRYEB3h9BIkogZ1ROZ5adqjIFhT/V+Sqzz+UyNodl27YtGBo6go95D9u2fkyuvtAvgxF94DGpIE4f3oUGBaPDflFoORv345F778TTP7+PGj6L/Uf24n996a/w8e9eILWaxgM/+Baev/9n6PE6AsNqzbF5JKtYRpf3nSfla7G/X9zwGMZOncCKZliSY6cJkBr5e62Yx9ZXXsPQlo/Nsq5ixZz0RjpB/y2AEpVHj2NWoMYXtbVFNnTetIIUrpCpjky/R+k8q4SnrOOrboWBZmOmI0ELhhiwWloyicKcVuQsjSTHSOMmx3mwOsLLbyknpKV/KhxXKTLRTZXh6FzeyoqeUpNgrtfabl5GIGvAt+BOu/bGdpBiGVCq7mIZkgWV/+QVPOpPlDI206/Dkq+s5n2/DJgrq3mt9a+hdtNggs0Di9DvVoWqJsfVCiqvqNIZKpZUoiwfgyAgLVLIUeZa86A9fqtstJI7sWiImt9HEz5DR2vJzKXmmR+jY3aOdGJs9DyGz5zByMWL/G0IH77/PmmTH+OjE5gcn4RvcdFmHWruiPb1XjctcFxad7dP37wmXqqJTVbAxo5aCMxhbmkW9z96P46PHEdVK2ZQKLPU3nIG5duYsCjZqfg/O6VE7RhPRCzMnZSQccA1tVZURNROk680k1LWM0df5odfuRlD27dgVeUg6TRCdHj9s3SoEzGbfHXy4jDeeH+jcXglKJ9+8D7cRec5k0oZl3/n2efwzCMPI6aSd2pLSCBUoHjvXTiyextWOiq7oGUN+VGmoFJS8PZjG7D9FfkaHROoueEzeOqnd9MK+tzK1rxAXLLwaV2rFEYjFKZ+/orn1jPPL05j33vv4ugnW7Gi/lOQRslIleAoX6XkG0FRpVVcnB/Hj/icEyeG6JQrY16y0h3nGgDRdSwgU3UnpclyaNqD6JylDOpuLs0EfUAwPUE1gDgaG4cMQmujuRGtQQtyabwNPO6UW607oBXrK1LOA6CQH3S95lXxDrbfCxDlCWrlhFmJhqpl9fYlAmJltccbyNt8dZkimVn3YdwMrrd0z9zMDI4PHcP2rduwY/sn+HjzR9xux8ED+yjoF7Brpz7vte+fbNtuTXNKUokEVnsrWFleRjathFzOQnheQaOWkPFe++bNbx58GK8paqLXsskiBGNLiNFpfvb15zA6P2Lz6DWgmtaaSAaNu0tYbAWWfpmNghGaKafOkp/lTiJTaFN1VHqRT8k4u2bmhfxTmBwbdufWs2/iyQjBFYKWRLVcDRVFikolWVDZRdqSXc/+6kG8tmGDrfWViCzh0KbN/O0Rq1JeGLlIKvZDJGcn0JGwlTWVIGQh6okL50in6rQC7H+CM1VPIkcg63veP4/3nnwc1VKclIa/8xn1nr6CfIwLF/DwnXeStp61uRfS5EuBeSvHeYXAfOeFZ7HsuE62LbjQpF+aV44lix6/L3crCAWmseGn/4zFc2fRyGesMrnba13TgngBFY2ZMRI2zWiUbFjRYc211ApFDwLjUni1pqkK/N2pEZiLUMmJ58/acf3PRrNqolpK9hUNILaAQ99yrAfIemviWhR3Nu2lFEbDjY557ZoUSw/sWQ+rwVGoLh1BOh5FTDH+hKZ6kvPlNdciYrPZlO0MU8Pp88T4CE6fOo4zp4/bb2raL6sK2qIoVticMOVXvIUS1GS25XAtdzs2FyQaCUDhO9G0thacVsfWVDvmWg8tCODd+2DTg4nrqihwcmqEIMi6WoXXVnbZSjvo/BfrWSSy7oISSkSqhD9JzpznfuLnalq0213Pt2TTU1WvpT5SaLG33DHtqsXqYskwFkM+LIaXsLAwzmeeRSi8gEjUbysSLizq7Vc++JemcXbfDrzx6COI+uesEriWTNjatdFEECNnT+I3v3oIi9Nj5iOpriwVDyIe0lyTRd5DCptfewmn6YsFlggiUsF0PkLFUsWHzz6FJ//5h6ikNYkqj2zZBUmKVvsFAnCedDMa0hSCBVv8T3VebfZXUz6o6t36GfRMLmwLOTQ5zu8+8yQ2//Yl1EgrKxy3FYJeVdIqEVIk7VoAkTLR4g0m0GIk7C9VVGvq8yBNMh+i0c+o9zPYFgSSP6Co1RUUyxVYDyA61ioYzHl3AaLqaq1FZgnTPo3yaJW2VwSS+mAZpHdeAErX9yjdTYPA8C6uz/rdexDNNU/G6FBm0+bAzyzOYykUxOzklIURNZVWTrSmwCpMK02hsKvF1Mk5xY+VG3EXalPHKSeRNCfeXSvLjcuLpklLq0M0X12TjkTtVlZE7eTHuCthKHsqcGg5T2XVB8Ghex87cxJ7tn+EnJYWIgVSfkSZ/OcpeFveegMNhYsp6KFUwEKLNi9Ey8VIA1WVA1FdVtEA7ZUkqOl9hjZf3JFGK1m1aZXOc55KY63bsnkgWuxOmfmqlbDEzYE3ISrIkS3ZonxvPPkrPHn3HYiRtkQopA59ixlSyONnhkj9qITCQQJLgPNjjpZhdnqSliKBmJb4nB7BS3fehZ//yV/i2a9/iwAhbaFVC2YWsPX1F3DXX/wlNr34AmJUWA4pZJTnz/G+SpGIrRWmuS2K+s3NTxqli0R9lruyxBz7Qr5Ip83PtLTUJNjz+ivY8vqLWFFWXIEVlYBQkOQzrq12rwmQLMcqnVV5S9FyKQJIlvIj/9KzKpIr80f64DCAEAC24ENLrIQ+b6GEmSnNLHX9kkuWp+oylmsBROzGfZfNlWAYdNIHrYhAYbWCVhXgAkSh6EsWxON2Zq4aKisRgrx54GWLMcs6KDssuqPUvybW+BZm7LOWqZGzHY8vGXc1AdINkZKJp0vwtX6UcdnylQVwliGXSWSHqR7I46XtepPCnUU8rKVK3TfRikY0m1r9UBGMfuy7rISRBFYZdpWi5CxcfOCtV/Dkj29DNjBLgaNQ5HStPN5+dgO2vvmqRZsW4ovk5tJublFjUdlyAqwliiGQcuBFATQoyhU0G1UkJEiyXByItU4TzYrL9TXlVBq7wM4fOTaEEvuiu1xGoapFESLYzvv53RO/RlRz0muaG8H+qVQwPT6B/ft34qXHHsLf/bf/gh/c/Pc4d3oIQf+iBSb0LvpDhw7gxZdfwKkLZ7B97yfYufUjnNq/B8d2bsO5g7st3CufrNAsWnXwjldewqPf/TaS0+ME2pIBLUVFU7cVV0rmOEcIEPkiyjNJkcmiSIlYMrc/HmIWmnFp800E7qr8DreGzgOFVlTR4ha1kvtOcmXVlTwM5sM27gp3Ww0UW4XXm5+bvIIeufV3l+cCqa/dSCrpW9d93Z5/0WfMwq5v1MtV5vps1qgmR99dRki0+zIF99rl8O36aJaafvcKdNdHs9RuGuTu0sDqJE291LxyAUHTaUV1RJF0o8psCixGfQgicXHd/NTkiEU9ZEa9FRXVyXoQObda9WM9ONTk0Gs/dZJ3fb1kRdM1F+jUB32LpHYJUjwt2KbybMc6SBGxel0dJYdPq5y4AFE0bZkaPB2YwXLb9TPm56ZQzGZMkMu89zwHoLZSJsd28ywCSIE8V9Es0YxKlVaxoBC1Wz6vyU8KGbe0XA4FXFNR3dLzNFb5XE0CbXW5hQNH9uDm/0XNToGvKRNv03NTeP+NF/Hu8+6iDZovIkdVLyAdmxjF9u1bccut/4T/+dd/jO9+75+w/ZMtOHrwAF568XkcO3bUQHLw8AEcPXEU77zzO/z0jh/hi3/1OTz+4M+Qii5a0k2TuwSAKsdLc8YvnjxKixO1VVdkYS8c2Y/XabUysqTsXx/HQ1UMStZq3DVWGjdl0718iARY4+pVLSjR6BWYegDRdymOqiywyktIxwvSxKSjuza/h49ffxVW8p7XKvlujsoDiCfg1wKI46h6V/mQiq3PLAVlDnkfWJ6Dbr/p2JYq0V1w6PP1kn7rweE214J4FSVXAcQTZI+iqEMkFC+/9JwB4/SpY5icGKFDvQfvv7fRPh86uBf79u60/+3ggJ4bPoWdO7aYz3Fg/26cP3caH7GDdPwnpDq7qO0MhNcAyKXAQF3zzl2wNGrsbCW0eB9l0phEJAb/vOZ5K5eiokTV9BTZiS443OU/vQSYKm4VQs4TCAR3MmSz5GSKBXDV/DgEUb6qQj5N7tH8Zy2sULDwsQr18hXSg2bWChcbpHht3tvo+dMY2vwh2gKiSjwqClzkbKGyZWq6drVsx7/6L09h6MAuW3yhoCSnfB0CapkCokjX6SP7jHqKyr3xwe8wOTmN8zMjeHPXB5jSvHUK9eLcjC1uocy/Bi8QWsTF8fOYHDmPEwf38xz7cWJoPwKRWcwS/Ela8t9ueAIv/+J+JAiarKp5VX6heSkU4HP0eZ576F7+L2AUS0sByTcQWLxCTykdWRPNCZFMqAhUv0seDCiyInLAS25U0xu/dqtuycKGFlpQ35U11bmA/R++j41PP4kGPyswIhD5SHd1Tg8I1wOIph+4/mmJoFowRe1Rfo/peBTL/FDdZ1kV4/IzXMH2gDHoX1wNDpeqe4ECzx8abFcA5JKTTurw9sbfQqtcvPbqixT+rdiz+xP7PHJx2EDy5BOPYuNbr2P7ti14683fkl+GCYRP8MSGxwiSvQTRfgyfPW3/f+3Vl92OvAZARLE8beDdg81WK2shAncqpzS4FiVLxMSfl7Dkl6ZL2qp6ihTJYVZI08rDGzmzQFq+R6XP4XgI8xwYJUMnzp3B+X176JDSalS0HE7ehF3FklpFUtNRVVKuSFCF4Jk+fRSrvJ88+fQ7G1/FhrvuRCbsMyul1hKlYCfv3fQhvvS5P0eEfpgAuEpuvbg4iUhk0cLea2ttWp0wfv6Db+M98vm88gns/Cp9Lq1W2e02bHUUVbG2ZA0caVHVweUsqqI8gtYezqUTiAZId6NLBsBMOWZr5mpOxmFaoo2/eBBHdm8lzXEpkVZkr9MyduQzFd0ciEAieuVZEC+C6ZXxCDACiSyKSnc8i2KlKha8UXmN629omoOqbDW11yqkBRDN5GSfropC0bfqLdfZtwr0pC3UO8hYrgcQLYzhLiJeRcC/ZADx/I4r9hOwta3J0RYYlPzr+zON/jykipxxDyRXA8Qrn/Isx1UWRBfxOsjrrEEqdfTIQczOTJgTvkC/QzmJvXt2kAI8a9RlbPQi6dgE91+kJTmLixfOWXHZwvwsInQ2d3yyDc89+xu0ZIqvAoi0jgsQLzBgmqKsuQaa2SdNJedWcXktLq24es7yB7FwHNMT9DGU+TWznDeKZYtP1+p0MmVeK+57LaJ+i569/viDePCfvonckhYCUPafg16UM52lti8gTeHQAm29QhxH338LP//aV1AkuLRWVYq8Oj47SgHOIZEPmAPezsdQJAhnTp/C1tdex/TYBWz74D0KYdBWFAzzOhI0zWoUCMPTF5ANz6NBgUnGlmwutflTpEW/vu0W7HnrNVLRjiXslFlfXtYi2FWUqJ1jmRCSOTnIdFxpTeqyek4Sy9kilqq0nhTY1++6D9/7/N+gkl6i4x9CS7MxS3xOgswWeKYyFEC0sJwWlbNVT6QQHXc+upKKEkJ9lkMtgKjJR0nwOTRmAsilaBWp03K31QeIJr/l7FkjVD7yO3o8n9YzbtIvLdNyqTTIxkoUuXoZILZkatN1wl0KJsqtEpIGwsGQAcStLHZp3yVrIqVaVQClcimAo8CNN/lvcJWeawFEjrwikBYoULmMlKxFLfsUjf1mYV5ZEXWKZ27lYCeTAYRC833zprR/0bKoRWrTUycPIZEKorfatGPl4KlUWg/o+R16aEWztO6VOsazEB6Nk3bUb6JFcvK92iD5FlcDSRpL80XcMJ/XkfI7wgtxxAN0nun0NtTxyt+08nRY47agtQIFs1MXUeGz5VJ6W1Ic8/PTtAopdEhBMhT8ekP1X1Hs+GAjdhEYDgGjmYH79u2060jjqn6oIoGjcFXCC1hV5I3CIAqmkvMercThTzbj/m/cjOnzx6GV62fmppFKy3+KAtRqYdK/KAHZyKQQqGiefQ4teiPdVguvko6couVd6bRskBXp0wqGa13Nu1dOp4W1Nq1iOonxOfqHtBKdgkpzFtHmNVK0aI994xY888BPrD+zitC0SB2WFuEQjIVq0jLgUSqMGoVAxYiNspZBzVj1slaLKdj6t3rfRsFqvtx1ttK2Mkue8pGOBww4opJOWfNn0lipL/M8RcRoITOydFRslRytS15rGyjxSoAQ2JVIEOHwkkVEFeyRTOnVarVulr/56J8FsEyZUbm7LM7qapeKqYr52VlTim5STwWzLi2yHJgAo1yR6vmUpOX59By2fGnfinhrLGjpUaeWtuWD1FQnViy7oej1tG3QSlmYV+CQ0F5acJqdk0j4KUzuu//kCJsw57SShian6C2kWs2uZElCdZr4pbSNHD2FEVVYOGhOBwHiAdKsFQdoECBWcXoNgDgl1zcaBKBpIKeOXDKNRXZkTiZdC8dxkIuOW2ukHEYkLP8lQEpTxdmlCXzxzm9h444P7IU2mp+u+rEOO/CBn96Jl598FAotG4etuqFIlaNo0bcOByKlFQd/9Qtsf/cNN0eUU8CCPJh9pOrdsaHDCM5P2Fq/OVooVcI22F8fvPoCzh7dhySVxci2XbQIUQpEC779h/HaT+/FWw89iBYFvodViyJOXjyN7379y1iYumCatL3WQ1JrWVHw7vnet/HSow/i4Buv4/Yvfh7nd2xDJBHAhu99H7d+/i9tDTKHY5NRgvSXP8PLGx6G3z+J5x95BKfICJT3MatdVJEqwcQxC8yOYWWNCo+CHl2aseCFauUkJLm8O3XZKip4jIRclFovU1KdWIKUd+z4QWR5D76Ij8pl3l59l6RiiLG/tvz2Vdz3ve/gzJkTRo0VmBGNlwVfpqLa8dZv8fBddyAd86PW0aLpaVtaqkOFIAtiJfm0wF55keeMm7VQjqpdN4C0um2zyN6MVg8g7nJWytrLarjNXtlQdZOZah5I1lO4m2TuVDohoVYYTgV5oZDegx4y7a7/q9ZFTcIpIZXJkgApgqMTe3zVA5maLIpAI94pAHlLi3pUzhxzzUSzEmg5Zu48DZVvuDP1rgbJJR+ldjmioZovbdXxMb0uLJ5ClvcoCiXzqtJ8vWlKFKG93MBruz/An33/H3B6fgTodUlh3BIZreVFj5Z+RdbCuxFqWmXWxcHF1VXwuLLSNYBsuPdOHN35kfkrYd8ERkeHqUFpFUK8fsxdvCKZUrUvBZ39mSI4n/j5T7DlrZdw/she3PYXn8d3br+NApHGxl/ei7u/+Dd4R1EmOuOqcG05FZSoqLbQmlVLriPd7TUJwHE8+p1v476v/G88/8t78Ng/34YnfnAbKkEf6aHyHUuITI+Y861nl/CcPLATZw7vIr0bxd//j/8PO955B5V8/70tGs+4D8/efy+e5v2pcmLjC0/hiYd/ZhZEOSmNuWqcRGFcHyRjkbFytYx5yk2hnsPbPOYnN38RcV67SOsdodUui6ZQyLLxIHZ98DYe/PEPMTIybKxCciFWocXCV2o1nDt8mPf1JmITF/DkT+/A0KFdZmEapMrBJXdJVFuSSYvKiRIO+BuyICp/iqcpl1rlkeOnRJ9olqyIF8FyaZNLswbrsjxwePTNa6b0KG83SbglvDItGgiBJaslNh13skuZKLfQKi1Fngdk2UErazSrHPxOx333hgDgxdB1Ie+zLqSBkDXxFm9z1/S9PKFKVsOzIJ8OEJnryzevrT1cU46569z6Fn0cANEx8fc26VrFWiweRjDoRyOfw0JoAcfGz9gcCmjl9L42E8d1OCjFnLtAgEpN5PPIoopeamX0IrW3f+IiPn79ecxdOEmnfA75jAr39E72JlqdDgHXsqWBlPkv8X5DkYBb8apKBPouBfouY0NDeOLtl7EYDVk0LVdWYWDQnF4iwYoYHQoxrDDUwcSZ40j5Z7DhR7fjvi98GZmpEUSDU/RFTiJP8J05vg97N7+NYN6HQkMD7867UdVxSzSLvtLogT0IXbiIcjyKtMpTJPC6b47zMH3KI9s32fsCp84ew5G922zCXNnob9mSb6I1BdWfsR/0kho/n+vZja/h3MQwZi+cwqktH6IUXLDVVMJZzcZ0tbGWHCporV//NKntuM3K1HhrgpoW6puLk6lQzkqpCHa8/CJ+9Kd/hv3bNtnrKFRuNDM1ZfcqRWiJYTESUflK/2WtdS14WKCPSIXbbppfooCNlyG/0gdxnfnLVM1Vtp7FGJQtCwBwH0sUepEsWRH3lcpyiLXyoDvbzK0p0nRR0pWUqmLJxxXabClxqJKQJZerS3P3kedRN51bnz2KJTB5VkULOVvmvOoufymAGM26ChweQFyq5m0tFNnvrGIxT41EZ1JvJUomEI+ErdAxnohimj7HODX53MKUvfKgQM4ei4Wsklar/ynHo4CDKnUXeW9aAX1qZszuc5KAmJkcYRtFwL+AT+in/P0f/3dsffs1rHZrbol/Tq9+42eCKkM+rfzLck9L9js2XVZObJvaN0/ns6jV0QMBLJrvU0I66zrYhRLvm8evEGQqq8gXFF6tIk7Q/+w738SmZ5/E/i1bcHzPLlKeBHZv+wD3felm80Vef+YxPPQXf43x8ROoNDVnXfMriuiyn4r1DIZPHcA/3/wlnDlyCDEVWuYVCqcjzH1yVEhrlAEtxFDtULGQhnYVDdSY9CmWLMgitb3PN4Xo4hwi7LNjw6fwvQd/gjfeeBVZygTQtIW9lRfJanov778lpUPlkC8QWOT8oeAM/RD6o+wHrQmcSgWgl6XqnSuawZknvQtNT1kAw5aLDUfgW1g0BeYBROMtSyJB19QLWZAClVwyq8W1Sa8p9D1a295Ky2a+akEHNRWvevV7avpsETABrt88kHigMYpVyMncKtSZtXkBQQqJwp1ylHL5qHG/KvlejCasWJE2qZj1kPOeZpNQKAzaEKVROYnQKtQqZq7EkkJsinioCLCfsdRW0adkMkxBXbJSFHftXc1fz9h5tGiAms6npTP1e1F0T1EGlTM39D6IHC4G6PjmBBACnPc+Ozttr+5a8i1icX7WftdbbidnxxEgkI/u2W5WIB71I8zr5nitJLVhMZO02qSsnonHaPqnLQRHQamTF6cJhB4tZzTmw8E9m1HloMtB16ohWteqVIjjkXvuwCP3324W0BYBpxZbJJUoUoA+ePF5bHz7Fbz58dv41be/h482b+RzpCjIjpW5mLCqZGV12fpH72UpFlU4WsbZQ/uQIC1pr7RRFyipgc+dHMKuV17Hkqw3HdzHv/Y1fPLOGyjnNOmMCqSiKFENIQJg84Ed2Lprm01IevKFZ0iNlqAcyYoEjf5aRwtSqOiPAuhQG9d53QqBqxVVerTE6o9gSItbJ3mfOnfOpiBP+qcsTyXWoPIQjaNeg6a1wLTmcJvHd6nltSK83iIcWFLt2ZLlqsRQBJQWQdWi8Ks8pKGlTLWgn3xIOvtLvgCVkvzhkCkiCba0v+eLWDW3LJuqx5Vtb+o1ESWz/F4R4mAZvRvGdbPuLkjkZxZtf0UHLRdirXzpHDeVilrrVnRKZevKNYQwT6fLHyRHnB+j1piGj47YJJEcDQetfF0JQFkNzd8WR5aGF5Iv+QqKOFzV3LoXz3nyMpjK7npvpvKQK6sl9IqGeRbIfpP2aIs28Vhar+lwAvtnwxj1By06o6K+UqlI507L2CTtPt3IRNmA6J+fwef/5I9wlHRihfSws9whJShi5OhRTA+fscCDFoous/OGR89bZa7mZo+RkgnknZJjc7S1uqAmTOm9G3rTrV5maa8MoJWZODdEyhox/ltrO7Rak0iy/956+in87L477A1Ob/ziIXsPYK4S5T4FZDj4mjagTP4a3XQrr9favCVpcQUnFA53s9rKn2hVkTCfR9slWqg6BzK8OI5GMUXHv24rQqqCNkkldGbsPP73Ld/CvlPHCIwF3PPQAxhVCTmBl+J9qcJBQp2nVV0VPXQ0c7JtwqICTxVLqnhTE5/aSt71E4VWtyWrU9aCDlq/QJUFKmeR8lKxYsRC77KGAoTAoEy65gK5q1iqua+pkNb2nGRtVaGRTMQxN7NoAFGpk61XIFooaq3MeR8gDuVXPqe94VZAFUi8MO1naIM5D695fovk0wAiTe8CxB0IJeAUJ9dbg2LUBHq7bSCol9C4N2trJxkq3eTReoB4iyN4zQBCC+UlYgZB4oWD5fvIV5EfJJ9IgPE6z8wer7ds70XP2ksp/Zk8js8s0dkOYTGml4JGLFokf0lRH70EVHNPBCyt0qeV22PUgp98+LY52poYpEWXG9SYv/7RHXjuoYcsuSjLduLsSbz57kbs3r0TOzdvxhM/+znO7NqLQzsP4vShI/jo/Y32WrMLoxexaeM72EEOP3zqBLa+9gY2v/4aTgwdsntXVekStaYWXaiRolbE9/0U5IJrETN1Ws6UliHK0b9LWa1XG12XOoieaB0AOcQqtZCjyrFKExAp9leSljvHPk1RSMMx+XYRUk7H4vp6T4oSd8f27cDs8Gnc+sUvWNmHXufsDyrRSU5Px3atSU5PTQ1aLdEuvaBUK9Ok8hEUKikU9FIiAuTC8UN4+anHqIAC7rpn/ZosjbW+a6uF5DzAJOlPZWtasihtU2hV2aDV5O01DvQ5JOxKtDq22LVLlz2AmD/gVOy1GtGwFrGrmAIVu1CgwNX4shIScC39WrFwclk+h5xtLUR4DaG/kWaWxbMgKuRzneTLiyYoZ1BR5CcSxOLivCX+9BoC1WiZP1HXkjcK/emFLFdbkEFgXF5JQxbATekPNnPk+v6LgCGwKHIkh14OsgBksWlqprVuv5S5t4wzs36cWghhbGaWjm/BTKOqgW2JSlIGhSFlQcz6OLJAGctAp/kMHdHEmlblSGOZGrMwM49aJGqJIU3uycQp/GdP4fixw9j24fv4k//n/8VTDzyCrz94H4bJww8e2Uv6UMH42XM4vO8Ajp8+gVwqiVv+5u9wx9e/bv6K5Y1oBWVlFhanzXEWp8+w7+YSARPIExMncMdffx7TR4+gzueXFtc76VXJ6q44KYFxizHt3YkU5h/fegte2PCYrabSokBrtXxpeJXUaMGDEoWvkIsiTKf4vh/egvef2oAHvvF1zO7da4le3Y/KPto6r+ZZsKl6VZZijX5ThUBTqXu3VabSuB8bn3gc933lq/jHP/ojhANzZikEDq8Wy/IQVa2CU7a1A8yC1NIoNUh76vy/XihKpVYrJkipI5Zbc2edyoJoZczLK5So6bOqeOdn56Akp70Ogc+qKRPKkal5K7MoVNtt6n2ZlEdeX2/lsqm81xD6G2mDCvwmcT0Jr+pfTKjJ5VSDpIfP5DM04WEs0XmXhpfAuq9xjtHi6PXAV5Y6ewCRMHoP4RYVFqB1tQZvwEqclb2sal2jhjVPi6iyd9D5dztPwqsX1xRIrWI4cnEc01GVhhAYMqtyumSltCKLmeiY+UnKYyguXimLfpQxOznG/frcs+H6RF36MM18zoRE158lMGJTI+i09Gq3BEbOn8ZJUpTvbXgAZ2cuQKsGlqjBxfe7pDQNOoCap73h9jux4a477A27/z9h7/ltd3nlefLfTPebmbVm+kW/mBfdMz0VbFe7bJcTZZcTBdjYBmxjMMYYE40Ak7OEAJERUUIIJZSzbs4n55zDzdqzP/s5+97DtVyttX7rHJ17zi88z87hu6l16taIimUNG3hOpTzoi5Syf/M3P5X33n5TDp46ID/+7/+PjB09HASNOdaMHEALhEYgP7hfNNzhjz6U3PS0dAp5m4kIbhe5CYD+0BCYL/SREModP3tCLumz/OK735BjH7xjoBTUnlUL4BQXZVU1R6uKDc+c97JMnvlctv3iepnQ32FBvPLMk/L+Szvk0JtvyqiaoZhSvt+8R2MYUEMXQI5QLs/fJ04dkUt6oD2AA0Xrd2sEfCqqUSn7QRiDiRyCAMPmFf+vVRrqCzPTnkhaqPdKJeK6lmBtQWcwJ9YL9EdQIphYJA5B57dmtYGl8r86tjKHHwhv0yBhilPBQBZQfVb8R8Ef5cvLPamqrV+sQzxJJbiElZuHWqSczde7kgaxmXY4t8YYNMBQqv5Fu5CbsF5n1OYgiuCLROkDDIL0B8HDw3AAgxW7Pfnk1Dm5oA5cVU2pNSSWOsRIGkZTg+sKQTFXhOYtDxHCIACt0QYcTyQM/6tYikpGn5XZHM1i3nwQCv9euP3X8qfrfqBEUpKZ9IS0lxtqdujmlEoiSN4kUjgtuSaQRFk11VrWfbf9T3fKU3fcamtCWcei1UKpjaz3N5mYtsRgJZGSl07sk8jUpM3+rqYisrzSkWQjLRX9/zqo8KuLdhhjNIm0hG65jPp85G4u7Nsv1/zz16UUi8qH6pi/9tIL0mo0ZXTsomqIaWUY1hMEw6aadwkZu3hSCacqU3MTqqmp6E3YOLVKDxA6okFtC+E+fsdv5fr/+79aZXYK349qbb3/bE6tCTUpye+gLXjmgDRDvVzJGMSqCvRvM5MX5Vff/ZbcfdPPrQI6p7/BxGoo/eBbUKOG6YZJjwaxHMeweaX7nIylreV6ba1nNETve1E1NCgrtCeAHm/l9RVGPND9qf5bjcGzKvBMI26a8v+rYytjuOZAcJJgvIr+D6+/8jCtQU/yf5Vm5SbwLti2AR4IaB5sadMy1Nw4UwwdnI8j1NwEFepZyq0HN+Twp5slx02LPKE6KecOpRfEu0tyaDIip2bnpKpSBF/JVO0GczEFq6k0tCaxSEyl0IJ1/ZmT26DEBVu2KGMjFwLsTpmq1sJG+TavHOMj5/S300o01IBVDHgAhxUgvWUCCyr96EZc1fNWlEnI3Hf6jH5rWLk8bbwtIlAqfFbUp1hSjRibmTKmJzu/QkFiO5Tl9CugkDRNCxA9WW4xrVZ/3+moT7AmJdUUb21/ThpqQq3q7xq6DqNqPv3DV78sh44cls+275TXdj4p06f2y63f/rrMTVyUw6c+kBcevksuHt6vJl3BWmhXVJPNAuJNXgKhpkKKV3CIl5n/pwQXj0zIxQvHzIwFy4qASLWSVOtBTcQ6YNjqY7DnyszNOj5iSpqVUPRobQd6zowy5CuvvigXL500+FC0OuU+jGRgf3vZnMzMT6pgysk69XJNaAUHvGE4X5U2AZWs7R9wRjj5VG3TIxLybZjswTez4kpdb8pm6M1BGKG5zUduhioIBKSZcJjyaKgvHA01adlX/JqAtUwgqKQ0m9ffZ3V/rnIVZ7afqVoSZjCKPlCvt8EgJIvISAefAo1B+fOVGcRtSs7tCRfPgEPIPnaL93Crd5S5duEmqf/xuDWMAcNMxlLy8ci8nJ1XzbAIQ4Solvsp9IugEYmfc2TSqUEFAHkZJYY2Nm/R/JyIOuoQjqGcDCIzrglB5aC5yCJpunlFwtDKIPRgr6lUJGbfrKnDe/yQVJWRQBDhPlMqLReFeXtt9XuXpKeayaJS+jebRDvLpN8wmYv7BTwhrw410DckKIvTM3LTV74ujz/+gOiv1QRakhH1hW774fdl4sBeM4ExwVJqnx85+KmMzk3K5ZVlte1jMjN+Tj585SXD83rtoT/Lv/6X/yofPP60MWwqMSl73nxRLp0/ZYWKzC2kxTgA+JU2TCPRqwJF9P5Lz8jbzz4mZw5+LJVcRC0FpmpRoMie87sw8s3GvjVAFhlgElgrM/V0rBumHmY4TW4Uk5YMoGJZtXBMnfX5xKystMBHq5qVYEEJZQ6qqmPRuI3gs05CpQv8XdoXMPG9EoMD+irpnrFHxiCEelWA0eTlVslG1caAlrYei3pe4GjNPB98ZiH2OmX6pQDa4OrNO8eQlNaxp+ZVrlKRErCPeoFMll50/AsIhI60KzMIDrA7XR6Fck3izOLJPje1KAnhQJsQ5wYNHLTDCJixatMniRrNJ2XP6ILEDeUijGVzDNfg1Lase9CwlBoQeOg4tGpdoHp61HlldUNaMjZxQRLFhBGQO51eqUp7LJWutsgq9UpqIpEvAblvhZosNbkSkVG588ffk6ceuVulfNIYgdL8U/s/lBf/fL+U0wAU1C0bThlLvRem7dI85rVvEEYmMmt5GAbbZNW3+P1PrpWffOXvZc+u7bKqDL+kaxibH1EiZhZ8WbY/cJ/89H9+TfjXXe9b4SAl5piMbZXCmGJMi10YG5GS+o/tQlYWLhyXG/71q3Ls0H71P0iUBh+F9/gr5MEwQxlEwzDP337/X+TGr39Jdj50j2Sjk2YeF0kam82Plg1olxygpsBsBv2KX0YUbVA6BHOgRTCTKnodonAkD61piyrpdtgfRjgA0rCk9JbP5E3zN+rQY3GjZZv6P/xgr8fjYJSeTZWimQvmGGgQT0y70A+VHVR7Q3ebB2Ho5R4jIeiiDfVdWC1u+UA/xiBWdoAJhd3ZANkCO04lXFsfulpVBygkkSBUkM3haBikVQ/A0lsPIjjOIG5fcnBRZxA+D35D21QvaCJWM6VMiLYAEjRcD3A2HKaajKtkOTqli0edTRu/ox9qdBbDgFGcOfIfhHdB/A4YTDj3mH1ZkbWujJ08JCtKaAwRXcCMqwQAa+9vgFHYRINJbYVSGTQIuaLZS2ekMD9lhE8181/uvEMO73tXVlab1qREx+CJN3fJjj/9SbWUajllxMgJdZQPfiatfhAaBB68s2798pI8e9sf5Ik/3mWm1ZoyTFqf/91Ht8nL996tAn1RmTMvC7kFqfQBjlZHNT4n8ZHzNrogrterqC+41GIeSE5Sujc9fY6LF09IjGrmlbYl/dbULInPXJKsrmdOzTwccMDbDAkSwVgL0pMcgw3ZpBwe8zKXlHRsRrVfwgIYHt4dPmAQhAlBFi/rIKeD9qCchAoJootM0QJh5tj4adMKRSCh0gu6dx31NVYEtPd+syOR6Xkp5qmyDULPen3aJA4ZgzBrr9CPMYk+VyrPrMuSjZMDVokKAbeEoGvWObgQISWx9cAvRYMaojztB73Q2epMYqUmcD+2nf+BMgPs4Xq3ayYWKIuYOSB0kEkGeAFVC4OAMRWQ0TcP7EYvG944OuEzx0WyIji17SkKBGED9G/gcpBC2PyxWBggv7RCmQD2Pc5+S+KUUzdzSiDKbG3VOH360+lf5oHq1lBFODosLHVaNOCg1cq24b+8+hty8qO3dUFzMqp+ASXcaA4fb2bxffynGp2NtVDhnE/q9xbk7mu/L6/++R4DOZhXBrv63/5Nnr7mGqlMKcEjJdtEAZPSS0aloHZ6Y7kiO++4Ux678Sbz24LfUdqoeEZARMZH1Ik+Yy24ENoiErmcsIrcZWWQSkUZv92Vbhl/BbjSrKxc7pp0prq41c+IqgNZVJOgsaiO+PH98vB1P5HTh/aqGTMvnQKh5pjkuiWZmh2TqDIYBxGvtGo+TL/YQFsjmOi+jMbikkpnZR4UFhUIBC5SyTnzAUBWARmFvhLyMfUSGiVYIRuI//iF5MgsqoiwrVhPyLPvvyLfuu06SeuzLSlDnJs8r9dFCKr/sxCV+bFpGT1xUWkLQAwQ/OtC5AsnPZ0KWAhexuQJ5KTuAzkR8z+qBIrC35D+FvBpDABIsFrq5GmGDwI3QSiCFoNS6KmfBzomoxraizXQ3ZEiFH5RkBagUbzxffgAB7agzJLKZoyAiST0lFFI7EFEztVm7yGF4N4t50F9sSEAR6MheMXs4IHcHOO1qhyNdMSswxEnN0AZu5cYcJ7Qh4wDH0C3IT4areLzysCD0hkPMRuYXY1scEKOHNkn0fkJG4BZSEVkYnJEQOfDhmVoJ/A2Le6nRcKUauGQVaVL8YWHH5QH7rht0LHYMwzc++/+nWSToJpXbOhNB4xhC9kGG9jXBylHaBypyntDgWF2hzqisrwui0oURd2YZjIp7dlZWdTfLC2pUFlrBowq3acyDi/983qN3NwFOXDvHyU+eUp2Pr1NctEpMxvOnjsjO+/eJtGLoxJV4TMydkYl9ZREyvMyMXbWzDnOkdd7fvWuO+T82RPmi1BeBOEy/z3Dvioj5goLksnM6X7HJDk3Ibd965syduyQ5XNoQMOUg9kQcuMTFy3fg5CLqtCJ6toSWWLGCNN62+2mJBLTMjJy0iJYKysEYubk9/92rbxw7zZJTc1IIa101CLwQt0eAi+AcyBUCHCg5fFZPKjC4VrKCmsHuTf2enjvw+doi+wXjtAsB9oOfkvAPeMVDedRrqsomDPcpz4OM8wRyoqJHHlRlxG4EmNFTa5ULi0pVdXM2OgoFxou6oA5SPTxIAxtTCBtBpIpChZTjIWMGJK6heUofR9wtmsb83+U8Ku60SlV86E7rG2xbeqCvMzZNMsyIxi4P2psgjrNphI2+DPMjSAHE/IvHH3Vap/v+1je3bXT6p4orOOzfDYphRwjj0kyUsJQMPhP/mY+UzMMNqUn+/XnnpKH77lTskoULOb65b5pJnrTidFbh6RF1zb9LzcpuZ9QckEEJvRU0J25dHlFVhr6HMqgTTVFZs+fkdt//COZOn3M+u6rLUyKvEpcFT7qMIO4XlaHeWTkhPzxR9+TAx+9Jr+/+Tq5cOqw4XpRfxVXiV9WgUdx5v43dklpflpNj4wszI9JQX25ghJWLDEl9/3i3+W113aadkbIULxp45SrgM9lZHZuxJ6PQEZ6YVJ23P8niU5eVGYigFKxHhmPPLJGJD85yiqIaCvOq7kYjUxLTp81onRwcuS0TCgTZa1iIqeaLSofvfq6nNx/QIoptUYadRtJh6Xg4W20SGhloLAxZO9d42O9GHzsoND1P2IQCy7V0BjBj+KVvUJz4INRCmXmuJ5zONF4FVWO7iR7/BdbDAL0oi577YHP29CHSxsq37xK/wQgA/qKTU3lq5sOMAHJG4iZ81xW+5PeEd6vrPY3EBJhEDfr3PGCqPKqoWAobGP7jkninEW2YC7O7WG6gFcVHPVkLKIEkFZbvj9ouAlhPo4VXfSdDz8it9/wMymrumZzLTSsWgdzDie0rRI7lZ0zEwtzxxzCekBWLBXDrD9aR83P0sWnIcngS5tgEFPhHDYHJue5+P2mw4eTmLf58GgWuupikTmZVG1WAgwaJlJGy0Zn5NO335CSCiHOu6RO7upyW2JTl+Ten/9IJo4flkg2Ks+9tdOqDVaAV1LzTwbJVUySnDLUjJrCH73zhlz/T/8sZz7ZI71l1f76/XxG94Yq4oY66NEJW1/WwcPyVDGkEzPC2Gjargl1G1YW2is+be3HifS8DcNh5LbDNnnkkiSdeuMyfvKg5CITwtBPmImRCv9+66/liZd3qGapy9ioWg/TCzIxNWJ7PTU9ZlgDkxMj1uqN1vVZirx3DeJM4kGVrczhmsCjZ/4Zazn83g/HhvayJl5tyI9rkCQD35U7c6oZCgU1B0o4yxkjcjQBWoAHiESxXRfMcUYTYBoxTw+t4ZEFd8pdynvlpDMah5tbXm7sC+sSF+LpK+FDNDBCggiW3kdEpTb/h0G4L7K/nIf+EWNq1XrFXEZmxseV8NRXUunEQXEluMBZOuBOnJaZc+elGFe7tUoIsGQ5iKxuyIyaKDRPtSFwtNXA2aM1GAahFB0Ec4DTmPkXVHE9BDNqgN51N2qFhhnEQ9swCL4bSdMVFUo4oZgQCJgKSdYa02ij6oMUlNZbZlbSE8E5cUbTKpSevvPXMq4mzr6jn8kv/vQ7iakkZkwdIWm+w8GGHyRL//7bkpmdkoO7d5vpFG2SaEuYGUN8P6v+zJ7XtsuBTz4KlcR5svAB4KCWj+n1GzIxrb5hnP4N3c86ZnTGfCkIi4pdoohoVnI4qwhUvQ+gTucunJBv/eN/l0fu/YMFDWgHAP3l7f375PjIRckUijIzNSuphYTElLmZL8gaG4BHIwRQUql5w1qjlIZ565SoUAvmpS0wB871VuZwBgn+T9AgHNbKDb0pnXHgBrC2lOcboEgTv4dgjgq0QRbdMuldVckgmeeUuKJqU05MjFlpM9IagvQGFQ4LnfUoE2kZgVKC4v6DR6tgFG4AM211bdE0B/PC0RxutjnD2KxxmGnoQBpZ6Qhwk/0Aa08pR40kk18X5lSNNacO5PTMiERiMyZlFrsU35Ulo6YWSOigM1K0yPtinvKQgh0j587JzMS4YWX1G8w5L0lMN2Hq0hk58NrLSqgJi2JxL9ZVSHKtCjxQCF0SlSmqg0sEjCACTItQ4fnIXbjvYa2ibmKp9llcxBYHOUQZpcugSmU81XrnRk9LUiXobd/9jnz2/hum0VkvJtsSJsaMXV/vW95J1CTrXV6SXIcCToAnKNDUv68tmaOP43z/NdfISw//WQmvqMJiVvoqBPrq6F5eBV2Fkc2LJv3vu/5aefC226SSYMJuR32OlMTVNGpWmFBbkbf37pFrbr5Zjp87Zjmktcswfs6IPq80UsukzBRF29KKjS8DpNBlZZap0XNSVIZcB2CvpRZKr2PtxMsrS6otJkO0cR5nf960AUSP4IGocewZm0FPEgdpBYRLOjFnTIIG2WCUIca4EoO4prByKiwV09T4lUFIY5IyxImDJDN5NBgJoWvVvCxut0N0qWMQLrSV9vuUbNAx2DFzyBAjSOANaqsA9aJsoK6bk1RtQmgYBmFD7eQNuBVioMSEXAUdiYHRNjVLqO2np31YiyB9MX/4nN/RU8EAGEAIQp6kbRyOfch5bLyCmkGET3NqPmTVfCoVAJ+goQozi8rYupB06hH1aSJtMQ8ScuHMKZu5QYEbDLb3vbfkxu9fLVMj5wzHF9SOimqMvBJ0mWQjYUHVIki4PkKjEkqwce6T0yPSI3G22lIhAhhFCEeiJVjXRb328mLLTDaqAkrJqNxz0y/lg10vyYKaLgwAemv786oBz0t5USX5ct00yOVeTyV8PfTadCh9z0ihgtQshdFwVfp12jbwKJeYl4NvvCwR9V+i6m+UlNDmVIgx1BOgiF1PPyFP/vkBoQxlmax8Shni1Fm54/qfyujpEyagUvTYY7bp9Y6ePSXbd70i80qYtYYycwX0RTV19Zw/+JevydjxY+p7BYyAy7IsI2eOyt033SAXzxw35uUaRNrWV1ekViLHVtF1zqr2mBSy5LMzU1JiRkqZPaiYdkbDQtBch/4TM4kawY9gtkmatoZMzLQSSUEEWPDvMJ0GvmeTda+IoYT2SfzRX1M0mg702Ng4oH8OImUc0MdwOdRVbgLwygJht5tt3glhWQ7eEzIlXGopeSXu5YGUJyrFYYTSDzOzHczN0RchVP4fiDrYdq7GuJY76c4oVqgHU+rBVNeyHjDJ1poZDs/IWxRrYA+TcYVhCEs6Ukv4O3mN0F/BffEamZ2RimoV5nqQZT594pAAudOk3LsQVee9LnGVyrlKyUaNbcJu1izjjhA5uPsNuePfvyfx0RNKWEmDvGFDeRYYVC6vycpiX9b6fatIIGoI0sfe55+Ro6oxKIW/cPG8wYSudBmlNqUElbAmLkr3KX+ncYsyD+qa+mpbg/K4Wq3KKtpjfcWmK8XHzsvNX/17OXfkE9N2KXWOJ9UMtj5s9Zd2PvSg3Pbz61VyM2ZuXqVwVbJqkr79wvNSVU3LXHc0Pj4oe4pzTH+JAXWr9qH4ED8VLTY7csEYV5gxiZ+oTLUwdV7ef+6JoF0wLxGADcyhgmkaGA8TZnZ6Tom4I1OTJAsJA2P6bDrUPuPSQ7peSgRt8t6rvl1Duznr9AuOWsuy8AFxEYFC4CeYupuJwEDbId8yXD39BQZx4gyE+UVmMZNq8N5GO1O2TNQCJiBD3QgA0vglZi5xDvt9YJKtDLK1SIz562STh69t0SxUH5qiGzLDzEls9QOMy9Zj+H5dA/FMmH7028MoDipBHD3U8PAMmIMlOXfypORSSesrALAtMjduk6aQPGWkqTqZaf1dRe+/Rw9DlcRSUU02wqVx3dSKEuQB2f7A3dJV6VZPAfcZoiLci9oeNqgULUX1bV0l3MwCJkZcJi6ckuu/8g8yeeywdCtFiarZl9Tjln/+mpz/4AO163tSUcJvLNbVT1owE4tmLTTW766/Tm74+jdlz6uvqJlYNSCFJTVvn//jbfLwPbdLAnNEBUCUnIwytjF1qyFzM+OW6Nz79i55+PbfmL+HD0GSMlRrV63DMRkN/TmYy2gyMMoo5gQ1v6rm5KpK2/Gzp+XwW6/LShMLomK4zB2y2s3QE09JiwH/maUQrIyyapxELKnXrFmLc8iTBAZxC8XD5OyrBw/4LZ95DsQxhX22Oz4o3zF/uBoSn1g/blIB2MFvza+sgbPAWOye0YBHy5xuv8Agnrj7IjOEw2P5w/83SaxHTbVHqR6iVESbcJxDnzBczvf/YwbhMFubcO3g2sasMB8E3gpg0jaLRP8Ps2xlDg4WxpnkC0w2dP++qEhEkojkIBxfmLBwp6HnwfwigqEbNLUwZ33sBhukG5fMgvlUsX4L1H2jRFWrbkQ7OLb6Y9UIBTn76R41V34s0bkxMxW4H/wCtMCSSmJMCaI/08ogJLjOXjylTvcBWVapmU/PWR0UaPRHP3hXKrrxbSqZ1awElueP1/1EzTA1CYsJWdP7SEyMygv3PSB3qkaoZ+hl7xqi47F9u+WtXc9bSVBWn5fu0BQZa6qp9R4s36F2/8Tpz+W9Z1Xa6zOmc5QQDaS1Hh+/8apEJkfsGTgPwQkLIgzyQ5Yj0rX70x9ulx9++f+TYmRaBUDJ+muIVhEqRWvAGJShoE0Io2PKU8aeSlA6UrMaso0Q7OCwCvAhevS9deL2gloO3sMoIKRwIAiNhrshGGR9ItAvNNUKVRFOw+EIFoUziIeWv8AgW4nLNcdWBiFC0UOK4hcQm1a7Nt8MpcEwBVnYjbKQv8EgpjUGF3cG8Rt2H8QWo8f5A85rV005fJugnf76GF5M3vMMXmLgIWR/tmUlZO4HDYI2AZ3+7MkTsjAzbWDZyfi8TZ7a/ckn8p0f/VAOf35AaHQi6zw2NyX7zp7QBVd/Jq/2LzkHdR4Jh6JNl9XJu6R2/KN33Sqp+IwN2uH6As6VOoI40TaRq0h17Jx1CJZVo8RGzsr4qYOyMHZC7r3rFmsLXkjMSlKlfk99FxqjspOj8szdv5f5yXNGiObEqsmpYl9qqlmofMC0INLWa0CQ6mQroVV0bVOqBQhHM06b3pScnndy6pIs6T0vYm5Wgyno5so5fcYbvvtt2ffWa1JSDUpSklwIDXTMSefAFIVJyHOMnzstKyRs25hIui4dSo0qxhQIO8paiAiiqXKZtDJITMrFoMHTabob8VfxIUDZp6SHkDddlEWjDQ/V857PhluwPTHNZ2gTUgyGnFMFODygl2ACMzgUpE5PI/C8/B4Gg0G858bn1Gz0p8MgrrogIicsJ1bXHEZ4+kCLbcpSlMA6bWUO9T/aIcTpcCwkBS1H8Td8EG9j9M5CChMNd2ro2jh3FXVigfQEW8l9GkAFtjIHhzn1iwQNgi/CvW4WqAVpFBZzc1qVh1hNcqj2QIvQPcn8DKIj6Vpdntu1y0aeRaIzNuTzrocekH/++Q3qsKZVek/Lq088KU8+cK8Bo4GemFYNQsnG3t271ISY0nsKE7dgkFq1bDVHvX5JirmYJFWqFxJxycbisveZp+XHf/ffJHX6kDx39x3Sz2bk0Of75emnHlOTa8pmj5QbaSm1ElJWglpdU2FUjEkiH5WEEmirSwAhIxF10JnFSDtCv0vYNKOaLyl7PtsrY+PnpKO+S6+cFrr7rE9e/RPMnFUGnhZzJvysQFPXP3rmlGSmRi2LnmWUQV39CXWQqXVq16nVq5lvAVO1+z2hTm4dwIVKQhkvY9E9NMfOHc/JR++/bTPbiaZdOHdetRd+VEDSmZo6u+F3hCMk+KjO9b2DAZwRhoWpv9rsl3oYZe3aJZaOSk7vDQvEWrDVTyNI4IzlfkvIvZWMRl1wWgZ/mEFcW0BcWx3erdLdmQk/hHp762TTExeU4LGV06rSCa12LGo0DDgXkjAQcuge7KnwW7YN6lHmYTUwLVONjNByWFL3j/zY+MycqS8u1PAxrDV8MbhvP4/7KdwTpgW5ksjsvEH3gA7Yr5YkqbZ7Faaqk5PRzVQzZX5+Vn2PlDrGVXnzhcfk7eceUtU+IZ+8+4bUVTJfVF/i6//pf5ddTz4redWwIwsLUs4VJKOMFk1MG+hFIp5Qs4ApW0mV+KGe6fyl07qpEUmp9orOTcijO3bKtdvulWMzY5K8MCrTF85IklKZlPo8ykDMKbzxwT/Kr7b9ycDb8knVEumUjE6OycKEaqCLY5Jp5WV24bw8+J1vyxv33CuNlaYVPqLhScpho1soGQlL8pbksB446LXVYHaXoxGbJUIVQ6tA+XnYF9aUoUNGYNTfDaJJMA7aoqqMmFZf7gf/+Hdyzy9+powJzFBO5tQpL2bpQ8dfVX8vOmWBFPwn3ydemYBMaJeqBuBZ6QUplxMW6qVMhVZvqhIo3YHOOKhKoJ4Qocf4uYXYjLUiI4RhHCwgpyuezRPTvA9FrYEZw1i4zaoN0yDOIB6xckIaJkD+hlPj34HgkNJNZRAaTApNyuJVpacSRvAeFfDIkUUlVFrwWwgUrULM2Zxj7L92sBmB9iEi5tdxLTas5fy+/B63Hv5dZ/Sw6Ju+FOdwtc2mphkykwFyn74NkmTqQKoWyCqz1KILoqpTEsogFLJZcw4mThMTIisj+/fLTVd/V6VwRtchL+PnT8rEgU8lOnlJ8sz/brWCdO6UlCHSZjZlldiWVDod2vOOHP34PVmjnqwKLpb6cdQIqbly/rPPpDQ6KWtMq61SvpGUSHxKEtOTElEf4hPVOIdPfi49WZG++jiHlTlTFAWq4Dk/PiaJZEzS6gSfPLBXpscuWDCBrDmbTg4Jv5EDje91c+RyyOmQ66Kld+TwYQOcIBrE4E4IyJPCpu0J1FBu1K9alyAHnalUfNdKabl09JBN3sX8gpGiszOqpVN2DiwJav8wjQgGDEt26qvwRzzkG/IYTCcLNXZeSs9rqPQFc2vOGATLgIgVo/TQ/lSImyCshGJRpw8XmmgyaMGiX+2BawHdDA5jkGEm8PdOfK5J/HtOmMPSHccsr8RPpCmm9jU2pEW9SLY0QscYmVeb3UHTzYBIzfSiCpV0fz2UlBh0y4Cjnaj9xp2RnRGGmdi/M/zdrYc/i98/n9Hww8aViwwkVXtZCbmhkok5fcePfSq3XfNDGTt6UGpqsqRUyhMCLkEINVXt7ax0dIFXyUVUcgEwIRWTW//lq/LejifNQV9T3wTgazTV5bVF65jD+aa0/uHf/1oe/u3N0lBGrFdpeUYqJmVxuSIP/fQ6efZXv1LtnJV0K2tlLlX1B5aUGKgjS6hjjb8ictlgi5574lHJqolCWc/J0QuSiajjnVYnPReVczOXJKXMQrQREDgSrDCDJ874jMoJqiZIwhLpevbPD8i9N91kxY0xNd8AuzCBaOZq8AVYy2IhqoTM/qVtpkq9k5MymLeLVHDTfAewW85mu8cX1AwsBaltqIaqiT3C6PtjiWZMcBioHvDUrF6qGopAnZ7IR5FrwjpBIMMgJpT1YFQEA0qZ6EWlOOcnmsZ1uc6wH8P7YeVgfICFge+jx4aT7gTnN+pf3hpmc/PFL0YugGK3mjqF7aWWcS71Rs7paI3A7Txk0iSMOWNVyjM6hmsEg7BRlq0nqtbdNI2cCYeJe+NBhrTMMDP5vXL4/4cZxzUI7wFri83NynKzIxndwImzx9Vez6t6zsrpU4fl1cf/olJ7zLCrkOTMSqRMmqm/oxeOS02d5gPvvSOvP/+0+gtx6SUTkj13Rj7d+658fvGUAV8sq5Y8uOd9efWZxyWt57j76QflyMnPpBIZl/zshBJ/wTQIfTace229LVNnjsn8+VOyuNaUtJpiy6odGpWkHHr7DanodTAdcqrdTn66T7bd9Gv57Y9/YlOlzh08oObf81JRh5gggLKoMHg0NjuivshFY4CR0fMyvzBtTAHT8J5Xx5wCT2vs7Ck5/vFH1mtDOD6ufhOg1x41ZH+wBNbXF63glGTtM9ufkg/2vR+G6HRCNYWjIQLuloopMyQDIDrVCVRiO4INe+EEi+VhNGHEH3xG9w/8FWEGY/CK1hi5dM7q9fisVAtz2RHW3LNFLZVJnA585gkMz3WHWzDMjOSa0JYelgdxgnMGcYbwheCkqCAnxGEGWSGKpapwcUWl7yI9GiVDhmezrbGK2R5MdFIbEgYh0hH+H4DiMLHIEVhtVpuy+prF3t0s8vtzte4Mw2f+YM64fm/OUFT1+nP4K4f7IDikfCcTiUhmck6e/sPdcs9110lVN7JCXkJ9h3o2axn9KSIuXWzcvBK8OsHqt/zoq/9TfvnNb8qevzwp9914oz2TxfRbDbn90Qflt888Kp01qnVrsueV7fLcnX+QZDEp1939G/nhz78vPV0Pi/jUme/NfD8VJioh1+tKWKtLsrTWl89felkeu+HnklEtUInPyE+/9k8yd+lMCIkyRFTXPDc3JQtK9NQtnTn4qXz1f/vP8t77b0huqS5jnx2U1x68T80eJu1O2ESqKdUQYVx13DSJFSxiRg3aCUrqrzA3PhePmD0P+gx9H4TGkdBOJzaNtqqCqtux4a73P7JN3lBBwOgCI141Sa00CR9T9xhBBIPAZEQHYRD2CTPL94YDoifiSOQP5sgyTk41IISOpgDOCUZxBgE6lsJKn6aMPxemFROmDz09jJ2DMThw6B0rmjwZtDVsEQ3XEJqJ5YTmjDEcE/bsYqjPDxLYGcQ42zLGxJ71//2OlWREcez078YEHWzKhDlcbmc6o1mkqR062nAOSQ5aCcQ2z6sAAFDHSURBVPuASbcecLdrFb8P3m81q4ZBIBxy0tRmLzRs+e/tPtplg/YnGXby6BE5sHevDZsh0lbPqVk1MyXTkxctkw0h0V1oKCAq6bZtu1/e3/1mMB8pmqsw6IVICjM1mKPBmAHKRIB1peW3aRnlswf2yDVf+R9yctfzqomYwZHR9VNhoObTvmeel9+pebW+2JWUEvCJ42o+/eUeKcfGbEhNSqUigQ5CsB01v3LJpIznF6SgzuwaWqUwL3/54XWy7ZbfqPZpyaF3XpM//+w6yUyPyOT0qCSj04YIUlATrUjyr3mFLsE2HZ5ZiaTmJUbHXjcQS0Q1HkIPi4G9p+9/amJSJkb18xqtAzlZ7PUFPKt6DaGF6YumBpq1IpF5vWaekDR1T3WDd2IvINjhCbgusIlQTU+NGiEHkwiTLmM+x0UCF8moLExNWcmKofM0azKjTMQcEs9veCIQxsKc89EcaKoqYV7VNvFEiFbir4S0xSb9fKHUxE0rZxBeKZXgCGouSGmX1Kg2yh6M4JRJetSydFvKIEBFEq5jManZ183shJCaRQoGxGkE3wy4TF7ICMOEe/BkzmaOw6/tWmWTUcPhjOIhYA8nW85lSEL49+x3lgwL0Q0AECigO/3pHhk7cUTaSvgw+/jEiDDiGS1H5MeytOo/Ebqltmqx37DaraZqh8vAIlG3xGwVFR4M2CSEuLREOLRp5R2X9VmZ7/HqI/erORfCnBXAEFR7nNrzkbzw4P3WRotUBxKoWYzLUw/cLof3vm0FeiRnCbFiln20b69cc/tNElOJSfStpKbgxKmTMq6EVVdNUFViKCqzxnNBg+A893VPwD22/aK+bEtHKAlNapqYYTKpDEUPUKulBJtntDfOblMZLC8Lcwvmu02MqUZKpmxcWi4DguK8HQvzswYgDgEzcSxuYAyqkTsBzihkskMdHQwCfSHt6T2nfYJXCJnPg99D6Ts4zgGSlb2Zn56SOcaSA1SeVWd/oLnQLp4MBv5panLUruP05z7I0gojFYLgg0FSaTocmWZMlK8XfJBN1RYkrMeF/fCo1LCU9gOJEySx/l+/19KHj+uDWQ1Ui+IxnHMWOESy/IH5Da9IZZxEiM8jWcOE7Aw8zBReL+aagNdhc8tBi2ESR0zx2df+G87Db+pNZghSMasL226pKp6SX4GQ+JUvG5JgocMQTV20TEiCwswGlED0A0dOnc/VJb0fVedg87722DbrMCQYETCdCG33ZHV5UdaXV5UJmpa1L5HU476pNSsHGKFckQhgVda7MGtPKPosENFRon9m2x/l8Aev2lgCayLTY53z6JqfGDtnIA6dOsnHnMwzuAZhBhqNEhPFllN6T+SpSCpaJ12VOSrkNb7IHMYgFGcWU2Euot5fSk2cyYlxY4D52QV1vvs2hyWXyRvYNhXTVOcyco/31LhRc+UlPU4/zJXHT+BzCDwkbFOmIaYmGfM3Y71FZMVhFPYJxgjBgYpVQdzym5vk8KH99n8YZX5uRj7//LBFT0+ePK5mY0omlRmweGAKGtPMNCSPN7AiTLjoeS+rCed5OWgFYUriNJtLBHQW/f9GHsQlaiDMkJswIOCBieV/82NDcmNLKrcBNd/tUz/Vshg/iNzBOaf0mBh6GJ7jEQTXBhbaxTni/+0Qf3Zi9u/w3m1E3g8XVHL/ztjueMMgPDRSwNWlZ92Hf2fP2gWUDedO3zfrMjM5Iff+8Br593/8koyok01FbEQ3kEw790YY1AMKaBDs3PW1nhRTEWtHvenfvi2R2UsWrzc/wbQcaIm6TnV8rqasry5azqeCj2QVqEULCrT7ai+rmfb6s3+R3Py42fg14vx6fyv0ibRCqJy6oiU1J4ozE1JUxsoy2FMlNr7S6uqylFirXlcuN9uGGFmMRaSiBETCEy1Fu3RH9w2Ja//fcjRKTJMqWPl7Ik05CO3HbTWpUromYyqJMX2mDO2QXnHA+DLppBL2jEG+Uh+FOYNWsD528kBqwsRiMzI/P2lmDiYPPgW+AIwxPnZho67KhSd04gzCexzxF194xiYpv/7ay3LXnbfL0RNH5f4H7rPRF0899YTNl3/l5e3GRO++84Zpj5BSCL600wj7bdpkS2UHrzAJrcM4+aZBhgkx3BwmVGASXv39MHNsmD9Umba87bKsm05ot2xSwUqUq/ghBTOzuCEYxKMF4QZD45QxRi/0ifhAR/c9/MGcKWEGv75J/iHmsWcYemhnDmuSGTCXLxLPvLzSNsSN9fUlgwWlT6SRp721aDA1AGIzv2J65oJYr7T+xvtkrO1X72FtrWuE1lWTMjE3YtBChh3WDiUgrF9ZTYNlJcquSuie/hZQBltrZQ5qnZDYFBSOj5yRa7/5JTn2yXtCmJzkno1gJtwJdpYS7pKq/otH9slvvvaPcuDAbnnqll/Jo3rEVEtgqjHmwGBJ9TrZfEy2P3iPPPPLm2Vs8pK1SoPkAQxPrghwwV8jfXT1WhVlDgA0wIhKJmJy/vQp1R7Y8XREBlCFeHxGJTSwQRAwmfVQugE4H36ZzfTo0wYBw9IGQd84JlZoRaAEhz3hXHSjevKOdcGZRos4rUE3JAP/qExx8MA+Ofr5QXn8sYfN53j73bdk//598tijj8inez6W7S88a2PK+c65syfVvBtX7QaIYM/oBIazIE2TUQoBaspNcg5mi3iH7VXWoA5xDQhzmAgxr5xpgiTcYusjRfsQXy0g9ZHTIOzbpc4mamYE/b+gjRtSeJ2hPGBCwSQsanGgNYKacw4ONfsBgpTD7mdx8154OGcgLx0JDBy0njnifEe/jxS2FkrMrW4omebVzLsq49+AzAkQmLl0Ss6dOqWENKNOcEVyyjBNUNP7RXVQL5mpka2EEW/cD/VixOOtZLvHeAK1Xcn8qjbowjDkg+hz0I3+6NUd8ugdN0spNa0+iKp7JCTmpjIIkJ5LHUDDlYmUmHLzY9JSH2ZFzTfKLqw2qUyIWddM73dRP0+qWbV7232SiY3Kqd1vyu7tz0iyEJVkSaWwapmy2tP0zDeWq7Ln7Vfl4M6XrXvR5rZY0jIRevdhJnIMVh4SDvwWPgtAF2qXJxOSilHpW1OTKCnFIhC01IThP5HAC/cIGAV7C8MD1AeTWHGnlbCHHJhB0lrkk9onfIG8NZDhjIcaLObVBIA/Zs7YbBgzsSikDJ8xe53iR1q+o6WS9JYJDOQlw7BS9ZEM11m1JX4wdAKjobXA4qK40UpkBnRkOTeYZeCvQoPB3AqC9io3RThc8hphdYPdPyydXYO4SWZSnapVPSFtkxWy5kS89Dt1lSg5VW+LPCQdYSY9wpg1r72xXEkjQJpiFg1LfL8fPueVeLyZQQNG5dW1UNCA3FMINJC19V7l4AeFkghnan7jZc9IlZCBbcjs9LSMXhpRBxQAilCkRwKvXIhJXlXu2JTa4UWGk1Ytt1HtouFCppcuQ5+QZQlDJSTMlUqXkomijB34RI6/tcPOt6ybUsvRwgqQwF9L8Cog2rqejGhYZXRDPcAWNVpZa1paXu3Y/EFqqDpk2UvqIKfn1FFPWHWuweCY8Ap+GdK3rNoiOjtl0TeKFxmFRl0W13OsXa5rr3y/HLLiAMsxhiA6H7dzMd+jomZgu83+kdhkTAI5nNCPb4EZzMbBs3j3HyYb6+ba2y0VYIzIkY1coi4LZgPadHAAy2N+UWCOmt4TkULuu5hTEy42IXMVFVTQXTEqhfSsFEq0jQekkwA/FPaftYYx0FaYfwD44e+AfwAz0AdDB6yZzoNGQUsUOlG6DWaO7YAR/tbxBQYBEK0HrmpVJVdFyjhPfebzlW1eOAzSsTKBALEy3ENsJQRt+sopeyhsONYwBGAS+DWu9mwo44BB/LBQtM2ZwDYPxW4+nMVzMBwgiaPB3GTbSAgNiChET3IDyFIqX8FQItmlByOiyVWoWTGrUqhEwk6l1KIyEHP1vBQCU8JLIcpNgM9KakbUJd/Ve1vSNVLTgx7uhG7c4uqKoQBW6fO+AoNAsA4KjY/H63KvLqs9hElGanpfANHVm6HxqtdkiEza5ryjcV1DIiwCIRJRZLT1tKQnJ+XNJ5+QshJJUa+PZnLmcAYBr4zhSJjHEG1RTc5MKpRkEHolQgcABTktr8J1BrHyjyYEXbBn2QRa8PKUIKA2mAQAcP0NTjpa5z9iEDoOjfn0s4W5cUN2XCiUrLq8rNqzkKXzsWAl+r4vG3RG1XATsIwA5oEJRx0cgQsqCGgxN5R76LtDpj+U5lwF4bm97g6th0TdpHJtciUGAYkDoibBV6XmSG+2oNKuoAtDNAtoFji+bonDENL03mHqa7geWsLH9XqIFgbBFuTvZn5xX4PrO4PwvlajJyPYtp6ctLEMtvBqQ9fAZSKKFsq63TQz+3Pgy2BK4mTOz86anU2yCaajmLC3iIZUKd5qGdZTTG36RfVN7vnlDXJGtQINVY5i7xqLuXuXDu2TscOfKWE3QhGfMtRf1Da+dduDUm4FbNxiA3T8v2aQrUB2YEF9+v5bslcd1GVlAsLEDTUbluowXsb8HzC/KOEn8creeJaY50NyAiodU4f5woGDcvO3vyMpNTfKqt2q4OkOmMPHGQC8UK2RIKWZSU3PbF5ikaT5DfgZVjvVDEIvvIbndmI0v3TAINz/xtCdwdr7vdFWzT6x1vggtNkizACH+CsGaYTIp/k+sVkL2VaUubNlvUaPnElE73PBGNo1R/CBAwMytm9YuHIfgX4pWC1bZBIwEkLhJE8tmqr0YQwy7ANYUm1gWvnJhk2trQzik6NIFMIcHEk1qYpqk8eVoLCvKcBjprgzxiZXlzYYwLWI24Ec3NtwFMrvwTceSRD6lpFOED2trkghFh1TAx8A+JfQ7eYM4gEJzCsWnDwPQ4LGRkeF0cPtdlvWVpdkfaUlVTUpLh49JLV8xogsWUpITYnxxYfuk7Mn9ptk8m44NgKfo1GOy8O33ChP/u5WWazhPxRkvduTl999Xf7y0vP63bb1lDQ7oX1364EUh1AxsXzcwItPPiKP3fpraarkX2fdlRm6RYQNZd1qd6tfQESNqbhku72okOfkeYMjPCPr/a5U03EL76JVyYsMM4eNsUDzDIATeL6E+h9T47NCLzs95YRNgyYIpiwJYSdGDmuwMsIOE6gwF/Eb2DePTIXfE9CByQpm9tBvz/NciUHwl4h2QsTgNUPEwK3Wq5h7VF/PbpQ4WeeroZgEpjU6o2Xbgk0h3Ov3sdEFi9ZFsOjnAcVn1jSLMYhjqjrC+lYG+Y80CI059rseRYtVM7ESeoONy12DtqQBCcTBVuOL0CzctBHwwBky4LKBmWX1Pzj+bUDsQpSB7K3fAxvIfQGf0wctY0WJeW1FwOplE72Gh0wtvwlJphBe9gQRn8u62p36HZJP01OTNtWIhFc8QQSlKKLn3/vGDrn2q1+S5PnTKrXmJNcI1bzLuqm5KoNoHL081J7xvlSLSDE6bkN4ADMo6bOUKqry1W6nz2V1eUl6zPXGBLwCg9CElc9ELXwM0a6tdAyYrlZJSLuv66vmRJPxzh2G5sQky4gCZdxiI4TLeV53RPF3+H9etWIqMm91Unm9Ll2GTc5ZBoQ6MIcTNGsbBAvrSMutCrtI2vIgkYUQomUdrcmquYlD5X5l0CDB/yDvggYElMH8w4F5C+NafoMxbK0AOhhQJ6/MIByUxsAgG8ll9RXqxYjNCYlG8a8IkvC3YPrRG+Nmn/kiAxPbrRBerUC2FaKoblbhg+C4m4nlSZJhX4TIli1SKxRyeXmGM4dfwGLUSE2am3RhC3SoUZ4Ccw0In8mxQFOixmy2QyN0beE00lUHYy4qIbZUTRZQ78r5lHubLzTQaKahjFkbG01PSH3eu8r2BOQSzAQQ9Cr1QIC5QbREz6gDC6ATbhZgRoCdRQgQpqLGh80nLMiU3G67Kwy7PH/huBJixNABfT4312jV6KILzMbmBwbUv/dZi4TlSZjgRDcdm0fLL/e4ukKpCGASICdSOKfEoJu8iCOOAFEbvw+esDr+CI62+gNL+numCgPd06+A59Ww5qV8Bac0a51+a4B36/O88clug2SiVovZJQ1lqkx8VqZGL0hN/aK5kjIVWhZTEyk7YG7WxRAJu0GLh5L0spkw7CUjmcmUT09NWDh3emrUQt74kdjyzJAB7CGfy1qGnRxJCP3mZX6OCFLSfsdBbgST0DPjRJcCxhoVBTj6FLcGzcRslmw+oes/LRXdN0p4Svp/et+hJc+7uPBrVIEZLdhhjI9l0gyBGfbJBPvACmHKbx36VZpjLXnvASE6Iv+KQdxJ58dX8j+c8/ibObxoA0wkvVmc9CZh1mWQE0N0i7+RmUyqueWq3ju/jMmQJlx7EQSTkjEJzqdH1Dz8ZqZYExUdqjy9Piy0TQYUDO6H+8JWZnqr9QZg3jGDg0RlLURcIAreA0ZWYwRdE6YnxB1CxmyqofyNj5vExJQoqKSemZ8y2MyVtcUQ+WoA8x+cT4+KcQ9VJL2aeGw2jIqkRQtw39yfM1REz7dj95syO6g1qpUxRfOyolqZ+rDdn3wgJ8fOmfCAWDK5uI0KYMQz16PqNqtmUkLvraSOe2etLZPxSfnWrdfKp+eOGBBDUX+zomt0x09+JM8+8oA0VALPXzgt42ePm+nrjuyw2WtA4f3N0KflCToAPqjZEY1a6cj01Jg8/9yTcuz4Yfno4/fkw492y8FDn8oONSE/+GC3fH7kkCXqLuq1mDC8e/frcurkUXl554uy5+P3LZfx6is7rMWXZ8Gv4bB9BBy9ScIw9KgThp9bmJJELiVFXcMshZNAO7VCso8QLszllgIRMzMV64FBgi+02TjntMtwJKKvCHeLwur3ESgGDzSg9auckJ1BjDAH3DUc2h122P3/fI9iPxKF1Qazqkvmg3QHppo5/H0afvKSTsfs5t0O5UatHGWg9jgHNwmDMKmVzXEJZn6JERVmVihzRnJAgG4OuqYL7+k1CQ0wJtUJt1Y2iQHEPlQyzVFcF5wvYvjBhyEiRUk0U5Tq5rTbHHf9XRyUFEd1VOagl4Xfu2blmYxRCjEppuftc+YhArzNBhE5we8xwaKbeenCKbn6ppvkwOnT+oxN+069mrLk5OTMuPzy97fJuwc/lZ6agbamaHd9PoTC4lpXYqWkzJ47KRVKI9Qc6S6RdC1KtBi3xq4WbbIqHDpKcAfeekVGP98vL99zl3z5P/8nue/Gn0lVTTXWxpnDGQR6wLT1iCKvmB9E+erVqtVYoXWR2pTKnzx1VM4ooQNIfvTYITl6NCToDivDTE+NWEj58OE9Mq4m58EDe5V59svBg3vtPXhgrAdaACIPBA5OFqVJjMOIqsk7J3ORGUmqL5etlSWlvlemkFdzPiCykInfEE4w2MD/gTE2fCtMYfyNdnAh+C575ikG9t9TDWgQVwpXbdUeLIgnWPxLV9ImrknwQSBkGATu5qAX2LWHh24xFcius6hICpI3PJQ5YAO7lBsE4GvjpgeHh3kxqTjQDEjwYG4NsucDxvMYPuFeQq+E9TZCuWqqoDVgEI+82GAdfQaPdnCE6uOKMEoBBsGco3yG56LCdmZuUjehbL0sXNsZk/VAI374ygty+43Xm5ZrAvfD81HfZGZVqD8y7ambeY7+dJxV7HPgN2uEeAvW+HRxesyiNIaPpeu3gm2sgqGqplpNpd68MuKP//7v5LN3XpfFOoGAmrz8yINyZPc7IiC16BqVW+qEt9PqT9Xlsq7Bg7+5Wd55+nGZU8Zq41wPaY6NY6BBNkxu/FS9x+nJaUklkrYuFulDuA3sdw+N0mNiCDbQS49kb1hPoo1ch5J89gVQi4BTHPzZAMsUqmxBXmfcG5GpRGLWekcw3zJE0DDHdE3yRUzksJYwlwsoM7EGkUCPCPJKkGBYyLsmccvDAwcubHnl71/IgzhR+5c9DMrF/eReqmF/7zGRp2hMQB6krgRR0oWsDjQAkSl3tFHbCWUQBkRib1Kjw4PVKANvEOtvWEYehgCn1R32EGELTIb5g/nEgMtQPBlKEMzEotOuNrBBLSkZHLbQjF+1kghKI5Bmw3F763vuID1DWUyoocrKCsNv1LyKR9Rez6Rt5AP5EPoo5pRBMqmYEnRoIWZ9wprpPepzjB74RN598WmLJtU7lHqr4z3YII8uuYpv9nGGldAw/bCX0XKU5RCdwlRQE/Dlh/4se55/RvLxiLz7yk51rvOmiVL6m4tHPpFYZFQ1N5IyKc89cJfsfuMlKev6EkhoqBOcj4zJY7+9WdKYRjMjUsL8U0HALBKwjYcZhOGtBgY+MLEMl7jI2s3L2Mio+mahOnd2ZsLWHOYgAkQeAT+EbkXQ/5lURca91cYEJ/yetajZ6mpTGSMqAYQw7JkDVXuWG/wxEqqZNKMXCCmrcCuTJM0YrliDoxay6miPsKaDqBQMi/9RDwNGfWTCkpnogYFcmNq+EXLGf9Tf4nMYMn/b82yUuw+c4OHDmWHY33Du8lINd9ZthtzAZDJ4UZgJidJgflxNKh11mtUJb+v3qIBlQAuhQ0KLVJVS0oxqRdK7FPDixeEQnGf3YVq3+c0fIdlFngObtY0tTaVmKGXhfll8NjOlPlBw+kKuhBi+zXlvhSiUa49gahD5SAtlE8w5nBibMDTAvjrmqbRKUF3ko8ro9az6C6sMqgS1PS5r6gMA8BbGL1QsYkQTGKAEi2pqhWgPqBmbgQKYoo+WxZephUpaTD0ajUA6zCcX5Dv/47/L/b/8mby/81m5799/Ks2YEtpi38ZN03/dbIfeHQAwWMsuVQxI6lXKaGIyf+msXPeNr8vRgx9LSe89kc9KcmZSkp8fMfPX/UEXhJQLkdOaXpix8ppoQv3HFrA9WVsHEoeGR7UwaqFjwKURPDBEuRxXosua70M1dDI2I6UCplnOiN+ZAaHGK0yzvNzUc8xYTz79Q5hIfJceDSyafJEW55xFtiiNsZEMuscASpDZD0OSQkiXML+HcD1axuHPaIIJOoUp6iHaaUIVqwdmZx0G/i/C+ooM4uqFY6tJxf+dkJ1gnSv96BpHKtfXmFqqf+d8/RBSo1fEHoZsMUBjulCYXu7kck2PR2/0qXNezLwBZ/v9EA0hQoW2AOECNc4BGjkzH/AdMumoJZZCjJ1QcwBChlHAl7oSg3A+/hZUbccIYnZmXrVGXJKphPzuoXvkhjtukZOHjwh90fRJUIBHDwX/X2nqOqr6X1tZFCBxKDl3cAr8J8xDLwJ19V/KJ8XKKXRd1lf6Jmjw20gCzqmjm50ZM6l68vOD8t5nH8u0MiQSNatEBvok0TUcadakriZIU58dUIiO+ikrrId+r7eEs1+Q5Py8PPfQNrn1mh8IUTiXphtmh0rkTEIZXU277Oy07HricanGYwIq4pyuQ6sRoJYIfARiD+ZpqF4gPBsy6EhxBCEA1fHo9BeQLkO1r+5NfNrOE41OGoN1uiQVy6YZfOZhIh2RGlpOGQTzk3PbeZVxMZu/OChnABAyeCYX7k6bziD+3rTIQKNv0PvAvIQXrswgQ2FdfuAM4xfyi/AZ7ZNXuhEgc3Ciap2OTacKOZa6JWGMEGv0dQekPF84fo+q86QNm+6aBCd9eBOd84NtSyiXrC/mVc7sXHwNpFo+H7f3mFce5kVye3LrSgzC35n3AdFj1pUKBXUwx2VmZtYSceOxcdl98CM9R15NxktW4Xrs88Ny/txp60/43pe+Ih+9/KohsxPGhCEO7NurplBUGUCd3Ll5e6UDDy3FGmBLQ3Q8U6eqz1EMMDrY0NQdLfYqUqmlZCQyLt/9/S/k0d07TPoyaCithJRTgQCGmMFu6u8uKCN9///9b5I8f8qYsL3elfncvE2FGjt4WGKjIxa+pjGJ/gsK+aanRvV5LkhkbszQI9f1+UGLvOFb35Do2VMG6TQ2MqbrAc5XN6xXI2jDEAAZlJ9gCg3lVjbK6C0COUhEDvYynghm78ICc1IGxK4ETp0UJh5IkMxaL8N0TWBfS3Zu8kQVmNOKIANzeKmPDSVtboZzh7WHM8MwLW9lEHc5oNkrMohVvw4IfliDDDOH/98ZxL9jf9NzlFFzyhztRfUXusE0g9AZVmMRpVpwxqgRgtspHuM8dl7O0yZ5SBgZJ71mJhZ/40BCcICPBTQMC4OqZaYEPQc5de7y+ahJJlQ2hJTJLFgc3heCV2vLvBKDVINvYWoXKa/m4uTUhE1gBQ6nXklIpYtzi5qmkScur7/2irz7zpt23HD19+Sp++6Xj3e/LW++8aqZeEcO7JdTJ0/KW2+8IS/t2GGTeA8fPKiMd0kOHvhUjn5+SMbGLqpTGpFcmhIUffZiyGx3euqXqYakAhhbe8/pQ5JSwbBqJesZQ2FMKMOThMQvICzaUKaZO3ZYVqjM1eeqKMPHVNpuf+JhueVH/yaxyVFJ6P+L+bSZMy5xyU2VMEFVMxf1mmvrHWsAW1sKjUYTY6PK2MwDWTFt6FHCsH6Yr0SgypZwhDm8QhjNOByON+FWxZTKbeSecPz5LJMKSCesLykCoptFfLRGYBCSm2FsQriuB1igAwtZD0Lv7is7vfK6lUH882Gaxu/1KOwVGQTicE3gRMkJnDlcu/B/B3Nwv8QcJT1HUV9rfbBll6wRaWVQVsy4BMwQq/BUn4DoEBoECYY/wvnRGlc6/EE8WsViYgtjojHqi0VFGuOHUINVqRA9YdhNsHUT6uQSnqTLDKlOmHgrg7DANvphMfRxhKTWnIyPj0o2kpVHfvVreeQPN8tSvyjlPKj2NXMkscN55RxtOudymHtFi75gYhF5wv6mSYjnxXwbHTmnZlRKzp49bcfOnTvk0KED8uobr+j9UhGsBGEVBmq361HRc6yqedNTLZZVe71FL7o+b5SJveWkVPvK1NVSANYjutgkjJ61OeDUPSG0KqoZUlFaZBfUnwrTrlhPJ1oLelCyPrDDKZ2nxL7WpqAzIZMTo1Z60mkhGLEsEGhcC4GhAqaVtWt4waUzCsk7r2ZwmoJWCKKQoA3rEjNmiamfakWRqj1suhe5MZKoupeYWGgmZoUQAWW9CboE0zjsod3TQHMM0/CwgB9+z+uwkCfkC5MEBhkshB2cZHAiJ0ZnlGEuc7OL/zuXOoOYw64LCi5svdeVljJJWx1UAy/W7zKvjhJq5l0AhgZTQNicy9DFB9fYuJdOSBaGMgDUONxPYWBeUol5PZ9Kc2L+hIOJehHPZoIp9jDFixQxWgFcABkLWVcYKfyfqI0PWnENgi3v80UwC2AQetIjE3PyzlPPyNn9H8lKj+7AmjnZi8sqEBopaffJ4gKkoA77+orhhFkDEdE1CEMl/PoaMygK1riENGzUWNtQzn/w4D5rE92z/2P59LO9cuTgp+a0V1Q7UEJfVWZehiiboL/oOdvMBMxbmXuE0PZyy8LPEB5VrWVlDobotKokH1uSUQbNMuewXzPTc1yJ3RgEgrCSGfa+LOv9JQPSK6ofRVmMoZYQDNC/LcyrMJqPSSFblFQ8rdrCE6yU28AkrL0KHsLHEKyuB6843gg0F7BOtJEIaCWAxwF4gZ+pa6n+WC4bt65UBo4m1JwCOJzka9BKOQOvaFShBwQd+4uZF3xAQ1uB0If8ELeInI5himFnHp/PZ4eYBiHUbQwyYIgrMcUw9/lFth6urmAUjx+bTdoCK6sp9W7LamaYCkveAsJ0eBbAo4sF+ivCDbtps4gDO/iMv9mASF0UUN+ByaRy1WpviszIxlGnTXezHmprfZGZKYMaIxaEscaubXzYI6aaF9shQW3RmqGMwRmYewOd3JA5+n3Laq+Abau+VL6eUCmXtxmGy+p75Qs5k9g9Nc9qJUyWstV+AV4NYzCGOJWYEFleDiUT9ZRJSMYb4EeERNt+e0W6cgBOHSJzlO4j9UsWds7pc5YoEFTNTfISAdJBk+P/kK8w/0TNFP3eikrsVpkQd0GmY1NmYgUQNvJC+F4MJW3Kc2/tkt8+cq8kYwvSrSPs8E27ev8FmRwdl8RCQh32BYtqFXIFM7URAEzRsiLIWsD5CgfRu2C6suZ8l32gxN2Fopm+LYbugLrZsgQ0oV3anafmpyWmDj0BAfYCDRyqf4Mz/gVCH+zTsIbg/y7AncY3mKQ5sE4Q8qQ1YJDB3zgM9se5y5nFTzjspLujvvW4EpciiRr6WbkJ5CZADiFpBIPYME4lUOqSQm1WkHgew7Y5D9zgkK0YEogl6+EmUUehHdELEMspt4dJnMhNGwwyqTDGZjUpDnzwOXDQSRZSAep263Co0E0OAgcOOeNCIjIfUSc7IuWiR9wqsqwElp8ZlW6RECa+Qt2eubvUNkysptruJfW3DGFRGbjVUUeSkGUvL0vqpxV0w5d7Jev3QLNYoIIcimoeiOK4+hJHDh9Q5iSQ0VICUSZTqV6gJ0WZIaUSN8HUpUJWps+elaOq4QCju/2X18rDd/1OTb6U3P27X8kHO3fafI8CPSkrHYnOTJoED9O80MqYogkBY+D9gx/J9t0vq6aJSbuGI4zAyRrzkZdA61GLNjk+JfPgGuu+hVLzggU4EDxhAm0oFkSyo40hTMwnggMQurdXs8asZ6jeHrS/KsNjiYD5nMqHPAm/4ZXyEtOUA5/G3zsdOoO4+cQ1nGGGFYDjIFir94BBnHmMQZwRODYIfIgBtkayth6cbJi5LMPcAIRAncW6/p/ZGCtA5BBRCKFZTByYBCLw8C6/xe7nGNYgLByxekrNqYUKHWOYaQNpO3DS0B509XFQJs5BggjmsJCjRTqIcoQwLzkQNp+EFsziTAKDUarCJsIgjoDBc7LBZNbHRyfUhg8OblPt/uTEJbnjB9+TS/v3WmVBvZS3zcXU7JMkrBJlw1zpqYmj5kJfmXmpqo5nzEC8V5Vxjux9VybOHTUb26tjGXyDfR+JTMrc3IR8/OFH8v7u9+SZp56WUydOqQSfk+nZcZmYGjUwuKxK2ee2PaSM8VObmz7LjPSpi7KqxPrOi8/KyP7PLNYfK8TN8W3kMhYYINxqhMRaqXZj5EGLqBnh8xbYujkDrismZpTBEFbY/XqP1KM1O7YmFu5vEhChFJ7+8+AnOqERrWM9iZjxCuNbAGig1cnldHTPKBakYoG2ZpLO4D3n1Awtt0gShyE5nM9Arwcaw2nILRmn42FGGNYew1aRVwBsMMeA5v3YYBA/6fAxzCT+na3M4xzs/7fzEKpr0YKrTm47aBAjPosIhdkcbmbxQAEaJ3R6mRbpKjPpOQl9kuADXSJCk4xKSRjEZqMrc1RKxM2DaeXawXozBnU4wyFGCzMOQAPCQS6ECtlEKGdgznkrOH3kT9gANtE3xLXZYm9RJsYmZWpiImg+vUZuYUr+fOtNMnnqczOXOmR1MekW6/L6s4/Lk/fcoZ+rH2D9J+p/6bX27N4lESVgHN2mSscbrv6G7Hr2L9ZWSna7alCkoXzeuiX1eWZV4s9MT6hGOSIT4yMWdCgVw3jsmDrdUfXnJpTgTx8+JDPjYHnFjUgZlbasWo1JVNS+YdsDlgbSyMz0lJo6Y4ZMaCO81d6nAJKcTIvckfpVkblL8sfrfyLvbX9eLq92pGmCpC5rPWagtGRmajoQHmtPhtwkNvQUghw44UTy0MasJ4TO942uEKp6T71FkDkbhiKTV2bKVziKVneVrau2Wl7cSCZDc/iuLlhdgP0tIb6VUTZonPddwEaKxiAeOR3+7QZ49TDHOXNsNbO2Xtgv7t/1/2O2EL0p6cYUKAlv0uOB2kVjYJowNBOAsbkgPTakTChbLyjjJGOAjoXIlDnnynBl/S4MksmStAoaxE0ku2Yt1F/hFIYanOCDBMRAGASmCKUkjUbazAmkNQyC0+omFlLO18H8lMGmwNz9bt+GwABkQNKtVyvLqkWPklamXVZiXekyIUs1ktrjn739mrz1zGOqFUtW1l9iAKja1jde/S0Z3fuhOvOr0lMiL02PSEs1WTY9r2YGkbG4UIXMkBleIbxLl06byeLdixBkbHZGJtSxX5QlC+PmcM4LhE9LMjk3K6NTRAfViVfnemRhXGb1u5l5GCEuU4lpmRybsFIax52CiEdUWyVmleizGSVOSj/KMvrBh9JYACMYv7IuZ8+fkVpWfYpSVTKpAYaVBTlCQSq+podvOa/1nzcDmrqbPea3mtAsm7Yt6L2nKUlpU4bellq/I4mSrkFV6XF1VdZWexvngEGs4aoO6HigT6ffYZod1ihOs07rZm7p/x3hnpGCMEsAARloEMt7DDKHXt5s/+8PKnuHDv7O9x0ShfdbmYqDTGrD2jHxDaqmQbDzWGgkOQ60ZUPVXif/QfgTQkT1whTuuPFwLB5/q4GeXg2ts5Va2votKqr6aen1orRNhzw8vC18M8S+OUezGlpA/Td8HzsZBglgBBlLWqE9XGhY2Fg3gevz/W6jJZMj0yqhpyxX0bWuu5BcJNGFGWcYvfrcVAnTWxEqZgfhV8KuLYYGKdMyVKcb7HVr7qnT6qlHBTAGvVfVJtRTgSxfKKXV9xmRaln9jw5OPoxSkRdu+6lsu/2Xeq2WZFXiV1ok7lTqq1bLZynxIEw9a8j0uXzo8EQ7gzyzkAmz5HMqcNalq/dKhTWYWTULx09Pg4FFa2su2Op61MiuT4zJNf/0FRnf+7EVJ4KLBfQoGLqxGKXwIxa2h9mwAtwUcn912NRp96sWRsa0yuk+lfQzgjqWHFapXm4w0101ufpMXTXXOx0KJ0sSp9+FvbwC/Znp1t2MlDnDuAB3uuBvMARapL8ID+j9dPk/uTzou/ofMEhvk0E8P+LvvfPQGmkGN+eHMcig5ZEQMmXaTGClzp7okkt0fAMYhYV0mElPWA3bk/5AYZxCKKorlUmQMXk2Zc0wWxnEG7yG78vukyI3/R5lCrxyD5yPLDtHcNzZVJzgoBFd4lHb1dP1AfitWWnI9PiEagPggpBIREhwqiEwwpmUqXRlnZHaaoYA1Qnw2kp/0WaFwDDnRs5KThkGp9nadAkOWMRH10iJNKUmye/VyU7PjOj1shb6nJsbM+bbqDvSo6DSflZ9kIra6DajpQruVAhn+/Qu1nRRP3v8rjvkvl/dLLV4zKbagsI4MTupWrAk0YtnpE7xaD0gXbpQgcgRWiR4I3PTsoCppP7OwY93S1IZgbC0mXsx/MqEJWTpLUfjuvntBOrS3QmVw/wZ3TfwvnDGiw1ArYEDLVugh8AMJlcTetTPwQeA9nDWgRJyv8S0weD8G/s9tPcbGmOYXlsUY5K7CXRvpnuvvMEcxiDDDOFaYbj03ZlimGG80tO+N0SEG4dKg6A5ajYQp6I3ULeapE1C9kpL1K87wzzosMM1TOQQEmYas/kgjHItq9Jl0Dk2FLWyyFUnRCwg7mETzsEDXHvgxENsaA18EHwZGNvVtt+Pm399nh/po4wQUzMlqiZMTZml1WAGntqy5ZqUi1U1wSKGQ4vpwWs8GpNsSrVTIqOMNSXjE5Py/Z9dK9te3m4l7DAIQsUSbWr+ddUMnR85J3f96gaJjp6Rrj5jNk1nJh2NFHKW7BVB0e701RRZkpT6GFWQLTvAnbZCok2lN89vgkfX4tDuN2XPW6+pc41JyvRecL7UxlfCv/4rX5Y9r7ykmmTVRhW4j+BExfp3mqH0hi7SMgN/GHndAJ2dglM1b5kmRo0bDD8QdK41fD+Hi11Ny+P3NZl9ouYz99UJuMfU8qEpIF4KMuvtAAhCArq31LKZIwizYdPfTLZ+KGblesMmlVsU/rl/5lNwQ+8RwQKqmelBwvyq/DUu1pUYxOtS/DNnJrSDX8wPuzk+Y4C7XjRb0g1QqVqm2YlSiKEchSNdOBQ9GzpsGnFuZxKD3e+wsITlKma2MQEWs43zAo2zpFrKoHI6wa71OHlgkMCQ/N16pFuBYehJoHZruAQec8gXkt9yDo514FVbZNATBsQQm5+XixdGzCeZnpxRx33GQsCEYcGqBUqI9lNei3k1vfLq0Cez6tQuyGPPPitPvvaSQQFR4RsCDUGD4LiCbrgEsZXJfdQMCpOcB74d4AxECenRbi0uSqrekMde3in7TxwJQQD9u7cTbJqZah6qdGyoSZjT8xZ17elhL5P113OfPfCJlBI4viTNgtbx9XNtQnDFkDBxxrtlWVGzDN9ianLcwKwBpcbMDKBxIXRvgmmwj97U5hLfiLSF+VW2KFZZGZMq4sVemHXunaOYQA39DcOH6Cbs0uCmTDgfmdigE87rzOe0OMwgW2nULZMQvQJ8BGQdulkxJ8sbx18xCL7HMHNsZRDXMrxazHroJjZUGQ+F06MEna+WdEPUzlRTA2KGOULpAdA2m1Ck3vji5QguwTYeuoXJBRoFD1K0UGCZePygbMUJ3qJV/L0SShs4d3D+g+bCrHLcJg40B/5HKHQLposThj+XbTTh6xqZ4ZQl9egvqBZKFlla7FN2gYlF6U3XsrAho48EhUiIrtWsBbZCBnohZQWQZMZNypp5RRg6lMigHfA7akWGvhTMTp+OTElWfTUmcGF2NPR8Jb1PapQKuua33Hun7N7/oYXTmexkEUBlErRHqHcD3wrk8pBkpCDy6AcfyfHPDsjs/LjkWmlZXG/LYkOJlsQg6zbQAK6BGVFhIBvUWsEkDdqnmTA7Z2MPLDeCJmzwXOHZXGoP+wF+PttXXXOqtKGxSpVmu4pVCnT0lYY0GrWMKZWmKvr9OqbaUvBNUtnIhr/hWonzDptUrgG5Lt/lXoaFXpgqAINQPU54XrUnVd7OIE7gdpHeJpqJzYAYXNiPrZzI4eXunMNvhAanRX0IGqfyQLNwA91wXhv8WQsEi1/hJgB/g0Fw0J1AXWXyN+4FSUJijBnqBhlZo3c7dA9SSgIOVrUG4FkofQ8SOWxysIkpLwmMbLCnymCUw6NFQhSM/nXMnNAvAuwNZl0gcspIipanIDpWV8mbiadldOS8BBCJtvQZg0CeRa/FfbM5RMlC+FMJTKU9tjqgz/3uYN1aFBiG0DKbVDJwNErFmWNIDgdfqaRa54Kk9Vnj+rfeypKsqo+DJF9Xs6pIvwa1Ttj+NfC2snY/sclJ6Rb0/+qMr60ogdJ/UU1LoZyQsmrsG//5a/Lb7/2rRMbOW6SMgEObJCI+IkKskFJCpaq4bJKeZwoapSBLpg2aUimUZX5mRlaXeurbZSxM3QSZBHPR9oR6t4BB5jSyYbZB3P1gsWBmgWmAUMU0J9AQTCzMMDpWdW3ozdffgcZv/T26DwhuSkL4jgFcQLdtMvptuy4RUAYAuR/cV7oEc8381HbAX3PknF4fRdAwYeb0fZVzm3/gD+FcfyXmGNYYbIRLe2c2JDHTg8o1WiNVY2Ab9+lE3LQ9hzWFf4apBZMMaxCXEHZNfV9moXhomEelXbkSGMGI2hgkTLLaZJBNM2H4Pl0yTk6MWAUwzLHhJLcgNPIiIUNP4os5H3QQWoSORJ4yZ3we/ykitOSa7WvZY5gzNGsZQZnZBl5WVf0I4IWmhDEAmCZ2D3rQ0Qb8kN2jfs8ApXG2lSiX+zWZm74kt//2l/Larh1SVoJotnWT9VhZ78ln774lN1/7Y+tLx2nFbo4rM534bI9qIJqh6tbGnB1UN9MTAnQQjDI2ckqSc+OqBS9Jb7Wp/khCLYiqahoGmYb7WFlpWv1WpxccYNaM+zQ60Xutqc+VisVlVdegbWZsKHkPofQQemfdfR+HpTz/R0pjpdCtiXmFICXCFurvkOLBgcYPKSn99Ff6ZsJbFn7AXBzOIBZEMm0R8N5gPMz9aps0Qd5MOfsN9ATtd0J0dvhwoHOOL2TStzKD/98Zwj8bDpm5hB8m5oCVVbcbyqlZYNrDhvBsZuZd/bn2gWHQJDCJmze+iH4NTDcYpKKLhUZhnECo5BxI/XrSDrTIVgbxHIvbrBzcB4VyKZzfQZYd5mJzAyJjyNCDDYV51CLuXgWqU21xNRunx0J7aZgLHyJRZOj5DRpjZSUIjwAu0Zbx0TFz2JmwFKZ3BUY1IaHrQCkKUD6Uq3TaALeBipiSMXXUX3rhSTmy50N1VlXa1mpyWbVRQe+vGJ+XA3vek5UeaCyqHfT7r913p9x09TdkTBnrwe1PyqPPP23Bkv5aW5q6H61cStcxJ4l+3qJIswvjIgJSC5hfVdN6hDwLqkUz9OfDVIub/iD3yyuaZGZ8WnKptEEbUUSI5qM4FCbx9XdgC3eg2XM/R6MVhAIdlA48yHsnVveL6cHPoxlWVQsnqMhOqhDe9JeDk1223y5hhnHuAYNZubzSYpUADf7ngEHQ3luvY+7EEC8YgzjB+OFaYivDDBO4/2749xvhVbsJ0N4L1q8AmBxM4szggyD5vketONBG3pfsDMKrZ9hBE4E52qoSYRDKykNPNVIra8xRbyDBr8wg3urpm8M5+RwnHVON75NIDJuLJgm+ASaWPbcRAb0sONxZmRwhyRaAB/g7mhMGsV7rQVeiQxVRQwWDtJsIlzB40gRLPwDb4Zh/9uH78swj25QBYXjusW5lIOSKSNCtqxNcVN+h3WzJWr9vDIJfd3mlY+MMGL5DVKh48aTMnDgk88k5efbtV+TxHc9JjXtUu/79Z56XJ275nUydPytJ1b7zE6Ny/OOP5c3HnpDoufNSSyWlmI5b7dvRC8fl6uu+L+Pqo0A8RLKcHtgXTNZzJ85ItVgyvC5K2nttonFUKoT1xzRzi+RKDBLAz2shMkWVhfoutEtsJVxwqwqmSRinNmtMR76C9XPm8O/CIJzfGaTWxF8l79Q0bWL+NtoDTTb4jWkezDWOYQYZZgr70eBhhr/kDOKaw//uD8xn3JBLesKwhMy4sRJ9DfpQ4GVBqK51+L03Ww0zDgSMFvHr8Dc7b4eMJ1Avql2WyS3o3yuhNGSYQZot+jCGfZBNE8sddpfa7kR6ojDAlQ664gBzIylZodw8+EjYrGgPTJ90PGomFvfhIxe4ls06b2Ut4WeJUv17q9Ew8wrtgTNLboSKAmNcfR4AIVbVhHv9xefk8XvuDpoV6dYJdUITkyNCmT9FfNkm+YGW9Cl775NzolQdYLwB7pcySl/ve1U3Ohqdl7Rqi+YiJT/Uo1Vl+5NPyLXf+a68v+tVuXD2lOx44Vm55SfXyJf/j/8iT951t3y6f49MXlBGKRckpf7QniP7Ang3gN39TfQWXon2TVwat9EIVAkH4YFpFSoW0MCYnZhibt5+wcQiY80zKPEzqYvaK1BxnEGcwDkwsSpK4Pky/f8IAwgaiR8iUKY9BhpgEZMLJtRrgLEGHbbwLUh+eyFkg6ALScHAHMOBKecJDtMgPOwG8fsfB8xhknogMYYdLf5m/ocRN9ELPiNkSRGeSlgccR6qTsRFzzOov+G3fq3g2G7iWhmT6s2TxQ3nCzA6fIcbZ7xvEed6oEJx0unnCOjuQfpbP0I7jJwO/elEypBolFpTeBg0AvNC2GDunTwIWgRHNZhXA0Bsci1lChszQVCohCurQ08kLL4wJ9UCZlAIPnAenGTK2esN8GJDey+mFSiDVAHT091tt2V9fcWSdEhBplvRA95RApw9d0YW1W9g43AeDURcD0Y3M864qhopocyAwFlULdRAW5BtV1OOEnHmahDCLrazuvYFK5rMRucEzdJaLEtO1+Hs2Fm5MHnepsDSU3Fh5JycO/a5jB8/LpeUYeZyUfVL5mQNp1u1U3x+ShKzE7K22t2gEw72ztBGrC9EGYSqAN27pplYrGGoJbOc2IBBXJC6ELZzdaEdEnRqIiqD1OgJMa1AElH9nSbI+pWAuaafJ1Vju/9KIg/63GAQ6HZgIlkZCkJQ9xhkxkW9f65hBwzBnkGL5pyjOfg8aDNz0vW+yU9dhXpykGjnID5zbnTu8gu7ptnQIl1UZzP8vtsyVZ5X57nUakiR2hYemFCtM8CA8HlP8ZlDAzkHcx1QGF0i8GpqVL9T0Zs2E4t76RMFqpj0HD6Q4hT6McOCV9BGmG6ETY+fAJMUi2lZW+tbQo3qVaQv7bpIYIiafotgQoSQryUJdTOtgw0TTaXc7OS4NCpoz80EGJvm5hwawnCCqxUr5qMBaWUF7dEShsIwZbbGPXZLlgiMnTsr//B//Z/y0a6XjcgoI7Gq3maokUrpQa1SDiZHu7RDz75pbgQQCJF6/zRD0anZxfwiFBqftaQaUSAiO0ygai+rb6NaFuwpJK2NRc7ENqyBpbLuE4yt6/DCTb+Wv/z651JqpzY0iAs0wrnkfUiCGiCehcmB4AnJVe7NTSnXHu5f2md6npUWtBB8Sw4ilWDjst8wB9W8eRWEVUAvlB4oXHW6MLOKtRhcx5nP4Kd0PSpYCNByO8xaMYE/uLb/zjPmnhi0Q/eElgQOy6Q7I7g95gS7lUH8xH5wsV4nlIfz2zI3Vac8uaw2HyE53Sz9LerTxxf47ziXLfLgWn7ADCTFfBQC92I2o75v6kOiRYhyMOCkoczoJoYzBwez7F55eYdVujI3j9ezZ07K7DTTVqf0+m2Zm5mWY58fsYpXjtOnjlmFMZCj42MXbPGQVF6saFKQ0KeajJlEVCZHR1VCbybC3HzkGQNRIC3ryghA5dBzwfzARTMrqrmEnNi/V/qqmZgIZWUveq0Pdu2Uijqfq6v4WMFJD4EEiinTSkBla8JaUkZjHiGgEfMT81JJZqUUj8urzz2m9xeXtUX1TzLKAHoPUSWoTDGu+1CRVFaZrEwrshI71xxgJuPzUfLDffO+36hbrqGuazq+f5+MHPlU2mvBhEYQ+P5hopIgBQ4IoPDQmRkYxNfDGcQETHMzKLNBP3RHtugdKlv4HsFHHZs590rY0EfVfNgwOxDhiXaF8K0CeIgR/cBPgUEoPjS6gkbxc67AIAQp3CXAf7N2hcH/LZNuxDfQHE6kf4tBuMDwYaYYCTqkrRJ0rpCxgfI45IR2UY1U4ZIfoGFqqway35s2CKUuXAdNlMsnbTGGGYdiORiDgjkkC3ZxHW03xBzeU3740EE5fPCQOcUPPbhNRi5ekldffkVOHDsuu9/ZbegiL23fYTO+33n7TTly+KC88Pyzhif7yd6PZedLL1iSDQLAsQ82c8VaPgFUmJmYUrs7Zr0MzhSOmsgzBb+JCcFdy6DDIK0m1aK6VuoHnDq8X777pb+XxIUzanNnbWMYZMMoacLjmIxMdzLm199MjF8ywAk2nUTaysqSgDAyPzMlyZm0pKZiMnH8pNx0zQ9kSX2fWTXHHtv1knx64rBlpD98/gXJXLgoSdVaJMF6ul7TJz+X267+toyMnrd7DwNsQuLWIkSrDGRVE0TvaVHvI5mf3yB0Xjlw0hfmoqolmdO4ZJG7AL0UNMiwIIW5tjJIkPj4rLRGkE0PyWArVWmEQlc+K9HTr0SfzkStT92ACHXvGbDkjOgH58TZNzT9VtBSMAhlQldiEKJoMIMBeENDekB7HjLeYBCX3rz+TROL4rohO9QenORLL2iQGjPn2sHf6CmXwxzY+ZRK9LqBeLg5FmmDySw5E34PY8Ig4CEBN+nazf9GrzgSBsajuA0UjzpJu/om4ALMMjMzoWbDvB0ffvCezdE+dfK4+hJ52ffJx9adt+vVnVZk9+EHb+vfjhhe7IXzJ+XM6aPy4gtPW/h3WIOQna6WElLJ5yUyE1NzpmYzNnzjPRrnr+RGKFZs1GvWUISjHnIdJRvIOT9x0fwFA0lTgYCEY9xap0GyC7MPQgtgazAIlbIZNdNyOUKpTcnE1YegxiuZl9RsTP7/ys7sx62zCuD9u5D4I3hCfegbgiJVLBUCUSQeQAGJQEUfeGhLKYJC1QTSLU1LBbQNZZI0mWQy9ng89oztsce7Pd63mUkO53fOPePb0EjwcHW93Pvd737f2dcHy5VMVLE+WQ3l+ua/5Mmnn5JrH78vrVpJvvqlL8vrP7+o+ptuPqVNFSiy+p4XnnnaTKZwhUhiYv5WTvaYHu+6v6uBWeMWRLqmOAJ72VBOCAfptjtJRiEc3PW8uO5xCMLZgFs/o6vCPSCACwpSjwi6bFk7v87oWI5wCOuZQnLAJvAAkgQHMXEtAf7gIJ0eTka3EoJo6DpfhCAhVuGPsexU4yR8ByeGLmJxMFCEsZtsR0xTCkE4ztni+WR4sIsfdg3OmclQkQRFixgXxiDPWM+EdycTY2HOLSJwj7nbvZkYz6RsjXmUdV6EIRsCQ12mSdaX3tfXsesDQkq8NlLkhYAgFKCOjqZYfzijb/Dfgwczux7xxcPQKadfsjJBACWUO7fjxQwiDJ/5WjPKflmpfF+2bmdUlEGHcgpFiDjvBWLQA9A3jfUaSKNWlVsbN2Vr656USgWrmILjsKs6Qhufi3IG+pD00Yt0LUbduqUK4MgjGLGq4t+tW59KPp+VTCZjXLGYV1FwZ1dFobE0202p7BelWSnLjIjeZl0uv/Ar+faTX1Ful1MlviK3b1yXsnIbLDjdY2KNVL5uVWRFx9uE8nruDfoaoltZTpWKz3oeEDrR/aOVgusdaw5AJZn8zp5xEAgCmaQYRSCK/B+cJhDEW1+4YYMzyGh9OEboql0jgHPVX5uqt1XabakRQj9U5B2MpDWdSX4vYwSUSidnDyjK5zpHjG8SCvuga9/teRCiN3AFBr9YB4GjWhQvCj+EXIkCiGeinl5vsVggRCjpFEgIjPQHrl8ykCOsWWa/n7pegf8CIDRgVAXvdDG1Upiw+JV+P9HvUJm0JYwJxqT5zkHwHhYbsuRYPOMYZrFw7sX/XI9ne44cjkUDSsD/C/oaekHreAdDQt4jtVlQceMMQ54JR+taklRQNYwHIJhZagYu46KMY5Uh0SuXzVltqMl4Yj6R6O0X0cp1FXP0wdIsHcmzv3levvGD78hPv/ZN+dOFX8hJnxBuvOst63V+Msf61JBqoyzf/dGzcn3r3+YpP9G5/eL7z8hzX39Kmgcl2fzsvuzqc2uHHtBpSryKM7N5Q9rNhuxsFxQZvffI5sZHcvm1V2Sle0t5UvL/TSwdojNSjI7avw3LHaFVxfJsIfcyd8yaR1PQic6Paui81xIrUx//Rk/OlIBSB2BBwpZyjc0b98zg4a0jXNw15+rARcPYXxPLIHI4kPGHUeVFkeB0OpW66lodBUxaPFjW6QAC0zZLaB/z9MT7Cs4GXvWG/bECEcl+4stgTy0uUInpcEqzoqQjMGLbOTdIJJ2EQIep38U8RzI7FLnwOZmON0663AaCMAhhCZ9DkBRgPQ5BWAxCROIas9SYp5gxkFkx6brPw4HNTbwodvGcQBAbT88V3ViCErFoILuDKJ8T7aAYzMc4lYteXMtiBHuPsdPvEfNl7jyP8ZgLOkdsKL+HDL1GMt6tZ1aprbv3VTH16FWQIsLnI5S+rkCE0nywW5TLKr7949Ynsn/jppS2tszZRh8UuNygVXenlj5rr5iVn/3ygmzc2zCZm3Kkn330nrx36Q/Sa7UUEHvWn2Nw7Bsd4fG0Yu6rOFFRZDwoUHG9Z0hL0086cG1nNr3X+oBwlhPLfz+l3FCbonALE1eximHKrqlYee2Pr8rN63+397BcfpAliYLuUqeK9tSqJ6GD7efYc29mxNq53kAUgXOK4DZOAN3iGECJAWMyHEhVRT6skyPETRVxZvpelEAyq5Z5wCkCMbbAxbC0xf4C5OiBtr+6P5hz20k4Sei1wDb6scVpJfvqEsFaR4q5nsMNRFPht6m/mYgVptR4CNj+KGA9DkE488DIAjRs1A1str29LkGFUHgoeyh4gbERqcvhi+i/cy0IQrciAD/G+S8ESZAJLgKXMSRaUEl+jQzpg+eFFz/G4Jkhg8f7cG8sYFAdN11SBqgmmfs0vffFpcdf5LgAVHCSPnFauwXzMPdPdN4KiGfLqfleQA6ieE3JVH0NJEeUYzO7xHCdTlVE6KkouLAKhZUDin0PpU5QoOoy9CzBxo9IuVrxHgBjz1JfKcEzOO6ZeHz6cC5VVcpp+HM8JIVXxx4O5fXfviR/e/PPcqbX9FW/eSin1qGKzrb52zflwreekddffdGKT0daQkRAUzWdYEQMM5X9fcndz3tM3Nx9IpjICfA0ZEiALg2E1jcQ5BjT2bgnDdUJKfBNjB1ztqJ79DNRToC/q8+6J8QRLhjlWdNwN09gMmCX8CZ0mLROHTp2zIUjYDpNEIN4z4h+0O8NHd8yCs1klmCcKcbJjf8LgsTga2tPIIizdXQRMsNmCYDHmJzjewB9TB4EAejJdwDwQ9R6FEEMyVa0imbBUbDQYdZWljRypMcPKhbXMRYIEjZ6/ktzEM78R8YcSmmlhE9AORtOschrwVubIMnJ9FT2snsq+iiHUIBfJQdRqtH/hGeslNMi6gXRwHqE/I74xX7gSyEltqki1JZyHzgI5mKAxMsc+TvAreFsdOnFKdnuNaRIy7XclnKRpQL02I5auSwXf/JjufbX11TWb4p5o0FSdEd9v0MVM9uqi3SOSvJQ58u7gAzk2cBFQBRELOLRus2m7GzB0TxnA6Tw+mR8X6/zer073pR04unXTbieAr1zcJyiWO9IWGtaG76jDvFgOEopA0TApHeQgsAFZ2LsQBCDXbzkiIRJvFXaOso5Ddc8l30PQmtwG/8bB+k6BzHMSzhIYNz/gyCxCGFuM8DTh5uTh1RJEE5ZplU2mayzvgLQY7yg1DZRftOFYFHQRSy0PV6KBUsQhHujZAtcBq+7tUp4DIKknxnIGeOQ8hvvGe8S9/lYQwsVwTFGJ9ylxYN5jkhkR4IsnB/Mz2Rvp2h+igUsHufiwgsULFUkGaKcjrylcTgY2XTELQqnPVSdYK4Kd6fVkEJuT0p7BUU4krH2rNwQ/R29JzxECaqH76Wn71Cy+R0cUDesJqvFTBqVQ8nf3VbgLwkNZ6hWMqdNBNYsFZXmiliTEdaqsWR27+qees/0QPgz/Z0z4pVVOkHJV0oPBznIlw05/PkEkGJp9MafAcCOwF1zjiL2YaTAagV1biowL0lHHiXEy8JSWtLVcRp9AjxHpr8SpFqp8yzfH85BwOgrY/uURpDxGkGCg8C9H937NJzHuLbvcJDjhIOMULiIGZrrwCSrW3xL3+pLRSlKzk4d+uZ+xwJkqa/HXmqHa6JqOtlkM1qYKZWs9VT8Gc8USSYqe08tfmimcudClVCOCeVcRgAuMiwvAPWnlBDhJVCKvpShoA1yKgbmT+H5sGIKIli5zLlSkdXQ+o80FEDJkpslqblcT5UTs4PzXoRcjLwW7xyqOKZK+dDGo7o472UN57nGCEDHYqiqlZqUiiUpFQqynyd0w5VO2p0ZAAw8Zx2rDJ97LUy7RSGJCvP2CF1h1jH9gxTb6EMB4HTrDcncvSt1BfxCdkd2729LQTlBuVyS7e1tubFxQ/K7VCFR5Xi5kHKlZBQ4myWTcdvK6ZgnvHqQpNnSc4WU34IcFAtS1XHajbqKaiXJbeekXj0UqqcP4GKmY3hqMoDRVcUYCx5IMh4RzkH/R6+Cb9HK3aaF20x0XwrKzfZ2ds/FZADWgS2h6AmChOhihHRMSVq4g4qhWCgx2qBcI8Xo72b9Qh9ZUoDiyCQPuAfvW6p4clQa8TDUGGdIcYu1Yr52QJ9zkrH7cZifIZsiHpwr3AjMw62xpJT3zRP/hIUFDzyOxUx+CZa6x9QpUzS39LwHFgSvqGNZ9Azkd/KTTTxR7EeubdA+uKoAkNnRzclIcTcn+Z2sne1zNmPtAshp3s3t2Ge6F9Hiq1GnzCQm16z1xKsf0dAGv8N6XjyfTD+b4wz/CNGeIILPL+bNJkHp3GDg3MAdUk79EGUoas13QtOpJdxRBRr/CQdJTgAbwHVY2rcxiOciAph7GB9uGsGPg+OBUXIQhE23aoXz9XzCeGGVzZU7kIrLeTeTla07m6qTUG2lK4eHBF0SK3akHHis8nVHTs9O5NoH74g8XJrIEqEwAHlkERYLeVtD2jIQOTybjqVeq0r1QOc7GFjhCag2XCwyL0OsJIqAmsYekesxbCYV6LXL6cjaP9QU6faVmx13EKucMofYE9z7nHMkEgYH+gS+GLgDBM1gJzHjpyNy8eI3FFlxEiJJIBWgk/reJcANjAKLCfDHEX6SEK2Cg5y7Ch5BkHSIVYwxYhz2WOf+RNOKCVSMFdf1XC8DBGWjnBWVWREr6B1eVgpE6ctDpXQHRcpv5q1fHcBTUdYOheM7IkBVKVhBAT6rG07RAkx6J1R6h5UO4Up9OxNdakBO/VrSLbt4rnGO4aAjPJ2cbloFo6DVrAUYcU14pu9t3rWiCDmlvlDdMhS+WJGiihKZ+xn9f1PP29apdvP2HfvOmQPPOvfzmffAt8DnfC4n2yrrY8alnObBftGREvPhkGqR6Afdc3P1iBq7Q098AjnCfEg4OnPttp3DkD1p9Wax3IwBDKKWW7J55zMz0VJd8UiR79rVd/XZGfn443/KW29dkUuX3pDLl9+Ql156UfYU6F/+3cty9dq78usXLipn+USoFmklkeBcCYB7SD9KLIDghIu1JOSmflhRxbwlDX0W+Szk1XMv94XIktneNOuY9Su3aGSvhml9zBtVQy6quRRyyklHzj1CTI0wlECIoPSBOIicVCixOr8nUyMugRwB2GY00v9rKtLhT0N3RXwm7yZ0xLR4lAbwc3EqAfTPIQgcJUGQmA/naFaa5jSIgFaVX+f/xGHxQDjKe0WpFPf9syIFwHeYIAi2dzqcggjkUlcPHWH4DILsK8JwLYizm4Mj7Jvzqn10aIF0S5RAKmJAbcBeJpwsIIsaynew5HgBo1wJNYLqooCCuBPdGLqtLucLOVXxbTZQznA8lsZRSwGhpMCq3FB/Q1cgepaaTXzHmw3wxjHVe3FyMSaF1hgTJbh+RN1gnp3IpcjFvao11KQpJxGhZEdagboEOdIIcrJcWhgL60MNXZCf46jmPcThjCBEuXSgoiIxTPTtO5K3374i9+7elg8/fF+ef/6inj+QK1f+or+/Ka/+/hXZuLUh71x9S3743Pfk0huvea9wKF2iwzAHMu1AkgDOoJhYyirFvBISONW2Kdmzoa85CB9Ihj+IIE84B/fxW7QnyGe3FLnKKmp1JLt135ymAaiME5wkkC2AMJAGqaKJn+1kco4g4WYIvQFEOVbxuIGfCgRIOAi6aFiv4p3smK+jMAIp0ghzrqBzJHO1PR25hTLcGyGmcV8rKYqBHm0ilrVYHuF1HJrN2W92ESQ++8Aox2TJQfFR0D23gzP/8Rve2KaKVkMVCaioPlXgWpwqEOuiEFK8XGGV4CWwVYeOQA4xIexdk//RD9AhTO8hXBqrxMQb5+BEjPwLE6NMdOLlxhZi0B2gP02NesZhlGLubaH9N1/cKIGJaOLvFe0ckKdB1iiO3DZ5tKKcYEpm4ZTxhtZTMApDpBFkpHOAy3FsKyBlt1V83C0kRKdiyjZVQKzQwYTYso4lgwEERdUnVquZNcTEkvfu1Tfl5q1PpaFAn1MuUK4cWKwaXMn6PBLH1PHGoOyVcRBMs4mOBeezNdS1PV1SGFwJguoxcIB8ZjeJbF6cG1zQZaz21pDyQRMlFocm4mIw6DZrlgdTVLETcXAygMg4AYv74xzAGADJb20VKUl9nWLRs3VeI0hQfnwWJDfBQfDPWNi7rmm5gsia5LEn4xpRTZAhDeBp5DhHEjhEcl8QZ+Mms3WoFQdz6WJJRFTWa/4D4Oheg1JsCioAAAAASUVORK5CYII=' width='200' height='133' class=\"itemThumbnail\">\n",
       "                       </a>\n",
       "                    </div>\n",
       "\n",
       "                    <div class=\"item_right\"     style=\"float: none; width: auto; overflow: hidden;\">\n",
       "                        <a href='https://www.arcgis.com/home/item.html?id=395495bd1b2a484da06202eee5e92bbf' target='_blank'><b>Titik Intranet Diskominfotik Pemprov DKI Jakarta</b>\n",
       "                        </a>\n",
       "                        <br/>Titik Intranet Diskominfotik Pemprov DKI Jakarta<img src='https://www.arcgis.com/home/js/jsapi/esri/css/images/item_type_icons/featureshosted16.png' style=\"vertical-align:middle;\">Feature Layer Collection by adminjakartagis\n",
       "                        <br/>Last Modified: August 10, 2020\n",
       "                        <br/>0 comments, 11,097 views\n",
       "                    </div>\n",
       "                </div>\n",
       "                "
      ],
      "text/plain": [
       "<Item title:\"Titik Intranet Diskominfotik Pemprov DKI Jakarta\" type:Feature Layer Collection owner:adminjakartagis>"
      ]
     },
     "execution_count": 57,
     "metadata": {},
     "output_type": "execute_result"
    }
   ],
   "source": [
    "# Menambahkan Layer dari ArcGIS Public\n",
    "# Title: Titik Intranet Diskominfotik Pemprov DKI Jakarta | Type: Feature Service | Owner: adminjakartagis\n",
    "titik_intranet = gis1.content.get(\"395495bd1b2a484da06202eee5e92bbf\")\n",
    "titik_intranet"
   ]
  },
  {
   "cell_type": "markdown",
   "metadata": {},
   "source": [
    "Analisis spasial dilakukan dengan memanggil method yang sesuai dari modul features atau raster. Contoh berikut melakukan analisis densitas pada data yang dipanggil dari server publik ArcGIS"
   ]
  },
  {
   "cell_type": "code",
   "execution_count": 58,
   "metadata": {},
   "outputs": [],
   "source": [
    "# melakukan analisis densitas\n",
    "analisis_density = features.analyze_patterns.calculate_density(titik_intranet)"
   ]
  },
  {
   "cell_type": "markdown",
   "metadata": {},
   "source": [
    "Hasil analisis, sebagaimana layer lain, dapat ditambahkan pada peta"
   ]
  },
  {
   "cell_type": "code",
   "execution_count": 59,
   "metadata": {
    "scrolled": false
   },
   "outputs": [
    {
     "data": {
      "application/vnd.jupyter.widget-view+json": {
       "model_id": "7d1957df14524405a99975e68d710f84",
       "version_major": 2,
       "version_minor": 0
      },
      "text/plain": [
       "MapView(layout=Layout(height='400px', width='100%'))"
      ]
     },
     "metadata": {},
     "output_type": "display_data"
    },
    {
     "data": {
      "text/html": [
       "<div class=\"map-static-img-preview-65397e52-c7c0-467b-aadf-e8f89224e137\"><img src=\"\"></img></div>"
      ],
      "text/plain": [
       "<IPython.core.display.HTML object>"
      ]
     },
     "metadata": {},
     "output_type": "display_data"
    }
   ],
   "source": [
    "peta_kepadatan = gis1.map(\"Jakarta\")\n",
    "\n",
    "peta_kepadatan"
   ]
  },
  {
   "cell_type": "code",
   "execution_count": 60,
   "metadata": {},
   "outputs": [],
   "source": [
    "peta_kepadatan.add_layer(titik_intranet)\n",
    "peta_kepadatan.add_layer(analisis_density)"
   ]
  },
  {
   "cell_type": "markdown",
   "metadata": {},
   "source": [
    "Contoh lain penggunaan analisis adalah sebagai berikut: pada tiap layer dilakukan buffer sejauh 500 meter"
   ]
  },
  {
   "cell_type": "code",
   "execution_count": 66,
   "metadata": {
    "scrolled": true
   },
   "outputs": [],
   "source": [
    "buff = features.use_proximity.create_buffers(titik_intranet, distances=[5000], units='Meters')\n"
   ]
  },
  {
   "cell_type": "code",
   "execution_count": 67,
   "metadata": {},
   "outputs": [
    {
     "data": {
      "text/plain": [
       "<FeatureCollection>"
      ]
     },
     "execution_count": 67,
     "metadata": {},
     "output_type": "execute_result"
    }
   ],
   "source": [
    "buff"
   ]
  },
  {
   "cell_type": "markdown",
   "metadata": {},
   "source": [
    "Terakhir, data hasil analisis juga bisa ditambahkan ke dalam peta"
   ]
  },
  {
   "cell_type": "code",
   "execution_count": 68,
   "metadata": {},
   "outputs": [],
   "source": [
    "peta_kepadatan.add_layer(buff)"
   ]
  }
 ],
 "metadata": {
  "esriNotebookRuntime": {
   "notebookRuntimeName": "ArcGIS Notebook Python 3 Advanced",
   "notebookRuntimeVersion": "4.0"
  },
  "kernelspec": {
   "display_name": "Python 3",
   "language": "python",
   "name": "python3"
  },
  "language_info": {
   "codemirror_mode": {
    "name": "ipython",
    "version": 3
   },
   "file_extension": ".py",
   "mimetype": "text/x-python",
   "name": "python",
   "nbconvert_exporter": "python",
   "pygments_lexer": "ipython3",
   "version": "3.6.10"
  }
 },
 "nbformat": 4,
 "nbformat_minor": 2
}
