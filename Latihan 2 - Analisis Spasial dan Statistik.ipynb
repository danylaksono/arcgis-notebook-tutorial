{
 "cells": [
  {
   "cell_type": "markdown",
   "metadata": {},
   "source": [
    "## Latihan 2: Analisis Spasial dan Statistik\n"
   ]
  },
  {
   "cell_type": "markdown",
   "metadata": {},
   "source": [
    "Latihan ini memberikan pandangan mengenai bagaimana data spasial pada Portal ArcGIS dapat dianalisis dan divisualisasikan dalam bentuk peta dan grafis."
   ]
  },
  {
   "cell_type": "markdown",
   "metadata": {},
   "source": [
    "### Inisiasi Pemanggilan Modul"
   ]
  },
  {
   "cell_type": "code",
   "execution_count": 160,
   "metadata": {},
   "outputs": [],
   "source": [
    "import pandas as pd\n",
    "import seaborn as sns\n",
    "import matplotlib.pyplot as plt\n",
    "#from arcgis.features import GeoAccessor, GeoSeriesAccessor\n",
    "\n",
    "\n",
    "# Melakukan koneksi ke ArcGIS Online versi Learn\n",
    "from arcgis.gis import GIS\n",
    "gis = GIS(\"home\")"
   ]
  },
  {
   "cell_type": "markdown",
   "metadata": {},
   "source": [
    "### Memanggil data dari Portal"
   ]
  },
  {
   "cell_type": "code",
   "execution_count": 171,
   "metadata": {
    "scrolled": false
   },
   "outputs": [],
   "source": [
    "# Mencari layer dari Portal\n",
    "#candi = gis.content.search(\"candi_feature\", \"Feature Layer\", outside_org='true')[0]\n",
    "candi = gis.content.get(\"77140b3593ac4381b6a05abb5b80f502\")\n",
    "# Menyimpan sebagai Feature Layer\n",
    "flRetribusi = candi.layers[0]"
   ]
  },
  {
   "cell_type": "code",
   "execution_count": 172,
   "metadata": {},
   "outputs": [
    {
     "name": "stdout",
     "output_type": "stream",
     "text": [
      "id\n",
      "tipe\n",
      "geom_wkt_type\n",
      "geom_wkt_coordinates_0\n",
      "geom_wkt_coordinates_1\n",
      "geom\n",
      "nama\n",
      "jenis\n",
      "desa\n",
      "kecamatan\n",
      "kabupaten\n",
      "provinsi\n",
      "x\n",
      "y\n",
      "deskripsi\n",
      "latarsejarah\n",
      "luasbangunan\n",
      "luaslahan\n",
      "ObjectId\n"
     ]
    }
   ],
   "source": [
    "# Menampilkan seluruh nama kolom\n",
    "for f in flRetribusi.properties.fields:\n",
    "    print(f['name'])"
   ]
  },
  {
   "cell_type": "markdown",
   "metadata": {},
   "source": [
    "### Konversi data menjadi Spatial Data Frame"
   ]
  },
  {
   "cell_type": "code",
   "execution_count": 173,
   "metadata": {},
   "outputs": [
    {
     "data": {
      "text/html": [
       "<div>\n",
       "<style scoped>\n",
       "    .dataframe tbody tr th:only-of-type {\n",
       "        vertical-align: middle;\n",
       "    }\n",
       "\n",
       "    .dataframe tbody tr th {\n",
       "        vertical-align: top;\n",
       "    }\n",
       "\n",
       "    .dataframe thead th {\n",
       "        text-align: right;\n",
       "    }\n",
       "</style>\n",
       "<table border=\"1\" class=\"dataframe\">\n",
       "  <thead>\n",
       "    <tr style=\"text-align: right;\">\n",
       "      <th></th>\n",
       "      <th>id</th>\n",
       "      <th>tipe</th>\n",
       "      <th>geom_wkt_type</th>\n",
       "      <th>geom_wkt_coordinates_0</th>\n",
       "      <th>geom_wkt_coordinates_1</th>\n",
       "      <th>geom</th>\n",
       "      <th>nama</th>\n",
       "      <th>jenis</th>\n",
       "      <th>desa</th>\n",
       "      <th>kecamatan</th>\n",
       "      <th>kabupaten</th>\n",
       "      <th>provinsi</th>\n",
       "      <th>x</th>\n",
       "      <th>y</th>\n",
       "      <th>deskripsi</th>\n",
       "      <th>latarsejarah</th>\n",
       "      <th>luasbangunan</th>\n",
       "      <th>luaslahan</th>\n",
       "      <th>ObjectId</th>\n",
       "      <th>SHAPE</th>\n",
       "    </tr>\n",
       "  </thead>\n",
       "  <tbody>\n",
       "    <tr>\n",
       "      <th>0</th>\n",
       "      <td>1255</td>\n",
       "      <td>POINT</td>\n",
       "      <td>Point</td>\n",
       "      <td>110.832300</td>\n",
       "      <td>-6.804000</td>\n",
       "      <td>0101000020E61000007E1D386744B55B409DEFA7C64B37...</td>\n",
       "      <td>Komplek Peninggalan Sunan Kudus</td>\n",
       "      <td>Masjid, Makam, Menara</td>\n",
       "      <td>Kauman</td>\n",
       "      <td>Kudus Kota</td>\n",
       "      <td>Kudus</td>\n",
       "      <td>Jawa Tengah</td>\n",
       "      <td>-6.804047</td>\n",
       "      <td>110.832304</td>\n",
       "      <td>None</td>\n",
       "      <td>None</td>\n",
       "      <td>859.42</td>\n",
       "      <td>21886,5 m2</td>\n",
       "      <td>1</td>\n",
       "      <td>{\"x\": 12337795.644725297, \"y\": -759209.5815613...</td>\n",
       "    </tr>\n",
       "    <tr>\n",
       "      <th>1</th>\n",
       "      <td>1256</td>\n",
       "      <td>POINT</td>\n",
       "      <td>Point</td>\n",
       "      <td>110.637200</td>\n",
       "      <td>-6.894400</td>\n",
       "      <td>0101000020E6100000B84082E2C7A85B405A2BF697DD93...</td>\n",
       "      <td>Masjid Agung Demak</td>\n",
       "      <td>Masjid</td>\n",
       "      <td>Bintoro/Kauman</td>\n",
       "      <td>Demak</td>\n",
       "      <td>Demak</td>\n",
       "      <td>Jawa Tengah</td>\n",
       "      <td>-6.894444</td>\n",
       "      <td>110.637222</td>\n",
       "      <td>None</td>\n",
       "      <td>None</td>\n",
       "      <td>533.10</td>\n",
       "      <td>15000 m2</td>\n",
       "      <td>2</td>\n",
       "      <td>{\"x\": 12316079.215822363, \"y\": -769344.8623569...</td>\n",
       "    </tr>\n",
       "    <tr>\n",
       "      <th>2</th>\n",
       "      <td>1257</td>\n",
       "      <td>POINT</td>\n",
       "      <td>Point</td>\n",
       "      <td>110.203771</td>\n",
       "      <td>-7.607712</td>\n",
       "      <td>0101000020E6100000E33785950A8D5B40098CF50D4C6E...</td>\n",
       "      <td>Taman Wisata Candi Borobudur</td>\n",
       "      <td>Candi</td>\n",
       "      <td>None</td>\n",
       "      <td>None</td>\n",
       "      <td>None</td>\n",
       "      <td>None</td>\n",
       "      <td>-7.607712</td>\n",
       "      <td>110.203771</td>\n",
       "      <td>None</td>\n",
       "      <td>None</td>\n",
       "      <td>NaN</td>\n",
       "      <td>10191000</td>\n",
       "      <td>3</td>\n",
       "      <td>{\"x\": 12267827.67121853, \"y\": -849386.14638993...</td>\n",
       "    </tr>\n",
       "    <tr>\n",
       "      <th>3</th>\n",
       "      <td>1258</td>\n",
       "      <td>POINT</td>\n",
       "      <td>Point</td>\n",
       "      <td>110.492009</td>\n",
       "      <td>-7.751922</td>\n",
       "      <td>0101000020E61000009C1551137D9F5B4058923CD7F701...</td>\n",
       "      <td>Taman Wisata Candi Prambanan</td>\n",
       "      <td>Candi</td>\n",
       "      <td>None</td>\n",
       "      <td>None</td>\n",
       "      <td>None</td>\n",
       "      <td>None</td>\n",
       "      <td>-7.751922</td>\n",
       "      <td>110.492009</td>\n",
       "      <td>None</td>\n",
       "      <td>None</td>\n",
       "      <td>NaN</td>\n",
       "      <td>7400000</td>\n",
       "      <td>4</td>\n",
       "      <td>{\"x\": 12299914.1786058, \"y\": -865584.831306829...</td>\n",
       "    </tr>\n",
       "    <tr>\n",
       "      <th>4</th>\n",
       "      <td>1259</td>\n",
       "      <td>POINT</td>\n",
       "      <td>Point</td>\n",
       "      <td>110.834488</td>\n",
       "      <td>-7.455752</td>\n",
       "      <td>0101000020E6100000E2395B4068B55B40AC58FCA6B0D2...</td>\n",
       "      <td>Daerah Sangiran</td>\n",
       "      <td>Cagar Budaya</td>\n",
       "      <td>None</td>\n",
       "      <td>None</td>\n",
       "      <td>Sragen dan Karanganyar</td>\n",
       "      <td>Jawa Tengah</td>\n",
       "      <td>-7.455752</td>\n",
       "      <td>110.834488</td>\n",
       "      <td>None</td>\n",
       "      <td>None</td>\n",
       "      <td>NaN</td>\n",
       "      <td>None</td>\n",
       "      <td>5</td>\n",
       "      <td>{\"x\": 12338038.76649319, \"y\": -832322.81619620...</td>\n",
       "    </tr>\n",
       "  </tbody>\n",
       "</table>\n",
       "</div>"
      ],
      "text/plain": [
       "     id   tipe geom_wkt_type  geom_wkt_coordinates_0  geom_wkt_coordinates_1  \\\n",
       "0  1255  POINT         Point              110.832300               -6.804000   \n",
       "1  1256  POINT         Point              110.637200               -6.894400   \n",
       "2  1257  POINT         Point              110.203771               -7.607712   \n",
       "3  1258  POINT         Point              110.492009               -7.751922   \n",
       "4  1259  POINT         Point              110.834488               -7.455752   \n",
       "\n",
       "                                                geom  \\\n",
       "0  0101000020E61000007E1D386744B55B409DEFA7C64B37...   \n",
       "1  0101000020E6100000B84082E2C7A85B405A2BF697DD93...   \n",
       "2  0101000020E6100000E33785950A8D5B40098CF50D4C6E...   \n",
       "3  0101000020E61000009C1551137D9F5B4058923CD7F701...   \n",
       "4  0101000020E6100000E2395B4068B55B40AC58FCA6B0D2...   \n",
       "\n",
       "                              nama                  jenis            desa  \\\n",
       "0  Komplek Peninggalan Sunan Kudus  Masjid, Makam, Menara          Kauman   \n",
       "1               Masjid Agung Demak                 Masjid  Bintoro/Kauman   \n",
       "2     Taman Wisata Candi Borobudur                  Candi            None   \n",
       "3     Taman Wisata Candi Prambanan                  Candi            None   \n",
       "4                  Daerah Sangiran           Cagar Budaya            None   \n",
       "\n",
       "    kecamatan               kabupaten     provinsi         x           y  \\\n",
       "0  Kudus Kota                   Kudus  Jawa Tengah -6.804047  110.832304   \n",
       "1       Demak                   Demak  Jawa Tengah -6.894444  110.637222   \n",
       "2        None                    None         None -7.607712  110.203771   \n",
       "3        None                    None         None -7.751922  110.492009   \n",
       "4        None  Sragen dan Karanganyar  Jawa Tengah -7.455752  110.834488   \n",
       "\n",
       "  deskripsi latarsejarah  luasbangunan   luaslahan  ObjectId  \\\n",
       "0      None         None        859.42  21886,5 m2         1   \n",
       "1      None         None        533.10    15000 m2         2   \n",
       "2      None         None           NaN    10191000         3   \n",
       "3      None         None           NaN     7400000         4   \n",
       "4      None         None           NaN        None         5   \n",
       "\n",
       "                                               SHAPE  \n",
       "0  {\"x\": 12337795.644725297, \"y\": -759209.5815613...  \n",
       "1  {\"x\": 12316079.215822363, \"y\": -769344.8623569...  \n",
       "2  {\"x\": 12267827.67121853, \"y\": -849386.14638993...  \n",
       "3  {\"x\": 12299914.1786058, \"y\": -865584.831306829...  \n",
       "4  {\"x\": 12338038.76649319, \"y\": -832322.81619620...  "
      ]
     },
     "execution_count": 173,
     "metadata": {},
     "output_type": "execute_result"
    }
   ],
   "source": [
    "sdf = pd.DataFrame.spatial.from_layer(flRetribusi)\n",
    "sdf.head()"
   ]
  },
  {
   "cell_type": "code",
   "execution_count": 179,
   "metadata": {},
   "outputs": [
    {
     "data": {
      "application/vnd.jupyter.widget-view+json": {
       "model_id": "eb7b6503c2cd4643abffeef79ce6e1c3",
       "version_major": 2,
       "version_minor": 0
      },
      "text/plain": [
       "MapView(layout=Layout(height='400px', width='100%'))"
      ]
     },
     "metadata": {},
     "output_type": "display_data"
    },
    {
     "data": {
      "text/html": [
       "<div class=\"map-static-img-preview-631089a1-56a3-40a0-bd8a-ca75a8d799ff\"><img src=\"\"></img></div>"
      ],
      "text/plain": [
       "<IPython.core.display.HTML object>"
      ]
     },
     "metadata": {},
     "output_type": "display_data"
    }
   ],
   "source": [
    "# Membuat peta untuk melihat sebaran awal data\n",
    "\n",
    "peta_sebaran = gis.map(\"Indonesia\")\n",
    "peta_sebaran"
   ]
  },
  {
   "cell_type": "code",
   "execution_count": 174,
   "metadata": {},
   "outputs": [
    {
     "data": {
      "text/plain": [
       "735"
      ]
     },
     "execution_count": 174,
     "metadata": {},
     "output_type": "execute_result"
    }
   ],
   "source": [
    "len(sdf)"
   ]
  },
  {
   "cell_type": "code",
   "execution_count": 180,
   "metadata": {},
   "outputs": [
    {
     "data": {
      "text/plain": [
       "True"
      ]
     },
     "execution_count": 180,
     "metadata": {},
     "output_type": "execute_result"
    }
   ],
   "source": [
    "# melakukan plotting menggunakan fungsi SDF\n",
    "sdf.spatial.plot(map_widget= peta_sebaran)"
   ]
  },
  {
   "cell_type": "markdown",
   "metadata": {},
   "source": [
    "### Visualisasi Peta dan Grafis"
   ]
  },
  {
   "cell_type": "code",
   "execution_count": 177,
   "metadata": {},
   "outputs": [
    {
     "data": {
      "text/plain": [
       "True"
      ]
     },
     "execution_count": 177,
     "metadata": {},
     "output_type": "execute_result"
    }
   ],
   "source": [
    "sdf.spatial.plot(map_widget=peta_sebaran, renderer_type='h')"
   ]
  },
  {
   "cell_type": "code",
   "execution_count": 181,
   "metadata": {},
   "outputs": [
    {
     "data": {
      "image/png": "[encoded data removed]",
      "text/plain": [
       "<Figure size 648x1080 with 1 Axes>"
      ]
     },
     "metadata": {
      "needs_background": "light"
     },
     "output_type": "display_data"
    }
   ],
   "source": [
    "plt.figure(figsize=(9,15))\n",
    "ax=sns.countplot(y='provinsi', data=sdf)"
   ]
  },
  {
   "cell_type": "code",
   "execution_count": 193,
   "metadata": {},
   "outputs": [
    {
     "data": {
      "text/plain": [
       "True"
      ]
     },
     "execution_count": 193,
     "metadata": {},
     "output_type": "execute_result"
    }
   ],
   "source": [
    "sdf.spatial.plot(map_widget = peta_sebaran, \n",
    "                     renderer_type='c', # for classs breaks renderer\n",
    "                     method='esriClassifyNaturalBreaks',  # classification scheme\n",
    "                     class_count=5, \n",
    "                     col='y',\n",
    "                     cmap='Reds',  # matplotlib color map\n",
    "                     #alpha=0.7,\n",
    "                     outline_color=[0,0,0,0])"
   ]
  },
  {
   "cell_type": "markdown",
   "metadata": {},
   "source": [
    "### Membangun Histogram dari Atribut Peta"
   ]
  },
  {
   "cell_type": "code",
   "execution_count": 203,
   "metadata": {
    "scrolled": true
   },
   "outputs": [
    {
     "data": {
      "text/plain": [
       "dict_keys(['type', 'visualVariables', 'rotationType', 'minValue', 'field', 'defaultSymbol', 'defaultLabel', 'classificationMethod', 'classBreakInfos'])"
      ]
     },
     "execution_count": 203,
     "metadata": {},
     "output_type": "execute_result"
    }
   ],
   "source": [
    "# mencari dictionary dari layer pada simbologi peta\n",
    "dict(peta_sebaran.layers[5].layer.layerDefinition.drawingInfo.renderer).keys()"
   ]
  },
  {
   "cell_type": "code",
   "execution_count": 202,
   "metadata": {},
   "outputs": [
    {
     "name": "stdout",
     "output_type": "stream",
     "text": [
      "5\n"
     ]
    }
   ],
   "source": [
    "# layer urutan ke enam\n",
    "class_breaks = peta_sebaran.layers[5].layer.layerDefinition.drawingInfo.renderer.classBreakInfos\n",
    "print(len(class_breaks))"
   ]
  },
  {
   "cell_type": "code",
   "execution_count": 205,
   "metadata": {},
   "outputs": [
    {
     "name": "stdout",
     "output_type": "stream",
     "text": [
      "95.315144 - 106.62219125\n",
      "106.62219125 - 117.9292385\n",
      "117.9292385 - 129.23628574999998\n",
      "129.23628574999998 - 140.543333\n",
      "140.543333 - 140.543333\n"
     ]
    }
   ],
   "source": [
    "cbs_list = []\n",
    "cmap_list = []\n",
    "for cb in class_breaks:\n",
    "    print(cb.description)  # print the class break labels\n",
    "    cbs_list.append(cb.classMaxValue)\n",
    "    cmap_list.append([x/255.0 for x in cb.symbol.color])"
   ]
  },
  {
   "cell_type": "code",
   "execution_count": 207,
   "metadata": {},
   "outputs": [
    {
     "data": {
      "text/plain": [
       "Text(0.5, 1.0, 'Histogram sebaran bangunan di garis bujur')"
      ]
     },
     "execution_count": 207,
     "metadata": {},
     "output_type": "execute_result"
    },
    {
     "data": {
      "image/png": "[encoded data removed]",
      "text/plain": [
       "<Figure size 432x288 with 1 Axes>"
      ]
     },
     "metadata": {
      "needs_background": "light"
     },
     "output_type": "display_data"
    }
   ],
   "source": [
    "# build a histogram for the same class breaks\n",
    "n, bins, patches = plt.hist(sdf['y'], bins=cbs_list)\n",
    "\n",
    "# apply the same color for each class to match the map\n",
    "idx = 0\n",
    "for c, p in zip(bins, patches):\n",
    "    plt.setp(p, 'facecolor', cmap_list[idx])\n",
    "    idx+=1\n",
    "\n",
    "plt.title('Histogram sebaran bangunan di garis bujur')"
   ]
  }
 ],
 "metadata": {
  "esriNotebookRuntime": {
   "notebookRuntimeName": "ArcGIS Notebook Python 3 Advanced",
   "notebookRuntimeVersion": "4.0"
  },
  "kernelspec": {
   "display_name": "Python 3",
   "language": "python",
   "name": "python3"
  },
  "language_info": {
   "codemirror_mode": {
    "name": "ipython",
    "version": 3
   },
   "file_extension": ".py",
   "mimetype": "text/x-python",
   "name": "python",
   "nbconvert_exporter": "python",
   "pygments_lexer": "ipython3",
   "version": "3.6.10"
  }
 },
 "nbformat": 4,
 "nbformat_minor": 2
}
