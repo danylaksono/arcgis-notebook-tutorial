{
 "cells": [
  {
   "cell_type": "markdown",
   "metadata": {},
   "source": [
    "# Latihan 5: Object Counting dengan Scikit-Image\n",
    "\n",
    "Pada latihan berikut, ArcGIS Notebook akan dimanfaatkan untuk melakukan object counting melalui fungsi `arcgis.raster` dan library Scikit yang tersedia pada Python. Untuk dapat menggunakan notebook ini, beberapa library berikut harus terlebih dahulu terinstall:\n",
    "\n",
    "```\n",
    "conda install scipy\n",
    "conda install matplotlib\n",
    "conda install scikit-image\n",
    "```"
   ]
  },
  {
   "cell_type": "markdown",
   "metadata": {},
   "source": [
    "### Inisiasi Modul-modul Python"
   ]
  },
  {
   "cell_type": "code",
   "execution_count": null,
   "metadata": {},
   "outputs": [],
   "source": [
    "from arcgis.raster.functions import ndvi, stretch\n",
    "from skimage import feature, color\n",
    "import matplotlib.pyplot as plt\n",
    "\n",
    "from arcgis.gis import GIS\n",
    "agol = GIS()"
   ]
  },
  {
   "cell_type": "markdown",
   "metadata": {},
   "source": [
    "### Penyiapan Data"
   ]
  },
  {
   "cell_type": "code",
   "execution_count": null,
   "metadata": {},
   "outputs": [],
   "source": [
    "l8 = agol.content.search('\"Multispectral Landsat\"', 'Imagery Layer')[0]\n",
    "l8"
   ]
  },
  {
   "cell_type": "code",
   "execution_count": null,
   "metadata": {},
   "outputs": [],
   "source": [
    "l8lyr = l8.layers[0]"
   ]
  },
  {
   "cell_type": "markdown",
   "metadata": {},
   "source": [
    "Baris kode berikut mendefinisikan extent dari citra Landsat yang akan diolah:"
   ]
  },
  {
   "cell_type": "code",
   "execution_count": null,
   "metadata": {},
   "outputs": [],
   "source": [
    "l8lyr.extent = {'spatialReference': {'latestWkid': 3857, 'wkid': 102100},\n",
    "                                         'type': 'extent',\n",
    "                                         'xmax': 4296559.143733407,\n",
    "                                         'xmin': 4219969.241391764,\n",
    "                                         'ymax': 3522726.823081019,\n",
    "                                         'ymin': 3492152.0117669892}\n",
    "l8lyr"
   ]
  },
  {
   "cell_type": "markdown",
   "metadata": {},
   "source": [
    "### Preprocessing Citra"
   ]
  },
  {
   "cell_type": "markdown",
   "metadata": {},
   "source": [
    "Dengan menggunakan metode `arcgis.raster`, preprocessing citra dapat dilakukan sebelum klasifikasi menggunakan scikit-image. "
   ]
  },
  {
   "cell_type": "code",
   "execution_count": null,
   "metadata": {},
   "outputs": [],
   "source": [
    "stretch(ndvi(l8lyr), stretch_type='PercentClip', min_percent=30, max_percent=70, dra=True)\n",
    "stretch()"
   ]
  },
  {
   "cell_type": "markdown",
   "metadata": {},
   "source": [
    "Hasil dari analisis yang sudah dilakukan di atas kemudian disimpan dengan menggunakan fungsi pada matplotlib sebagai file baru, kemudian ditampilkan dengan fungsi plotting dari Matplotlib"
   ]
  },
  {
   "cell_type": "code",
   "execution_count": null,
   "metadata": {},
   "outputs": [],
   "source": [
    "img = stretch(ndvi(l8lyr), stretch_type='PercentClip', min_percent=30, max_percent=70, dra=True).export_image(bbox=l8lyr.extent, bbox_sr=102100, size=[1200, 450],\n",
    "                       export_format='jpeg', save_folder='.', save_file='centerpivotfarms.jpg', f='image')"
   ]
  },
  {
   "cell_type": "code",
   "execution_count": null,
   "metadata": {},
   "outputs": [],
   "source": [
    "import matplotlib.pyplot as plt\n",
    "import matplotlib.image as mpimg\n",
    "\n",
    "img = mpimg.imread('centerpivotfarms.jpg')\n",
    "\n",
    "# what does it look like?\n",
    "plt.imshow(img)\n",
    "plt.show()"
   ]
  },
  {
   "cell_type": "markdown",
   "metadata": {},
   "source": [
    "## Deteksi Blob dengan scikit-image\n",
    "\n",
    "Blob dideteksi dengan menggunakan Scikit-image untuk kemudian diplot dengan Matplotlib. Blob dideteksi menggunakan algoritma [Difference of Gaussian (DoG)](http://scikit-image.org/docs/dev/api/skimage.feature.html#skimage.feature.blob_dog)."
   ]
  },
  {
   "cell_type": "code",
   "execution_count": null,
   "metadata": {},
   "outputs": [],
   "source": [
    "\n",
    "bw = img.mean(axis=2)\n",
    "\n",
    "fig = plt.figure(figsize = (15,15))\n",
    "ax = fig.add_subplot(1,1,1)\n",
    "\n",
    "blobs_dog = [(x[0],x[1],x[2]) for x in feature.blob_dog(-bw, \n",
    "                                                        min_sigma=4, \n",
    "                                                        max_sigma=8,\n",
    "                                                        threshold=0.1,\n",
    "                                                        overlap=0.6)]\n",
    "\n",
    "#remove duplicates\n",
    "blobs_dog = set(blobs_dog)\n",
    "\n",
    "img_blobs = color.gray2rgb(img)\n",
    "\n",
    "for blob in blobs_dog:\n",
    "    y, x, r = blob\n",
    "    c = plt.Circle((x, y), r+1, color='red', linewidth=2, fill=False)\n",
    "    ax.add_patch(c)\n",
    "\n",
    "plt.imshow(img_blobs)\n",
    "plt.title('Pertanian Lingkar')\n",
    "\n",
    "plt.show()\n",
    "print('Jumlah pertanian lingkar terdekteksi: ' + str(len(blobs_dog)))"
   ]
  },
  {
   "cell_type": "code",
   "execution_count": null,
   "metadata": {},
   "outputs": [],
   "source": []
  }
 ],
 "metadata": {
  "anaconda-cloud": {},
  "esriNotebookRuntime": {
   "notebookRuntimeName": "ArcGIS Notebook Python 3 Standard",
   "notebookRuntimeVersion": "4.0"
  },
  "kernelspec": {
   "display_name": "Python 3",
   "language": "python",
   "name": "python3"
  },
  "language_info": {
   "codemirror_mode": {
    "name": "ipython",
    "version": 3
   },
   "file_extension": ".py",
   "mimetype": "text/x-python",
   "name": "python",
   "nbconvert_exporter": "python",
   "pygments_lexer": "ipython3",
   "version": "3.6.10"
  }
 },
 "nbformat": 4,
 "nbformat_minor": 4
}
